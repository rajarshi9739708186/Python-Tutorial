{
 "cells": [
  {
   "cell_type": "markdown",
   "id": "71ccbbe7",
   "metadata": {},
   "source": [
    "# Set"
   ]
  },
  {
   "cell_type": "markdown",
   "id": "b33044d7",
   "metadata": {},
   "source": [
    "It is a Collection<br>Unordered and Unindexed"
   ]
  },
  {
   "cell_type": "code",
   "execution_count": 2,
   "id": "9228a0c6",
   "metadata": {},
   "outputs": [],
   "source": [
    "a = {1, 2, 3, 4}"
   ]
  },
  {
   "cell_type": "code",
   "execution_count": 3,
   "id": "9406ee86",
   "metadata": {},
   "outputs": [
    {
     "data": {
      "text/plain": [
       "{1, 2, 3, 4}"
      ]
     },
     "execution_count": 3,
     "metadata": {},
     "output_type": "execute_result"
    }
   ],
   "source": [
    "a"
   ]
  },
  {
   "cell_type": "markdown",
   "id": "87784fb8",
   "metadata": {},
   "source": [
    "#### Addition/Deletion of Item"
   ]
  },
  {
   "cell_type": "markdown",
   "id": "78799ff6",
   "metadata": {},
   "source": [
    "Add an Item"
   ]
  },
  {
   "cell_type": "code",
   "execution_count": 4,
   "id": "40354b71",
   "metadata": {},
   "outputs": [],
   "source": [
    "a.add(5)"
   ]
  },
  {
   "cell_type": "code",
   "execution_count": 5,
   "id": "cf362d66",
   "metadata": {},
   "outputs": [
    {
     "data": {
      "text/plain": [
       "{1, 2, 3, 4, 5}"
      ]
     },
     "execution_count": 5,
     "metadata": {},
     "output_type": "execute_result"
    }
   ],
   "source": [
    "a"
   ]
  },
  {
   "cell_type": "markdown",
   "id": "1f700256",
   "metadata": {},
   "source": [
    "Delete an Item"
   ]
  },
  {
   "cell_type": "code",
   "execution_count": 6,
   "id": "7a2998f8",
   "metadata": {},
   "outputs": [],
   "source": [
    "a.remove(5)"
   ]
  },
  {
   "cell_type": "code",
   "execution_count": 7,
   "id": "9659bd7d",
   "metadata": {},
   "outputs": [
    {
     "data": {
      "text/plain": [
       "{1, 2, 3, 4}"
      ]
     },
     "execution_count": 7,
     "metadata": {},
     "output_type": "execute_result"
    }
   ],
   "source": [
    "a"
   ]
  },
  {
   "cell_type": "markdown",
   "id": "bf8acdfd",
   "metadata": {},
   "source": [
    "Delete all element"
   ]
  },
  {
   "cell_type": "code",
   "execution_count": 8,
   "id": "a792bcfd",
   "metadata": {},
   "outputs": [],
   "source": [
    "a.clear()"
   ]
  },
  {
   "cell_type": "code",
   "execution_count": 9,
   "id": "f74f45a1",
   "metadata": {},
   "outputs": [
    {
     "data": {
      "text/plain": [
       "set()"
      ]
     },
     "execution_count": 9,
     "metadata": {},
     "output_type": "execute_result"
    }
   ],
   "source": [
    "a"
   ]
  },
  {
   "cell_type": "code",
   "execution_count": 10,
   "id": "c6a9a70f",
   "metadata": {},
   "outputs": [],
   "source": [
    "a = {0, 1, 2, 3, 4}\n",
    "b = {1, 2, 3, 4, 5, 6}"
   ]
  },
  {
   "cell_type": "markdown",
   "id": "7d0f3dd7",
   "metadata": {},
   "source": [
    "#### Difference"
   ]
  },
  {
   "cell_type": "markdown",
   "id": "9625d00c",
   "metadata": {},
   "source": [
    "exist in a but not in b"
   ]
  },
  {
   "cell_type": "code",
   "execution_count": 11,
   "id": "08bcd5df",
   "metadata": {},
   "outputs": [
    {
     "data": {
      "text/plain": [
       "{0}"
      ]
     },
     "execution_count": 11,
     "metadata": {},
     "output_type": "execute_result"
    }
   ],
   "source": [
    "a-b"
   ]
  },
  {
   "cell_type": "code",
   "execution_count": 13,
   "id": "89afd40d",
   "metadata": {},
   "outputs": [
    {
     "data": {
      "text/plain": [
       "{0}"
      ]
     },
     "execution_count": 13,
     "metadata": {},
     "output_type": "execute_result"
    }
   ],
   "source": [
    "a.difference(b)"
   ]
  },
  {
   "cell_type": "markdown",
   "id": "5ddd01cb",
   "metadata": {},
   "source": [
    "exist in b but not in a"
   ]
  },
  {
   "cell_type": "code",
   "execution_count": 12,
   "id": "9542004b",
   "metadata": {},
   "outputs": [
    {
     "data": {
      "text/plain": [
       "{5, 6}"
      ]
     },
     "execution_count": 12,
     "metadata": {},
     "output_type": "execute_result"
    }
   ],
   "source": [
    "b-a"
   ]
  },
  {
   "cell_type": "code",
   "execution_count": 14,
   "id": "887ff1bd",
   "metadata": {},
   "outputs": [
    {
     "data": {
      "text/plain": [
       "{5, 6}"
      ]
     },
     "execution_count": 14,
     "metadata": {},
     "output_type": "execute_result"
    }
   ],
   "source": [
    "b.difference(a)"
   ]
  },
  {
   "cell_type": "markdown",
   "id": "e17da4a0",
   "metadata": {},
   "source": [
    "#### Intersection"
   ]
  },
  {
   "cell_type": "markdown",
   "id": "69d127e1",
   "metadata": {},
   "source": [
    "common in between a and b"
   ]
  },
  {
   "cell_type": "code",
   "execution_count": 15,
   "id": "f70825c5",
   "metadata": {},
   "outputs": [
    {
     "data": {
      "text/plain": [
       "{1, 2, 3, 4}"
      ]
     },
     "execution_count": 15,
     "metadata": {},
     "output_type": "execute_result"
    }
   ],
   "source": [
    "a.intersection(b)"
   ]
  },
  {
   "cell_type": "code",
   "execution_count": 16,
   "id": "572b8357",
   "metadata": {},
   "outputs": [
    {
     "data": {
      "text/plain": [
       "{1, 2, 3, 4}"
      ]
     },
     "execution_count": 16,
     "metadata": {},
     "output_type": "execute_result"
    }
   ],
   "source": [
    "b.intersection(a)"
   ]
  },
  {
   "cell_type": "code",
   "execution_count": 17,
   "id": "5dbba2c3",
   "metadata": {},
   "outputs": [],
   "source": [
    "a = {0, 1, 2, 3, 4}\n",
    "b = {1, 2, 3, 4, 5, 6}\n",
    "c = {100, 2, 3, 4, 500}"
   ]
  },
  {
   "cell_type": "markdown",
   "id": "b14d8efa",
   "metadata": {},
   "source": [
    "common in between a, b and c"
   ]
  },
  {
   "cell_type": "code",
   "execution_count": 18,
   "id": "e8b4c4fd",
   "metadata": {},
   "outputs": [
    {
     "data": {
      "text/plain": [
       "{2, 3, 4}"
      ]
     },
     "execution_count": 18,
     "metadata": {},
     "output_type": "execute_result"
    }
   ],
   "source": [
    "a.intersection(b,c)"
   ]
  },
  {
   "cell_type": "markdown",
   "id": "bbe2fa18",
   "metadata": {},
   "source": [
    "#### Union"
   ]
  },
  {
   "cell_type": "markdown",
   "id": "1ea307d0",
   "metadata": {},
   "source": [
    "All together from a, b and c"
   ]
  },
  {
   "cell_type": "code",
   "execution_count": 20,
   "id": "29557c60",
   "metadata": {},
   "outputs": [
    {
     "data": {
      "text/plain": [
       "{0, 1, 2, 3, 4, 5, 6, 100, 500}"
      ]
     },
     "execution_count": 20,
     "metadata": {},
     "output_type": "execute_result"
    }
   ],
   "source": [
    "a.union(b,c)"
   ]
  },
  {
   "cell_type": "code",
   "execution_count": 21,
   "id": "401a354a",
   "metadata": {},
   "outputs": [
    {
     "data": {
      "text/plain": [
       "{0, 1, 2, 3, 4, 5, 6, 100, 500}"
      ]
     },
     "execution_count": 21,
     "metadata": {},
     "output_type": "execute_result"
    }
   ],
   "source": [
    "b.union(a,c)"
   ]
  },
  {
   "cell_type": "code",
   "execution_count": 22,
   "id": "d0c5a660",
   "metadata": {},
   "outputs": [
    {
     "data": {
      "text/plain": [
       "{0, 1, 2, 3, 4, 5, 6, 100, 500}"
      ]
     },
     "execution_count": 22,
     "metadata": {},
     "output_type": "execute_result"
    }
   ],
   "source": [
    "c.union(a,b)"
   ]
  },
  {
   "cell_type": "markdown",
   "id": "13b22776",
   "metadata": {},
   "source": [
    "#### Superset/Subset"
   ]
  },
  {
   "cell_type": "code",
   "execution_count": 23,
   "id": "7d94d27d",
   "metadata": {},
   "outputs": [],
   "source": [
    "a = {0, 1, 2, 3, 4}\n",
    "b = {2, 3}"
   ]
  },
  {
   "cell_type": "markdown",
   "id": "1ec57163",
   "metadata": {},
   "source": [
    "All Element from b are present in a<br>b is subset of a,br>a is subset of b"
   ]
  },
  {
   "cell_type": "code",
   "execution_count": 24,
   "id": "98f0ec96",
   "metadata": {},
   "outputs": [
    {
     "data": {
      "text/plain": [
       "True"
      ]
     },
     "execution_count": 24,
     "metadata": {},
     "output_type": "execute_result"
    }
   ],
   "source": [
    "b.issubset(a)"
   ]
  },
  {
   "cell_type": "code",
   "execution_count": 25,
   "id": "4d4b51fd",
   "metadata": {},
   "outputs": [
    {
     "data": {
      "text/plain": [
       "True"
      ]
     },
     "execution_count": 25,
     "metadata": {},
     "output_type": "execute_result"
    }
   ],
   "source": [
    "a.issuperset(b)"
   ]
  },
  {
   "cell_type": "code",
   "execution_count": 26,
   "id": "34351177",
   "metadata": {},
   "outputs": [],
   "source": [
    "a = {0, 1, 2, 3, 4}\n",
    "b = {2, 3, 5}"
   ]
  },
  {
   "cell_type": "code",
   "execution_count": 27,
   "id": "e6914e55",
   "metadata": {},
   "outputs": [
    {
     "data": {
      "text/plain": [
       "False"
      ]
     },
     "execution_count": 27,
     "metadata": {},
     "output_type": "execute_result"
    }
   ],
   "source": [
    "b.issubset(a)"
   ]
  },
  {
   "cell_type": "code",
   "execution_count": 28,
   "id": "fcccf1ba",
   "metadata": {},
   "outputs": [
    {
     "data": {
      "text/plain": [
       "False"
      ]
     },
     "execution_count": 28,
     "metadata": {},
     "output_type": "execute_result"
    }
   ],
   "source": [
    "a.issuperset(b)"
   ]
  },
  {
   "cell_type": "markdown",
   "id": "fdbc38c2",
   "metadata": {},
   "source": [
    "#### Disjoint Set"
   ]
  },
  {
   "cell_type": "code",
   "execution_count": 29,
   "id": "3fdbadd5",
   "metadata": {},
   "outputs": [],
   "source": [
    "a = {1, 2}\n",
    "b = {3, 5}"
   ]
  },
  {
   "cell_type": "markdown",
   "id": "8e5d49ab",
   "metadata": {},
   "source": [
    "Nothing common in between a and b<br>a and b are Disjoint Set"
   ]
  },
  {
   "cell_type": "code",
   "execution_count": 31,
   "id": "f9a5630e",
   "metadata": {},
   "outputs": [
    {
     "data": {
      "text/plain": [
       "True"
      ]
     },
     "execution_count": 31,
     "metadata": {},
     "output_type": "execute_result"
    }
   ],
   "source": [
    "a.isdisjoint(b)"
   ]
  },
  {
   "cell_type": "code",
   "execution_count": 32,
   "id": "38973a18",
   "metadata": {},
   "outputs": [],
   "source": [
    "a = {1, 2}\n",
    "b = {3, 5, 1}"
   ]
  },
  {
   "cell_type": "code",
   "execution_count": 33,
   "id": "b2fd3a98",
   "metadata": {},
   "outputs": [
    {
     "data": {
      "text/plain": [
       "False"
      ]
     },
     "execution_count": 33,
     "metadata": {},
     "output_type": "execute_result"
    }
   ],
   "source": [
    "a.isdisjoint(b)"
   ]
  }
 ],
 "metadata": {
  "kernelspec": {
   "display_name": "Python 3 (ipykernel)",
   "language": "python",
   "name": "python3"
  },
  "language_info": {
   "codemirror_mode": {
    "name": "ipython",
    "version": 3
   },
   "file_extension": ".py",
   "mimetype": "text/x-python",
   "name": "python",
   "nbconvert_exporter": "python",
   "pygments_lexer": "ipython3",
   "version": "3.7.4"
  }
 },
 "nbformat": 4,
 "nbformat_minor": 5
}
