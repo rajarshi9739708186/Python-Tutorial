{
 "cells": [
  {
   "cell_type": "markdown",
   "id": "b5b0d066",
   "metadata": {},
   "source": [
    "#### Exception Handling"
   ]
  },
  {
   "cell_type": "markdown",
   "id": "6532105f",
   "metadata": {},
   "source": [
    "try:<br>this is the block of code to be attempted"
   ]
  },
  {
   "cell_type": "markdown",
   "id": "00c638b2",
   "metadata": {},
   "source": [
    "except:<br>this is the block of code will be executed if any error in try block"
   ]
  },
  {
   "cell_type": "markdown",
   "id": "065168e6",
   "metadata": {},
   "source": [
    "finally:<br>A final block of code to be executed regardless of any error"
   ]
  },
  {
   "cell_type": "code",
   "execution_count": 1,
   "id": "5dbd3582",
   "metadata": {},
   "outputs": [
    {
     "name": "stdout",
     "output_type": "stream",
     "text": [
      "Error Occured in try block\n",
      "Execution Over\n"
     ]
    }
   ],
   "source": [
    "try:\n",
    "    a = 10+\"10\"\n",
    "except:\n",
    "    print(\"Error Occured in try block\")\n",
    "else:\n",
    "    print(\"No Error in try block\")\n",
    "finally:\n",
    "    print(\"Execution Over\")"
   ]
  },
  {
   "cell_type": "code",
   "execution_count": 2,
   "id": "6cdf5e60",
   "metadata": {},
   "outputs": [
    {
     "name": "stdout",
     "output_type": "stream",
     "text": [
      "No Error in try block\n",
      "Execution Over\n"
     ]
    }
   ],
   "source": [
    "try:\n",
    "    a = 10+10\n",
    "except:\n",
    "    print(\"Error Occured in try block\")\n",
    "else:\n",
    "    print(\"No Error in try block\")\n",
    "finally:\n",
    "    print(\"Execution Over\")"
   ]
  },
  {
   "cell_type": "code",
   "execution_count": 3,
   "id": "7f590b38",
   "metadata": {},
   "outputs": [
    {
     "ename": "TypeError",
     "evalue": "unsupported operand type(s) for +: 'int' and 'str'",
     "output_type": "error",
     "traceback": [
      "\u001b[1;31m---------------------------------------------------------------------------\u001b[0m",
      "\u001b[1;31mTypeError\u001b[0m                                 Traceback (most recent call last)",
      "\u001b[1;32m~\\AppData\\Local\\Temp\\ipykernel_5124\\544419.py\u001b[0m in \u001b[0;36m<module>\u001b[1;34m\u001b[0m\n\u001b[1;32m----> 1\u001b[1;33m \u001b[1;36m10\u001b[0m\u001b[1;33m+\u001b[0m\u001b[1;34m\"10\"\u001b[0m\u001b[1;33m\u001b[0m\u001b[1;33m\u001b[0m\u001b[0m\n\u001b[0m",
      "\u001b[1;31mTypeError\u001b[0m: unsupported operand type(s) for +: 'int' and 'str'"
     ]
    }
   ],
   "source": [
    "10+\"10\""
   ]
  },
  {
   "cell_type": "code",
   "execution_count": 5,
   "id": "154368e8",
   "metadata": {},
   "outputs": [
    {
     "name": "stdout",
     "output_type": "stream",
     "text": [
      "Data Type Issue Occured\n"
     ]
    }
   ],
   "source": [
    "try:\n",
    "    a = 10+\"10\"\n",
    "except TypeError: # We can mention Error Name\n",
    "    print(\"Data Type Issue Occured\")\n",
    "except OSError: # We can mention Error Name\n",
    "    print(\"OS Issue\")\n",
    "except: # If above Error not encountered, then it will come to this default Except block\n",
    "    print(\"Some Other Issue\")\n",
    "else:\n",
    "    print(\"No Error in try block\")"
   ]
  },
  {
   "cell_type": "code",
   "execution_count": 6,
   "id": "dd20f5fd",
   "metadata": {},
   "outputs": [
    {
     "name": "stdout",
     "output_type": "stream",
     "text": [
      "Some Other Issue\n"
     ]
    }
   ],
   "source": [
    "try:\n",
    "    a = 10+\"10\"\n",
    "except OSError: # We can mention Error Name\n",
    "    print(\"OS Issue\")\n",
    "except: # If above Error not encountered, then it will come to this default Except block\n",
    "    print(\"Some Other Issue\")\n",
    "else:\n",
    "    print(\"No Error in try block\")"
   ]
  },
  {
   "cell_type": "code",
   "execution_count": 10,
   "id": "b19b22dc",
   "metadata": {},
   "outputs": [
    {
     "name": "stdout",
     "output_type": "stream",
     "text": [
      "unsupported operand type(s) for +: 'int' and 'str'\n"
     ]
    }
   ],
   "source": [
    "try:\n",
    "    a = 10+\"10\"\n",
    "except Exception as e: # We can check what exception raise like this\n",
    "    print(e)"
   ]
  }
 ],
 "metadata": {
  "kernelspec": {
   "display_name": "Python 3 (ipykernel)",
   "language": "python",
   "name": "python3"
  },
  "language_info": {
   "codemirror_mode": {
    "name": "ipython",
    "version": 3
   },
   "file_extension": ".py",
   "mimetype": "text/x-python",
   "name": "python",
   "nbconvert_exporter": "python",
   "pygments_lexer": "ipython3",
   "version": "3.7.4"
  }
 },
 "nbformat": 4,
 "nbformat_minor": 5
}
