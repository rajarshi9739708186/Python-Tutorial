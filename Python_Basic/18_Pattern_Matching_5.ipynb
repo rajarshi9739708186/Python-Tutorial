{
 "cells": [
  {
   "cell_type": "markdown",
   "id": "7e32b83a",
   "metadata": {},
   "source": [
    "Package"
   ]
  },
  {
   "cell_type": "code",
   "execution_count": 1,
   "id": "25aae733",
   "metadata": {},
   "outputs": [],
   "source": [
    "import re"
   ]
  },
  {
   "cell_type": "markdown",
   "id": "4f7409c9",
   "metadata": {},
   "source": [
    "#### Search Pattern with Ignore case"
   ]
  },
  {
   "cell_type": "code",
   "execution_count": 17,
   "id": "df32bf21",
   "metadata": {},
   "outputs": [],
   "source": [
    "pattern = re.compile(\"rajarshi\", re.I) # Compiling with ignore case"
   ]
  },
  {
   "cell_type": "code",
   "execution_count": 18,
   "id": "ce80d369",
   "metadata": {},
   "outputs": [],
   "source": [
    "string_var = \"I am Rajarshi\""
   ]
  },
  {
   "cell_type": "code",
   "execution_count": 19,
   "id": "991ad299",
   "metadata": {},
   "outputs": [
    {
     "data": {
      "text/plain": [
       "<re.Match object; span=(5, 13), match='Rajarshi'>"
      ]
     },
     "execution_count": 19,
     "metadata": {},
     "output_type": "execute_result"
    }
   ],
   "source": [
    "pattern.search(string_var)"
   ]
  },
  {
   "cell_type": "code",
   "execution_count": 20,
   "id": "d8c65886",
   "metadata": {},
   "outputs": [],
   "source": [
    "matched_string = pattern.findall(string_var)"
   ]
  },
  {
   "cell_type": "code",
   "execution_count": 21,
   "id": "be831ee4",
   "metadata": {},
   "outputs": [
    {
     "data": {
      "text/plain": [
       "['Rajarshi']"
      ]
     },
     "execution_count": 21,
     "metadata": {},
     "output_type": "execute_result"
    }
   ],
   "source": [
    "matched_string"
   ]
  },
  {
   "cell_type": "code",
   "execution_count": 22,
   "id": "9399801d",
   "metadata": {},
   "outputs": [],
   "source": [
    "string_var = \"I am RAJARSHI\""
   ]
  },
  {
   "cell_type": "code",
   "execution_count": 23,
   "id": "68447a8b",
   "metadata": {},
   "outputs": [
    {
     "data": {
      "text/plain": [
       "<re.Match object; span=(5, 13), match='RAJARSHI'>"
      ]
     },
     "execution_count": 23,
     "metadata": {},
     "output_type": "execute_result"
    }
   ],
   "source": [
    "pattern.search(string_var)"
   ]
  },
  {
   "cell_type": "code",
   "execution_count": 24,
   "id": "d55750f2",
   "metadata": {},
   "outputs": [],
   "source": [
    "matched_string = pattern.findall(string_var)"
   ]
  },
  {
   "cell_type": "code",
   "execution_count": 25,
   "id": "28f32fd1",
   "metadata": {},
   "outputs": [
    {
     "data": {
      "text/plain": [
       "['RAJARSHI']"
      ]
     },
     "execution_count": 25,
     "metadata": {},
     "output_type": "execute_result"
    }
   ],
   "source": [
    "matched_string"
   ]
  },
  {
   "cell_type": "markdown",
   "id": "706b9bd4",
   "metadata": {},
   "source": [
    "#### Split based on Pattern"
   ]
  },
  {
   "cell_type": "code",
   "execution_count": 26,
   "id": "1317c763",
   "metadata": {},
   "outputs": [],
   "source": [
    "string_var = \"abcdeeefgdeijkddeeeeeelm\""
   ]
  },
  {
   "cell_type": "code",
   "execution_count": 27,
   "id": "d1255be6",
   "metadata": {},
   "outputs": [
    {
     "data": {
      "text/plain": [
       "['abc', 'fg', 'ijkd', 'lm']"
      ]
     },
     "execution_count": 27,
     "metadata": {},
     "output_type": "execute_result"
    }
   ],
   "source": [
    "re.split(\"de+\", string_var) # Split based on d' and atleast one consecutive 'e'"
   ]
  },
  {
   "cell_type": "markdown",
   "id": "ac9fdaac",
   "metadata": {},
   "source": [
    "#### Substitute a String"
   ]
  },
  {
   "cell_type": "code",
   "execution_count": 28,
   "id": "d625d4d8",
   "metadata": {},
   "outputs": [],
   "source": [
    "string_var = \"abcdeeefgdeijkddeeeeeelm\""
   ]
  },
  {
   "cell_type": "code",
   "execution_count": 30,
   "id": "cca061c1",
   "metadata": {},
   "outputs": [],
   "source": [
    "pattern = re.compile(\"de+\") # Need to Compile"
   ]
  },
  {
   "cell_type": "code",
   "execution_count": 31,
   "id": "94b15e45",
   "metadata": {},
   "outputs": [
    {
     "data": {
      "text/plain": [
       "'abcREPLACEDfgREPLACEDijkdREPLACEDlm'"
      ]
     },
     "execution_count": 31,
     "metadata": {},
     "output_type": "execute_result"
    }
   ],
   "source": [
    "pattern.sub(\"REPLACED\", string_var)"
   ]
  }
 ],
 "metadata": {
  "kernelspec": {
   "display_name": "Python 3 (ipykernel)",
   "language": "python",
   "name": "python3"
  },
  "language_info": {
   "codemirror_mode": {
    "name": "ipython",
    "version": 3
   },
   "file_extension": ".py",
   "mimetype": "text/x-python",
   "name": "python",
   "nbconvert_exporter": "python",
   "pygments_lexer": "ipython3",
   "version": "3.7.4"
  }
 },
 "nbformat": 4,
 "nbformat_minor": 5
}
