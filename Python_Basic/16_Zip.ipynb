{
 "cells": [
  {
   "cell_type": "markdown",
   "id": "cd98e04e",
   "metadata": {},
   "source": [
    "# ZIP"
   ]
  },
  {
   "cell_type": "markdown",
   "id": "f94f01de",
   "metadata": {},
   "source": [
    "<h1 style=\"color:Tomato;\">Package</h1>"
   ]
  },
  {
   "cell_type": "code",
   "execution_count": 5,
   "id": "29c5c513",
   "metadata": {},
   "outputs": [],
   "source": [
    "from zipfile import ZipFile"
   ]
  },
  {
   "cell_type": "markdown",
   "id": "02debab5",
   "metadata": {},
   "source": [
    "#### Extract All"
   ]
  },
  {
   "cell_type": "code",
   "execution_count": 10,
   "id": "6ed4e300",
   "metadata": {},
   "outputs": [],
   "source": [
    "zip_File = \"D:\\\\Study_Material\\\\Python\\\\Sample_ZIPFILE.zip\"\n",
    "\n",
    "# opening the zip file in READ mode\n",
    "with ZipFile(zip_File, 'r') as zipObj:\n",
    "    zipObj.extractall(\"D:\\\\Study_Material\\\\Python\\\\Extraction_Folder\") # Extract ZIP file inside this Folder\n",
    "zipObj.close() # Close ZIP Object"
   ]
  },
  {
   "cell_type": "markdown",
   "id": "beeee42c",
   "metadata": {},
   "source": [
    "#### Extract Specific File"
   ]
  },
  {
   "cell_type": "code",
   "execution_count": 16,
   "id": "f452965d",
   "metadata": {},
   "outputs": [
    {
     "name": "stdout",
     "output_type": "stream",
     "text": [
      "['00_Data_Type.ipynb', '01_Arithmetic_Operation.ipynb', '02_Type_Casting.ipynb', '03_User_Input.ipynb', '04_Relational_Operator.ipynb']\n"
     ]
    }
   ],
   "source": [
    "zip_File = \"D:\\\\Study_Material\\\\Python\\\\Sample_ZIPFILE.zip\"\n",
    "\n",
    "# opening the zip file in READ mode\n",
    "with ZipFile(zip_File, 'r') as zipObj:\n",
    "    Files_Inside_ZIP = zipObj.namelist() # List down all filenames from ZIP\n",
    "    print(Files_Inside_ZIP)\n",
    "    \n",
    "    for file in Files_Inside_ZIP:\n",
    "        if file == \"00_Data_Type.ipynb\" or file == \"03_User_Input.ipynb\":\n",
    "            zipObj.extract(file, \"D:\\\\Study_Material\\\\Python\\\\Extraction_Folder\") # Second Arg => Destination Folder\n",
    "            \n",
    "zipObj.close() # Close ZIP Object"
   ]
  }
 ],
 "metadata": {
  "kernelspec": {
   "display_name": "Python 3 (ipykernel)",
   "language": "python",
   "name": "python3"
  },
  "language_info": {
   "codemirror_mode": {
    "name": "ipython",
    "version": 3
   },
   "file_extension": ".py",
   "mimetype": "text/x-python",
   "name": "python",
   "nbconvert_exporter": "python",
   "pygments_lexer": "ipython3",
   "version": "3.7.4"
  }
 },
 "nbformat": 4,
 "nbformat_minor": 5
}
