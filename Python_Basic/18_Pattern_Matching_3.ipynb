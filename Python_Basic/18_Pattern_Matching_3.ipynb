{
 "cells": [
  {
   "cell_type": "markdown",
   "id": "706cfa67",
   "metadata": {},
   "source": [
    "package"
   ]
  },
  {
   "cell_type": "code",
   "execution_count": 1,
   "id": "f966ca52",
   "metadata": {},
   "outputs": [],
   "source": [
    "import re"
   ]
  },
  {
   "cell_type": "markdown",
   "id": "a628913a",
   "metadata": {},
   "source": [
    "#### Match with Any Digit"
   ]
  },
  {
   "cell_type": "code",
   "execution_count": 2,
   "id": "6a32a5cd",
   "metadata": {},
   "outputs": [
    {
     "name": "stdout",
     "output_type": "stream",
     "text": [
      "Found\n"
     ]
    }
   ],
   "source": [
    "string_value = \"abcde3rst\"\n",
    "\n",
    "# \\d => [0-9]\n",
    "if re.search(\"e\\d\", string_value): # True if found 'e' and atleast one consecutive digit\n",
    "    print(\"Found\")\n",
    "else:\n",
    "    print(\"Not Found\")"
   ]
  },
  {
   "cell_type": "code",
   "execution_count": 3,
   "id": "e70ca2d2",
   "metadata": {},
   "outputs": [
    {
     "name": "stdout",
     "output_type": "stream",
     "text": [
      "Not Found\n"
     ]
    }
   ],
   "source": [
    "string_value = \"abcderst\"\n",
    "\n",
    "# \\d => [0-9]\n",
    "if re.search(\"e\\d\", string_value): # True if found 'e' and atleast one consecutive digit\n",
    "    print(\"Found\")\n",
    "else:\n",
    "    print(\"Not Found\")"
   ]
  },
  {
   "cell_type": "markdown",
   "id": "e5bedfe9",
   "metadata": {},
   "source": [
    "#### Match with anything other than digit"
   ]
  },
  {
   "cell_type": "code",
   "execution_count": 4,
   "id": "e7cad485",
   "metadata": {},
   "outputs": [
    {
     "name": "stdout",
     "output_type": "stream",
     "text": [
      "Found\n"
     ]
    }
   ],
   "source": [
    "string_value = \"abcde@rst\"\n",
    "\n",
    "# \\D => [^0-9]\n",
    "if re.search(\"e\\D\", string_value): # True if found 'e' and atleast one consecutive character other than digit\n",
    "    print(\"Found\")\n",
    "else:\n",
    "    print(\"Not Found\")"
   ]
  },
  {
   "cell_type": "code",
   "execution_count": 5,
   "id": "bad5cfa8",
   "metadata": {},
   "outputs": [
    {
     "name": "stdout",
     "output_type": "stream",
     "text": [
      "Not Found\n"
     ]
    }
   ],
   "source": [
    "string_value = \"abcde2rst\"\n",
    "\n",
    "# \\D => [^0-9]\n",
    "if re.search(\"e\\D\", string_value): # True if found 'e' and atleast one consecutive character other than digit\n",
    "    print(\"Found\")\n",
    "else:\n",
    "    print(\"Not Found\")"
   ]
  },
  {
   "cell_type": "markdown",
   "id": "6b3ecc98",
   "metadata": {},
   "source": [
    "#### Match with any word charcter"
   ]
  },
  {
   "cell_type": "code",
   "execution_count": 6,
   "id": "8320eeab",
   "metadata": {},
   "outputs": [
    {
     "name": "stdout",
     "output_type": "stream",
     "text": [
      "Found\n"
     ]
    }
   ],
   "source": [
    "string_value = \"abcdefrst\"\n",
    "\n",
    "# \\w => [_0-9a-zA-Z]\n",
    "if re.search(\"e\\w\", string_value): # True if found 'e' and atleast one word character\n",
    "    print(\"Found\")\n",
    "else:\n",
    "    print(\"Not Found\")"
   ]
  },
  {
   "cell_type": "code",
   "execution_count": 7,
   "id": "3a96382b",
   "metadata": {},
   "outputs": [
    {
     "name": "stdout",
     "output_type": "stream",
     "text": [
      "Found\n"
     ]
    }
   ],
   "source": [
    "string_value = \"abcdeFrst\"\n",
    "\n",
    "# \\w => [_0-9a-zA-Z]\n",
    "if re.search(\"e\\w\", string_value): # True if found 'e' and atleast one word character\n",
    "    print(\"Found\")\n",
    "else:\n",
    "    print(\"Not Found\")"
   ]
  },
  {
   "cell_type": "code",
   "execution_count": 8,
   "id": "74e1bfc5",
   "metadata": {},
   "outputs": [
    {
     "name": "stdout",
     "output_type": "stream",
     "text": [
      "Found\n"
     ]
    }
   ],
   "source": [
    "string_value = \"abcde4rst\"\n",
    "\n",
    "# \\w => [_0-9a-zA-Z]\n",
    "if re.search(\"e\\w\", string_value): # True if found 'e' and atleast one word character\n",
    "    print(\"Found\")\n",
    "else:\n",
    "    print(\"Not Found\")"
   ]
  },
  {
   "cell_type": "code",
   "execution_count": 9,
   "id": "38b3c953",
   "metadata": {},
   "outputs": [
    {
     "name": "stdout",
     "output_type": "stream",
     "text": [
      "Found\n"
     ]
    }
   ],
   "source": [
    "string_value = \"abcde_rst\"\n",
    "\n",
    "# \\w => [_0-9a-zA-Z]\n",
    "if re.search(\"e\\w\", string_value): # True if found 'e' and atleast one word character\n",
    "    print(\"Found\")\n",
    "else:\n",
    "    print(\"Not Found\")"
   ]
  },
  {
   "cell_type": "code",
   "execution_count": 10,
   "id": "ee44e1e7",
   "metadata": {},
   "outputs": [
    {
     "name": "stdout",
     "output_type": "stream",
     "text": [
      "Not Found\n"
     ]
    }
   ],
   "source": [
    "string_value = \"abcde@rst\"\n",
    "\n",
    "# \\w => [_0-9a-zA-Z]\n",
    "if re.search(\"e\\w\", string_value): # True if found 'e' and atleast one word character\n",
    "    print(\"Found\")\n",
    "else:\n",
    "    print(\"Not Found\")"
   ]
  },
  {
   "cell_type": "markdown",
   "id": "fca1c0a3",
   "metadata": {},
   "source": [
    "#### Match with anything other than a word character"
   ]
  },
  {
   "cell_type": "code",
   "execution_count": 11,
   "id": "485d18db",
   "metadata": {},
   "outputs": [
    {
     "name": "stdout",
     "output_type": "stream",
     "text": [
      "Found\n"
     ]
    }
   ],
   "source": [
    "string_value = \"abcde@rst\"\n",
    "\n",
    "# \\W => [^_0-9a-zA-Z]\n",
    "if re.search(\"e\\W\", string_value): # True if found 'e' and atleast one non word character\n",
    "    print(\"Found\")\n",
    "else:\n",
    "    print(\"Not Found\")"
   ]
  },
  {
   "cell_type": "code",
   "execution_count": 12,
   "id": "a1266c65",
   "metadata": {},
   "outputs": [
    {
     "name": "stdout",
     "output_type": "stream",
     "text": [
      "Not Found\n"
     ]
    }
   ],
   "source": [
    "string_value = \"abcdefrst\"\n",
    "\n",
    "# \\W => [^_0-9a-zA-Z]\n",
    "if re.search(\"e\\W\", string_value): # True if found 'e' and atleast one non word character\n",
    "    print(\"Found\")\n",
    "else:\n",
    "    print(\"Not Found\")"
   ]
  },
  {
   "cell_type": "markdown",
   "id": "b7719c7a",
   "metadata": {},
   "source": [
    "#### Match with any whitespace character"
   ]
  },
  {
   "cell_type": "code",
   "execution_count": 13,
   "id": "bed95a94",
   "metadata": {},
   "outputs": [
    {
     "name": "stdout",
     "output_type": "stream",
     "text": [
      "Found\n"
     ]
    }
   ],
   "source": [
    "string_value = \"abcde  rst\"\n",
    "\n",
    "# \\s => [ \\r\\t\\n\\f]\n",
    "if re.search(\"e\\s\", string_value): # True if found 'e' and atleast one whitespace character\n",
    "    print(\"Found\")\n",
    "else:\n",
    "    print(\"Not Found\")"
   ]
  },
  {
   "cell_type": "code",
   "execution_count": 17,
   "id": "680b4c07",
   "metadata": {},
   "outputs": [
    {
     "name": "stdout",
     "output_type": "stream",
     "text": [
      "Found\n"
     ]
    }
   ],
   "source": [
    "string_value = \"abcde\\nrst\"\n",
    "\n",
    "# \\s => [ \\r\\t\\n\\f]\n",
    "if re.search(\"e\\s\", string_value): # True if found 'e' and atleast one whitespace character\n",
    "    print(\"Found\")\n",
    "else:\n",
    "    print(\"Not Found\")"
   ]
  },
  {
   "cell_type": "code",
   "execution_count": 18,
   "id": "f3492785",
   "metadata": {},
   "outputs": [
    {
     "name": "stdout",
     "output_type": "stream",
     "text": [
      "Found\n"
     ]
    }
   ],
   "source": [
    "string_value = \"abcde\\trst\"\n",
    "\n",
    "# \\s => [ \\r\\t\\n\\f]\n",
    "if re.search(\"e\\s\", string_value): # True if found 'e' and atleast one whitespace character\n",
    "    print(\"Found\")\n",
    "else:\n",
    "    print(\"Not Found\")"
   ]
  },
  {
   "cell_type": "code",
   "execution_count": 14,
   "id": "ba62bca3",
   "metadata": {},
   "outputs": [
    {
     "name": "stdout",
     "output_type": "stream",
     "text": [
      "Not Found\n"
     ]
    }
   ],
   "source": [
    "string_value = \"abcderst\"\n",
    "\n",
    "# \\s => [ \\r\\t\\n\\f]\n",
    "if re.search(\"e\\s\", string_value): # True if found 'e' and atleast one whitespace character\n",
    "    print(\"Found\")\n",
    "else:\n",
    "    print(\"Not Found\")"
   ]
  },
  {
   "cell_type": "markdown",
   "id": "5eaa2803",
   "metadata": {},
   "source": [
    "#### Match with any non whitespace character"
   ]
  },
  {
   "cell_type": "code",
   "execution_count": 15,
   "id": "20acfafc",
   "metadata": {},
   "outputs": [
    {
     "name": "stdout",
     "output_type": "stream",
     "text": [
      "Found\n"
     ]
    }
   ],
   "source": [
    "string_value = \"abcderst\"\n",
    "\n",
    "# \\S => [^ \\r\\t\\n\\f]\n",
    "if re.search(\"e\\S\", string_value): # True if found 'e' and atleast one non whitespace character\n",
    "    print(\"Found\")\n",
    "else:\n",
    "    print(\"Not Found\")"
   ]
  },
  {
   "cell_type": "code",
   "execution_count": 16,
   "id": "8e969366",
   "metadata": {},
   "outputs": [
    {
     "name": "stdout",
     "output_type": "stream",
     "text": [
      "Not Found\n"
     ]
    }
   ],
   "source": [
    "string_value = \"abcde rst\"\n",
    "\n",
    "# \\S => [^ \\r\\t\\n\\f]\n",
    "if re.search(\"e\\S\", string_value): # True if found 'e' and atleast one non whitespace character\n",
    "    print(\"Found\")\n",
    "else:\n",
    "    print(\"Not Found\")"
   ]
  }
 ],
 "metadata": {
  "kernelspec": {
   "display_name": "Python 3 (ipykernel)",
   "language": "python",
   "name": "python3"
  },
  "language_info": {
   "codemirror_mode": {
    "name": "ipython",
    "version": 3
   },
   "file_extension": ".py",
   "mimetype": "text/x-python",
   "name": "python",
   "nbconvert_exporter": "python",
   "pygments_lexer": "ipython3",
   "version": "3.7.4"
  }
 },
 "nbformat": 4,
 "nbformat_minor": 5
}
