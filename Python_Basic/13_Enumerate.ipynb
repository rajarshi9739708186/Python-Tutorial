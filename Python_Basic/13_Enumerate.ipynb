{
 "cells": [
  {
   "cell_type": "markdown",
   "id": "a1d249c5",
   "metadata": {},
   "source": [
    "# Enumerate"
   ]
  },
  {
   "cell_type": "markdown",
   "id": "e54d781d",
   "metadata": {},
   "source": [
    "It works for any kind of Collection which is Ordered and Indexed. Like<br>String<br>List<br>Tuple"
   ]
  },
  {
   "cell_type": "markdown",
   "id": "98647ed9",
   "metadata": {},
   "source": [
    "It works based on Tuple Unpacking concept"
   ]
  },
  {
   "cell_type": "markdown",
   "id": "57a356a6",
   "metadata": {},
   "source": [
    "For ordered collection it returns a list containg Tuples of index and Value pair<br>[(index_1, value_1), .. , (index_n, value_n)]"
   ]
  },
  {
   "cell_type": "code",
   "execution_count": 1,
   "id": "c49b1e8d",
   "metadata": {},
   "outputs": [],
   "source": [
    "a = [100, 200, 300, 400]"
   ]
  },
  {
   "cell_type": "code",
   "execution_count": 2,
   "id": "a9cde37b",
   "metadata": {},
   "outputs": [
    {
     "name": "stdout",
     "output_type": "stream",
     "text": [
      "Index-0 : Value-100\n",
      "Index-1 : Value-200\n",
      "Index-2 : Value-300\n",
      "Index-3 : Value-400\n"
     ]
    }
   ],
   "source": [
    "for (index, value) in enumerate(a):\n",
    "    print(f\"Index-{index} : Value-{value}\")"
   ]
  }
 ],
 "metadata": {
  "kernelspec": {
   "display_name": "Python 3 (ipykernel)",
   "language": "python",
   "name": "python3"
  },
  "language_info": {
   "codemirror_mode": {
    "name": "ipython",
    "version": 3
   },
   "file_extension": ".py",
   "mimetype": "text/x-python",
   "name": "python",
   "nbconvert_exporter": "python",
   "pygments_lexer": "ipython3",
   "version": "3.7.4"
  }
 },
 "nbformat": 4,
 "nbformat_minor": 5
}
