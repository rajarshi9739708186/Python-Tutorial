{
 "cells": [
  {
   "cell_type": "markdown",
   "id": "f2cdf9b6",
   "metadata": {},
   "source": [
    "# Tuple"
   ]
  },
  {
   "cell_type": "markdown",
   "id": "5b536fe7",
   "metadata": {},
   "source": [
    "Immutable, Ordered and Indexed"
   ]
  },
  {
   "cell_type": "markdown",
   "id": "4875a52d",
   "metadata": {},
   "source": [
    "Below are exactly same as List<br>Length<br>Count<br>Index<br>Max<br>Min<br>Sum"
   ]
  },
  {
   "cell_type": "code",
   "execution_count": 2,
   "id": "495db473",
   "metadata": {},
   "outputs": [],
   "source": [
    "a = (1, 2 , 3, 4)"
   ]
  },
  {
   "cell_type": "code",
   "execution_count": 3,
   "id": "260349d8",
   "metadata": {},
   "outputs": [
    {
     "data": {
      "text/plain": [
       "(1, 2, 3, 4)"
      ]
     },
     "execution_count": 3,
     "metadata": {},
     "output_type": "execute_result"
    }
   ],
   "source": [
    "a"
   ]
  },
  {
   "cell_type": "markdown",
   "id": "3a5779b4",
   "metadata": {},
   "source": [
    "Tuple is immutable"
   ]
  },
  {
   "cell_type": "code",
   "execution_count": 4,
   "id": "496834e5",
   "metadata": {},
   "outputs": [
    {
     "ename": "TypeError",
     "evalue": "'tuple' object does not support item assignment",
     "output_type": "error",
     "traceback": [
      "\u001b[1;31m---------------------------------------------------------------------------\u001b[0m",
      "\u001b[1;31mTypeError\u001b[0m                                 Traceback (most recent call last)",
      "\u001b[1;32m~\\AppData\\Local\\Temp\\ipykernel_7448\\1860897530.py\u001b[0m in \u001b[0;36m<module>\u001b[1;34m\u001b[0m\n\u001b[1;32m----> 1\u001b[1;33m \u001b[0ma\u001b[0m\u001b[1;33m[\u001b[0m\u001b[1;36m2\u001b[0m\u001b[1;33m]\u001b[0m \u001b[1;33m=\u001b[0m \u001b[1;36m100\u001b[0m\u001b[1;33m\u001b[0m\u001b[1;33m\u001b[0m\u001b[0m\n\u001b[0m",
      "\u001b[1;31mTypeError\u001b[0m: 'tuple' object does not support item assignment"
     ]
    }
   ],
   "source": [
    "a[2] = 100"
   ]
  },
  {
   "cell_type": "markdown",
   "id": "e5bdfe79",
   "metadata": {},
   "source": [
    "#### Tuple Unpacking"
   ]
  },
  {
   "cell_type": "code",
   "execution_count": 5,
   "id": "abed5367",
   "metadata": {},
   "outputs": [],
   "source": [
    "a = [(1,2), (3,4), (5,6)]"
   ]
  },
  {
   "cell_type": "code",
   "execution_count": 6,
   "id": "40b57303",
   "metadata": {},
   "outputs": [
    {
     "data": {
      "text/plain": [
       "[(1, 2), (3, 4), (5, 6)]"
      ]
     },
     "execution_count": 6,
     "metadata": {},
     "output_type": "execute_result"
    }
   ],
   "source": [
    "a"
   ]
  },
  {
   "cell_type": "code",
   "execution_count": 7,
   "id": "4b7e1109",
   "metadata": {},
   "outputs": [
    {
     "name": "stdout",
     "output_type": "stream",
     "text": [
      "1 : 2\n",
      "3 : 4\n",
      "5 : 6\n"
     ]
    }
   ],
   "source": [
    "for (a,b) in a:\n",
    "    print(f\"{a} : {b}\")"
   ]
  }
 ],
 "metadata": {
  "kernelspec": {
   "display_name": "Python 3 (ipykernel)",
   "language": "python",
   "name": "python3"
  },
  "language_info": {
   "codemirror_mode": {
    "name": "ipython",
    "version": 3
   },
   "file_extension": ".py",
   "mimetype": "text/x-python",
   "name": "python",
   "nbconvert_exporter": "python",
   "pygments_lexer": "ipython3",
   "version": "3.7.4"
  }
 },
 "nbformat": 4,
 "nbformat_minor": 5
}
