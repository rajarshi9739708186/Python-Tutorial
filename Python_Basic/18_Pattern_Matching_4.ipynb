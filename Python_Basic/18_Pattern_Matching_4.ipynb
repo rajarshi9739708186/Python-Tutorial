{
 "cells": [
  {
   "cell_type": "markdown",
   "id": "b887082d",
   "metadata": {},
   "source": [
    "Package"
   ]
  },
  {
   "cell_type": "code",
   "execution_count": 24,
   "id": "31c9b926",
   "metadata": {},
   "outputs": [],
   "source": [
    "import re"
   ]
  },
  {
   "cell_type": "markdown",
   "id": "75d3b465",
   "metadata": {},
   "source": [
    "#### Capture Matched portion"
   ]
  },
  {
   "cell_type": "code",
   "execution_count": 3,
   "id": "0f867e29",
   "metadata": {},
   "outputs": [],
   "source": [
    "string_var = \"abcdeeefdee\"\n",
    "\n",
    "pattern = re.search(\"de+\", string_var) # Try to find 'd' and atleast one consecutive 'e'"
   ]
  },
  {
   "cell_type": "code",
   "execution_count": 5,
   "id": "6389748e",
   "metadata": {},
   "outputs": [
    {
     "data": {
      "text/plain": [
       "'deee'"
      ]
     },
     "execution_count": 5,
     "metadata": {},
     "output_type": "execute_result"
    }
   ],
   "source": [
    "pattern.group() # Return Matched substring"
   ]
  },
  {
   "cell_type": "code",
   "execution_count": 7,
   "id": "50d45f48",
   "metadata": {},
   "outputs": [],
   "source": [
    "string_var = \"xyz\"\n",
    "\n",
    "pattern = re.search(\"de+\", string_var) # Try to find 'd' and atleast one consecutive 'e'. Nothing will be found"
   ]
  },
  {
   "cell_type": "code",
   "execution_count": 10,
   "id": "f527d9b8",
   "metadata": {},
   "outputs": [
    {
     "ename": "AttributeError",
     "evalue": "'NoneType' object has no attribute 'group'",
     "output_type": "error",
     "traceback": [
      "\u001b[1;31m---------------------------------------------------------------------------\u001b[0m",
      "\u001b[1;31mAttributeError\u001b[0m                            Traceback (most recent call last)",
      "\u001b[1;32m~\\AppData\\Local\\Temp\\ipykernel_3280\\2851515185.py\u001b[0m in \u001b[0;36m<module>\u001b[1;34m\u001b[0m\n\u001b[1;32m----> 1\u001b[1;33m \u001b[0mpattern\u001b[0m\u001b[1;33m.\u001b[0m\u001b[0mgroup\u001b[0m\u001b[1;33m(\u001b[0m\u001b[1;33m)\u001b[0m \u001b[1;31m# pattern contains None\u001b[0m\u001b[1;33m\u001b[0m\u001b[1;33m\u001b[0m\u001b[0m\n\u001b[0m",
      "\u001b[1;31mAttributeError\u001b[0m: 'NoneType' object has no attribute 'group'"
     ]
    }
   ],
   "source": [
    "pattern.group() # pattern contains None"
   ]
  },
  {
   "cell_type": "code",
   "execution_count": 11,
   "id": "8611a97a",
   "metadata": {},
   "outputs": [
    {
     "data": {
      "text/plain": [
       "True"
      ]
     },
     "execution_count": 11,
     "metadata": {},
     "output_type": "execute_result"
    }
   ],
   "source": [
    "pattern == None"
   ]
  },
  {
   "cell_type": "markdown",
   "id": "6674d141",
   "metadata": {},
   "source": [
    "#### Capture all instances of matched portion"
   ]
  },
  {
   "cell_type": "code",
   "execution_count": 16,
   "id": "e528ba28",
   "metadata": {},
   "outputs": [],
   "source": [
    "string_var = \"abcdeeefdee\"\n",
    "\n",
    "Substring_Found = re.findall(\"de+\", string_var) # Try to find 'd' and atleast one consecutive 'e'"
   ]
  },
  {
   "cell_type": "code",
   "execution_count": 17,
   "id": "324ef7f1",
   "metadata": {},
   "outputs": [
    {
     "data": {
      "text/plain": [
       "['deee', 'dee']"
      ]
     },
     "execution_count": 17,
     "metadata": {},
     "output_type": "execute_result"
    }
   ],
   "source": [
    "Substring_Found"
   ]
  },
  {
   "cell_type": "markdown",
   "id": "2fea0317",
   "metadata": {},
   "source": [
    "#### Group Patterns"
   ]
  },
  {
   "cell_type": "code",
   "execution_count": 28,
   "id": "e1759804",
   "metadata": {},
   "outputs": [],
   "source": [
    "string_var = \"abcdeeexyzmn\"\n",
    "\n",
    "# (de+)(xy.)\n",
    "# Pattern 1 => de+\n",
    "# Pattern 2 = xy.\n",
    "# Actual Pattern de+xy\n",
    "# We are splitting pattern into group so that we can reuse group later as per need\n",
    "match_found = re.search(\"(de+)(xy.)\", string_var)"
   ]
  },
  {
   "cell_type": "markdown",
   "id": "09fbca74",
   "metadata": {},
   "source": [
    "group()"
   ]
  },
  {
   "cell_type": "code",
   "execution_count": 33,
   "id": "29444966",
   "metadata": {},
   "outputs": [
    {
     "data": {
      "text/plain": [
       "'deeexyz'"
      ]
     },
     "execution_count": 33,
     "metadata": {},
     "output_type": "execute_result"
    }
   ],
   "source": [
    "match_found.group() # Display entire substring found based on Patterns"
   ]
  },
  {
   "cell_type": "code",
   "execution_count": 30,
   "id": "3591b469",
   "metadata": {},
   "outputs": [
    {
     "data": {
      "text/plain": [
       "'deeexyz'"
      ]
     },
     "execution_count": 30,
     "metadata": {},
     "output_type": "execute_result"
    }
   ],
   "source": [
    "match_found.group(0) # Entire porting which matched"
   ]
  },
  {
   "cell_type": "code",
   "execution_count": 31,
   "id": "2f92f889",
   "metadata": {},
   "outputs": [
    {
     "data": {
      "text/plain": [
       "'deee'"
      ]
     },
     "execution_count": 31,
     "metadata": {},
     "output_type": "execute_result"
    }
   ],
   "source": [
    "match_found.group(1) # Substring for 1st pattern"
   ]
  },
  {
   "cell_type": "code",
   "execution_count": 32,
   "id": "7244dde7",
   "metadata": {},
   "outputs": [
    {
     "data": {
      "text/plain": [
       "'xyz'"
      ]
     },
     "execution_count": 32,
     "metadata": {},
     "output_type": "execute_result"
    }
   ],
   "source": [
    "match_found.group(2) # Substring for 2nd pattern"
   ]
  },
  {
   "cell_type": "markdown",
   "id": "eb7f01dd",
   "metadata": {},
   "source": [
    "groups()"
   ]
  },
  {
   "cell_type": "code",
   "execution_count": 36,
   "id": "70f6b5a5",
   "metadata": {},
   "outputs": [
    {
     "data": {
      "text/plain": [
       "('deee', 'xyz')"
      ]
     },
     "execution_count": 36,
     "metadata": {},
     "output_type": "execute_result"
    }
   ],
   "source": [
    "match_found.groups() # Display substring found based on Patterns Group"
   ]
  },
  {
   "cell_type": "code",
   "execution_count": 41,
   "id": "1d571412",
   "metadata": {},
   "outputs": [
    {
     "data": {
      "text/plain": [
       "'deee'"
      ]
     },
     "execution_count": 41,
     "metadata": {},
     "output_type": "execute_result"
    }
   ],
   "source": [
    "match_found.groups()[0] # Substring for 1st pattern"
   ]
  },
  {
   "cell_type": "code",
   "execution_count": 42,
   "id": "9632d50a",
   "metadata": {},
   "outputs": [
    {
     "data": {
      "text/plain": [
       "'xyz'"
      ]
     },
     "execution_count": 42,
     "metadata": {},
     "output_type": "execute_result"
    }
   ],
   "source": [
    "match_found.groups()[1] # Substring for 2nd pattern"
   ]
  },
  {
   "cell_type": "markdown",
   "id": "5da24659",
   "metadata": {},
   "source": [
    "#### Optional Matching"
   ]
  },
  {
   "cell_type": "code",
   "execution_count": 44,
   "id": "8c8a4320",
   "metadata": {},
   "outputs": [
    {
     "name": "stdout",
     "output_type": "stream",
     "text": [
      "Found\n"
     ]
    }
   ],
   "source": [
    "string_var = \"I am Batman\"\n",
    "\n",
    "# Bat(wo)?man\n",
    "# After 'Bat' it will try to search 0 or 1 occurance of 'wo'\n",
    "if re.search(\"Bat(wo)?man\", string_var):\n",
    "    print(\"Found\")\n",
    "else:\n",
    "    print(\"Not Found\")"
   ]
  },
  {
   "cell_type": "code",
   "execution_count": 45,
   "id": "918d0519",
   "metadata": {},
   "outputs": [
    {
     "name": "stdout",
     "output_type": "stream",
     "text": [
      "Found\n"
     ]
    }
   ],
   "source": [
    "string_var = \"I am Batwoman\"\n",
    "\n",
    "# Bat(wo)?man\n",
    "# After 'Bat' it will try to search 0 or 1 occurance of 'wo'\n",
    "if re.search(\"Bat(wo)?man\", string_var):\n",
    "    print(\"Found\")\n",
    "else:\n",
    "    print(\"Not Found\")"
   ]
  },
  {
   "cell_type": "code",
   "execution_count": 46,
   "id": "7a8a3b6e",
   "metadata": {},
   "outputs": [
    {
     "name": "stdout",
     "output_type": "stream",
     "text": [
      "Not Found\n"
     ]
    }
   ],
   "source": [
    "string_var = \"I am Batoman\"\n",
    "\n",
    "# Bat(wo)?man\n",
    "# After 'Bat' it will try to search 0 or 1 occurance of 'wo'\n",
    "if re.search(\"Bat(wo)?man\", string_var):\n",
    "    print(\"Found\")\n",
    "else:\n",
    "    print(\"Not Found\")"
   ]
  },
  {
   "cell_type": "markdown",
   "id": "056cac56",
   "metadata": {},
   "source": [
    "#### Match with specific repeatation"
   ]
  },
  {
   "cell_type": "code",
   "execution_count": 47,
   "id": "6d20e951",
   "metadata": {},
   "outputs": [
    {
     "name": "stdout",
     "output_type": "stream",
     "text": [
      "Found\n"
     ]
    }
   ],
   "source": [
    "string_var = \"xabbbcd\"\n",
    "\n",
    "# ab{3}\n",
    "# After 'a' it will try to search atleast 3 occurances of 'b'\n",
    "if re.search(\"ab{3}\", string_var):\n",
    "    print(\"Found\")\n",
    "else:\n",
    "    print(\"Not Found\")"
   ]
  },
  {
   "cell_type": "code",
   "execution_count": 48,
   "id": "c6e521da",
   "metadata": {},
   "outputs": [
    {
     "name": "stdout",
     "output_type": "stream",
     "text": [
      "Not Found\n"
     ]
    }
   ],
   "source": [
    "string_var = \"xabbcd\"\n",
    "\n",
    "# ab{3}\n",
    "# After 'a' it will try to search atleast 3 occurances of 'b'\n",
    "if re.search(\"ab{3}\", string_var):\n",
    "    print(\"Found\")\n",
    "else:\n",
    "    print(\"Not Found\")"
   ]
  },
  {
   "cell_type": "code",
   "execution_count": 49,
   "id": "e7c3f1fc",
   "metadata": {},
   "outputs": [
    {
     "name": "stdout",
     "output_type": "stream",
     "text": [
      "Found\n"
     ]
    }
   ],
   "source": [
    "string_var = \"xabbbbcd\"\n",
    "\n",
    "# ab{3}\n",
    "# After 'a' it will try to search atleast 3 occurances of 'b'\n",
    "if re.search(\"ab{3}\", string_var):\n",
    "    print(\"Found\")\n",
    "else:\n",
    "    print(\"Not Found\")"
   ]
  }
 ],
 "metadata": {
  "kernelspec": {
   "display_name": "Python 3 (ipykernel)",
   "language": "python",
   "name": "python3"
  },
  "language_info": {
   "codemirror_mode": {
    "name": "ipython",
    "version": 3
   },
   "file_extension": ".py",
   "mimetype": "text/x-python",
   "name": "python",
   "nbconvert_exporter": "python",
   "pygments_lexer": "ipython3",
   "version": "3.7.4"
  }
 },
 "nbformat": 4,
 "nbformat_minor": 5
}
