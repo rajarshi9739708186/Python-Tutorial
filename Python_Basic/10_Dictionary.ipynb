{
 "cells": [
  {
   "cell_type": "markdown",
   "id": "3930eda7",
   "metadata": {},
   "source": [
    "# Dictionary"
   ]
  },
  {
   "cell_type": "markdown",
   "id": "48df0022",
   "metadata": {},
   "source": [
    "Unordered and Unindexed<br>Can not be sorted"
   ]
  },
  {
   "cell_type": "markdown",
   "id": "43ff9094",
   "metadata": {},
   "source": [
    "#### Syntax"
   ]
  },
  {
   "cell_type": "markdown",
   "id": "8fdde8aa",
   "metadata": {},
   "source": [
    "dictionary_var = {'key_1' : 'value_1', 'key_2' : 'value_2'}"
   ]
  },
  {
   "cell_type": "code",
   "execution_count": 1,
   "id": "dc6c4d44",
   "metadata": {},
   "outputs": [],
   "source": [
    "Fruits = {\"fruit_1\" : \"Mango\", \"fruit_2\" : \"Apple\"}"
   ]
  },
  {
   "cell_type": "code",
   "execution_count": 2,
   "id": "8f6940a1",
   "metadata": {},
   "outputs": [
    {
     "data": {
      "text/plain": [
       "{'fruit_1': 'Mango', 'fruit_2': 'Apple'}"
      ]
     },
     "execution_count": 2,
     "metadata": {},
     "output_type": "execute_result"
    }
   ],
   "source": [
    "Fruits"
   ]
  },
  {
   "cell_type": "code",
   "execution_count": 3,
   "id": "89dfad0a",
   "metadata": {},
   "outputs": [
    {
     "data": {
      "text/plain": [
       "'Mango'"
      ]
     },
     "execution_count": 3,
     "metadata": {},
     "output_type": "execute_result"
    }
   ],
   "source": [
    "Fruits['fruit_1']"
   ]
  },
  {
   "cell_type": "code",
   "execution_count": 4,
   "id": "79d63bf4",
   "metadata": {},
   "outputs": [
    {
     "data": {
      "text/plain": [
       "'Apple'"
      ]
     },
     "execution_count": 4,
     "metadata": {},
     "output_type": "execute_result"
    }
   ],
   "source": [
    "Fruits['fruit_2']"
   ]
  },
  {
   "cell_type": "markdown",
   "id": "ddc5cec3",
   "metadata": {},
   "source": [
    "#### Items"
   ]
  },
  {
   "cell_type": "code",
   "execution_count": 5,
   "id": "42a5f6e2",
   "metadata": {},
   "outputs": [
    {
     "data": {
      "text/plain": [
       "dict_items([('fruit_1', 'Mango'), ('fruit_2', 'Apple')])"
      ]
     },
     "execution_count": 5,
     "metadata": {},
     "output_type": "execute_result"
    }
   ],
   "source": [
    "Fruits.items() # Returns list of tuples. Tuple contain Key,Value pair. Not necessary Items will be in order"
   ]
  },
  {
   "cell_type": "code",
   "execution_count": 6,
   "id": "1b9292d5",
   "metadata": {},
   "outputs": [
    {
     "data": {
      "text/plain": [
       "[('fruit_1', 'Mango'), ('fruit_2', 'Apple')]"
      ]
     },
     "execution_count": 6,
     "metadata": {},
     "output_type": "execute_result"
    }
   ],
   "source": [
    "list(Fruits.items())"
   ]
  },
  {
   "cell_type": "markdown",
   "id": "23fb0082",
   "metadata": {},
   "source": [
    "#### Keys"
   ]
  },
  {
   "cell_type": "code",
   "execution_count": 7,
   "id": "5840fabc",
   "metadata": {},
   "outputs": [
    {
     "data": {
      "text/plain": [
       "dict_keys(['fruit_1', 'fruit_2'])"
      ]
     },
     "execution_count": 7,
     "metadata": {},
     "output_type": "execute_result"
    }
   ],
   "source": [
    "Fruits.keys() # Returns list of keys. Not necessary keys will be in order"
   ]
  },
  {
   "cell_type": "code",
   "execution_count": 8,
   "id": "a0ba0b51",
   "metadata": {},
   "outputs": [
    {
     "data": {
      "text/plain": [
       "['fruit_1', 'fruit_2']"
      ]
     },
     "execution_count": 8,
     "metadata": {},
     "output_type": "execute_result"
    }
   ],
   "source": [
    "list(Fruits.keys())"
   ]
  },
  {
   "cell_type": "markdown",
   "id": "7fb1b7a5",
   "metadata": {},
   "source": [
    "#### Values"
   ]
  },
  {
   "cell_type": "code",
   "execution_count": 9,
   "id": "89cbe854",
   "metadata": {},
   "outputs": [
    {
     "data": {
      "text/plain": [
       "dict_values(['Mango', 'Apple'])"
      ]
     },
     "execution_count": 9,
     "metadata": {},
     "output_type": "execute_result"
    }
   ],
   "source": [
    "Fruits.values() # Returns list of values. Not necessary values will be in order"
   ]
  },
  {
   "cell_type": "code",
   "execution_count": 10,
   "id": "2608b2d3",
   "metadata": {},
   "outputs": [
    {
     "data": {
      "text/plain": [
       "['Mango', 'Apple']"
      ]
     },
     "execution_count": 10,
     "metadata": {},
     "output_type": "execute_result"
    }
   ],
   "source": [
    "list(Fruits.values())"
   ]
  },
  {
   "cell_type": "markdown",
   "id": "334ebea8",
   "metadata": {},
   "source": [
    "#### Iterate over Dictionary"
   ]
  },
  {
   "cell_type": "code",
   "execution_count": 11,
   "id": "b15a778a",
   "metadata": {},
   "outputs": [
    {
     "name": "stdout",
     "output_type": "stream",
     "text": [
      "Mango\n",
      "Apple\n"
     ]
    }
   ],
   "source": [
    "for key in Fruits.keys():\n",
    "    print(Fruits[key])"
   ]
  },
  {
   "cell_type": "markdown",
   "id": "81275aee",
   "metadata": {},
   "source": [
    "Name of Dictionary also iterate over Keys"
   ]
  },
  {
   "cell_type": "code",
   "execution_count": 12,
   "id": "3396ba7d",
   "metadata": {},
   "outputs": [
    {
     "name": "stdout",
     "output_type": "stream",
     "text": [
      "Mango\n",
      "Apple\n"
     ]
    }
   ],
   "source": [
    "for key in Fruits:\n",
    "    print(Fruits[key])"
   ]
  },
  {
   "cell_type": "markdown",
   "id": "55e72139",
   "metadata": {},
   "source": [
    "#### Addition/Deletion of Item"
   ]
  },
  {
   "cell_type": "markdown",
   "id": "131e9fa7",
   "metadata": {},
   "source": [
    "addition of Item"
   ]
  },
  {
   "cell_type": "code",
   "execution_count": 13,
   "id": "01841d4e",
   "metadata": {},
   "outputs": [
    {
     "data": {
      "text/plain": [
       "{'fruit_1': 'Mango', 'fruit_2': 'Apple'}"
      ]
     },
     "execution_count": 13,
     "metadata": {},
     "output_type": "execute_result"
    }
   ],
   "source": [
    "Fruits"
   ]
  },
  {
   "cell_type": "code",
   "execution_count": 14,
   "id": "ceccd796",
   "metadata": {},
   "outputs": [],
   "source": [
    "Fruits['fruit_3'] = \"Banana\""
   ]
  },
  {
   "cell_type": "code",
   "execution_count": 15,
   "id": "ca9c1581",
   "metadata": {},
   "outputs": [
    {
     "data": {
      "text/plain": [
       "{'fruit_1': 'Mango', 'fruit_2': 'Apple', 'fruit_3': 'Banana'}"
      ]
     },
     "execution_count": 15,
     "metadata": {},
     "output_type": "execute_result"
    }
   ],
   "source": [
    "Fruits"
   ]
  },
  {
   "cell_type": "markdown",
   "id": "a764bcd3",
   "metadata": {},
   "source": [
    "deletion of Item. Item can be deleted based on Key value. One ata a time"
   ]
  },
  {
   "cell_type": "code",
   "execution_count": 16,
   "id": "61810849",
   "metadata": {},
   "outputs": [
    {
     "data": {
      "text/plain": [
       "'Apple'"
      ]
     },
     "execution_count": 16,
     "metadata": {},
     "output_type": "execute_result"
    }
   ],
   "source": [
    "Fruits.pop('fruit_2')"
   ]
  },
  {
   "cell_type": "code",
   "execution_count": 17,
   "id": "a203b640",
   "metadata": {},
   "outputs": [
    {
     "data": {
      "text/plain": [
       "{'fruit_1': 'Mango', 'fruit_3': 'Banana'}"
      ]
     },
     "execution_count": 17,
     "metadata": {},
     "output_type": "execute_result"
    }
   ],
   "source": [
    "Fruits"
   ]
  },
  {
   "cell_type": "code",
   "execution_count": 18,
   "id": "2eea7262",
   "metadata": {},
   "outputs": [
    {
     "ename": "KeyError",
     "evalue": "'fruit_4'",
     "output_type": "error",
     "traceback": [
      "\u001b[1;31m---------------------------------------------------------------------------\u001b[0m",
      "\u001b[1;31mKeyError\u001b[0m                                  Traceback (most recent call last)",
      "\u001b[1;32m~\\AppData\\Local\\Temp\\ipykernel_18300\\869126171.py\u001b[0m in \u001b[0;36m<module>\u001b[1;34m\u001b[0m\n\u001b[1;32m----> 1\u001b[1;33m \u001b[0mFruits\u001b[0m\u001b[1;33m.\u001b[0m\u001b[0mpop\u001b[0m\u001b[1;33m(\u001b[0m\u001b[1;34m'fruit_4'\u001b[0m\u001b[1;33m)\u001b[0m\u001b[1;33m\u001b[0m\u001b[1;33m\u001b[0m\u001b[0m\n\u001b[0m",
      "\u001b[1;31mKeyError\u001b[0m: 'fruit_4'"
     ]
    }
   ],
   "source": [
    "Fruits.pop('fruit_4')"
   ]
  },
  {
   "cell_type": "markdown",
   "id": "0b5e5853",
   "metadata": {},
   "source": [
    "remove all items from Dictionary"
   ]
  },
  {
   "cell_type": "code",
   "execution_count": 19,
   "id": "eb801436",
   "metadata": {},
   "outputs": [],
   "source": [
    "Fruits.clear()"
   ]
  },
  {
   "cell_type": "code",
   "execution_count": 20,
   "id": "4f13cf4d",
   "metadata": {},
   "outputs": [
    {
     "data": {
      "text/plain": [
       "{}"
      ]
     },
     "execution_count": 20,
     "metadata": {},
     "output_type": "execute_result"
    }
   ],
   "source": [
    "Fruits"
   ]
  },
  {
   "cell_type": "markdown",
   "id": "d7e40b1f",
   "metadata": {},
   "source": [
    "remove an random item"
   ]
  },
  {
   "cell_type": "code",
   "execution_count": 21,
   "id": "7deba2dd",
   "metadata": {},
   "outputs": [],
   "source": [
    "Fruits = {\"fruit_1\" : \"Mango\", \"fruit_2\" : \"Apple\", \"fruit_3\" : \"Banana\", \"fruit_4\" : \"Strawberry\", \"fruit_5\" : \"Cherry\"}"
   ]
  },
  {
   "cell_type": "code",
   "execution_count": 22,
   "id": "a83f2ffa",
   "metadata": {},
   "outputs": [
    {
     "data": {
      "text/plain": [
       "{'fruit_1': 'Mango',\n",
       " 'fruit_2': 'Apple',\n",
       " 'fruit_3': 'Banana',\n",
       " 'fruit_4': 'Strawberry',\n",
       " 'fruit_5': 'Cherry'}"
      ]
     },
     "execution_count": 22,
     "metadata": {},
     "output_type": "execute_result"
    }
   ],
   "source": [
    "Fruits"
   ]
  },
  {
   "cell_type": "code",
   "execution_count": 23,
   "id": "4f917176",
   "metadata": {},
   "outputs": [
    {
     "data": {
      "text/plain": [
       "('fruit_5', 'Cherry')"
      ]
     },
     "execution_count": 23,
     "metadata": {},
     "output_type": "execute_result"
    }
   ],
   "source": [
    "Fruits.popitem() # Remove a random item. Not necessary the last one as there is no index for Dictionary. Modify Dictionary"
   ]
  },
  {
   "cell_type": "code",
   "execution_count": 24,
   "id": "909c6d34",
   "metadata": {},
   "outputs": [
    {
     "data": {
      "text/plain": [
       "{'fruit_1': 'Mango',\n",
       " 'fruit_2': 'Apple',\n",
       " 'fruit_3': 'Banana',\n",
       " 'fruit_4': 'Strawberry'}"
      ]
     },
     "execution_count": 24,
     "metadata": {},
     "output_type": "execute_result"
    }
   ],
   "source": [
    "Fruits"
   ]
  },
  {
   "cell_type": "markdown",
   "id": "f7132a5c",
   "metadata": {},
   "source": [
    "#### Set Default"
   ]
  },
  {
   "cell_type": "markdown",
   "id": "f606cc79",
   "metadata": {},
   "source": [
    "dict_var.setdefault(key, value)"
   ]
  },
  {
   "cell_type": "markdown",
   "id": "31759eb6",
   "metadata": {},
   "source": [
    "Value is Optional<br>If key found, return the value<br>If key not found, add that key in dictionary with value (\"None\" if value not provided)"
   ]
  },
  {
   "cell_type": "code",
   "execution_count": 25,
   "id": "819aabdf",
   "metadata": {},
   "outputs": [
    {
     "data": {
      "text/plain": [
       "{'fruit_1': 'Mango',\n",
       " 'fruit_2': 'Apple',\n",
       " 'fruit_3': 'Banana',\n",
       " 'fruit_4': 'Strawberry'}"
      ]
     },
     "execution_count": 25,
     "metadata": {},
     "output_type": "execute_result"
    }
   ],
   "source": [
    "Fruits"
   ]
  },
  {
   "cell_type": "code",
   "execution_count": 26,
   "id": "65eac01d",
   "metadata": {},
   "outputs": [
    {
     "data": {
      "text/plain": [
       "'Strawberry'"
      ]
     },
     "execution_count": 26,
     "metadata": {},
     "output_type": "execute_result"
    }
   ],
   "source": [
    "Fruits.setdefault('fruit_4')"
   ]
  },
  {
   "cell_type": "code",
   "execution_count": 28,
   "id": "de6bdb84",
   "metadata": {},
   "outputs": [],
   "source": [
    "Fruits.setdefault('fruit_6') # 'fruit_6' will be added with value None"
   ]
  },
  {
   "cell_type": "code",
   "execution_count": 29,
   "id": "8c33c593",
   "metadata": {},
   "outputs": [
    {
     "data": {
      "text/plain": [
       "{'fruit_1': 'Mango',\n",
       " 'fruit_2': 'Apple',\n",
       " 'fruit_3': 'Banana',\n",
       " 'fruit_4': 'Strawberry',\n",
       " 'fruit_6': None}"
      ]
     },
     "execution_count": 29,
     "metadata": {},
     "output_type": "execute_result"
    }
   ],
   "source": [
    "Fruits"
   ]
  },
  {
   "cell_type": "code",
   "execution_count": 30,
   "id": "263f5639",
   "metadata": {},
   "outputs": [
    {
     "data": {
      "text/plain": [
       "'Cherry'"
      ]
     },
     "execution_count": 30,
     "metadata": {},
     "output_type": "execute_result"
    }
   ],
   "source": [
    "Fruits.setdefault('fruit_5', \"Cherry\") # 'fruit_5' will be added with value \"Cherry\""
   ]
  },
  {
   "cell_type": "code",
   "execution_count": 31,
   "id": "fc34d2cc",
   "metadata": {},
   "outputs": [
    {
     "data": {
      "text/plain": [
       "{'fruit_1': 'Mango',\n",
       " 'fruit_2': 'Apple',\n",
       " 'fruit_3': 'Banana',\n",
       " 'fruit_4': 'Strawberry',\n",
       " 'fruit_6': None,\n",
       " 'fruit_5': 'Cherry'}"
      ]
     },
     "execution_count": 31,
     "metadata": {},
     "output_type": "execute_result"
    }
   ],
   "source": [
    "Fruits"
   ]
  }
 ],
 "metadata": {
  "kernelspec": {
   "display_name": "Python 3 (ipykernel)",
   "language": "python",
   "name": "python3"
  },
  "language_info": {
   "codemirror_mode": {
    "name": "ipython",
    "version": 3
   },
   "file_extension": ".py",
   "mimetype": "text/x-python",
   "name": "python",
   "nbconvert_exporter": "python",
   "pygments_lexer": "ipython3",
   "version": "3.7.4"
  }
 },
 "nbformat": 4,
 "nbformat_minor": 5
}
