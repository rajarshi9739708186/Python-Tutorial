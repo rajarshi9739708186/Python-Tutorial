{
 "cells": [
  {
   "cell_type": "markdown",
   "id": "3c5d560a",
   "metadata": {},
   "source": [
    "# Function"
   ]
  },
  {
   "cell_type": "markdown",
   "id": "4b0c901e",
   "metadata": {},
   "source": [
    "Defination"
   ]
  },
  {
   "cell_type": "code",
   "execution_count": 2,
   "id": "fe78e2fb",
   "metadata": {},
   "outputs": [],
   "source": [
    "def func_1():\n",
    "    print(\"Rajarshi\")"
   ]
  },
  {
   "cell_type": "markdown",
   "id": "ec3e39ec",
   "metadata": {},
   "source": [
    "Function Call"
   ]
  },
  {
   "cell_type": "code",
   "execution_count": 4,
   "id": "6c059a16",
   "metadata": {},
   "outputs": [
    {
     "name": "stdout",
     "output_type": "stream",
     "text": [
      "Rajarshi\n"
     ]
    }
   ],
   "source": [
    "func_1()"
   ]
  },
  {
   "cell_type": "markdown",
   "id": "dbce3cbf",
   "metadata": {},
   "source": [
    "#### Function with Arguments"
   ]
  },
  {
   "cell_type": "code",
   "execution_count": 5,
   "id": "80f27c0b",
   "metadata": {},
   "outputs": [],
   "source": [
    "def addition(num_1, num_2):\n",
    "    return num_1+num_2"
   ]
  },
  {
   "cell_type": "code",
   "execution_count": 6,
   "id": "ddb7b87d",
   "metadata": {},
   "outputs": [
    {
     "data": {
      "text/plain": [
       "30"
      ]
     },
     "execution_count": 6,
     "metadata": {},
     "output_type": "execute_result"
    }
   ],
   "source": [
    "addition(10, 20)"
   ]
  },
  {
   "cell_type": "markdown",
   "id": "c838f44d",
   "metadata": {},
   "source": [
    "#### Function with default Arguments"
   ]
  },
  {
   "cell_type": "markdown",
   "id": "be9e54a6",
   "metadata": {},
   "source": [
    "Argumnets must have to be initialized with some Value in function parameter during definition<br>If function called with some argument, that paased argument will be transferred<br>If function called without argument, that initialized argument value will be passed"
   ]
  },
  {
   "cell_type": "code",
   "execution_count": 8,
   "id": "79390dce",
   "metadata": {},
   "outputs": [],
   "source": [
    "def func_caller(name = \"Unknown Person\"):\n",
    "    print(f\"Function called by {name}\")"
   ]
  },
  {
   "cell_type": "code",
   "execution_count": 9,
   "id": "5b8ac5e2",
   "metadata": {},
   "outputs": [
    {
     "name": "stdout",
     "output_type": "stream",
     "text": [
      "Function called by Rajarshi\n"
     ]
    }
   ],
   "source": [
    "func_caller(\"Rajarshi\")"
   ]
  },
  {
   "cell_type": "code",
   "execution_count": 10,
   "id": "061d89e6",
   "metadata": {},
   "outputs": [
    {
     "name": "stdout",
     "output_type": "stream",
     "text": [
      "Function called by Unknown Person\n"
     ]
    }
   ],
   "source": [
    "func_caller() # No argument passed. Default argument will be transferred"
   ]
  },
  {
   "cell_type": "markdown",
   "id": "3ce74122",
   "metadata": {},
   "source": [
    "#### Function References"
   ]
  },
  {
   "cell_type": "code",
   "execution_count": 22,
   "id": "5ee75aba",
   "metadata": {},
   "outputs": [],
   "source": [
    "def func_1():\n",
    "    print(\"Some Function\")"
   ]
  },
  {
   "cell_type": "code",
   "execution_count": 13,
   "id": "4689798a",
   "metadata": {},
   "outputs": [
    {
     "name": "stdout",
     "output_type": "stream",
     "text": [
      "Some Function\n"
     ]
    }
   ],
   "source": [
    "func_1()"
   ]
  },
  {
   "cell_type": "code",
   "execution_count": 14,
   "id": "4f58c26c",
   "metadata": {},
   "outputs": [],
   "source": [
    "func_2 = func_1 # Base address of func_1 is assigned into variable func_2"
   ]
  },
  {
   "cell_type": "code",
   "execution_count": 17,
   "id": "1bbc46c3",
   "metadata": {},
   "outputs": [
    {
     "data": {
      "text/plain": [
       "<function __main__.func_1()>"
      ]
     },
     "execution_count": 17,
     "metadata": {},
     "output_type": "execute_result"
    }
   ],
   "source": [
    "func_2"
   ]
  },
  {
   "cell_type": "code",
   "execution_count": 18,
   "id": "9aca023f",
   "metadata": {},
   "outputs": [
    {
     "data": {
      "text/plain": [
       "<function __main__.func_1()>"
      ]
     },
     "execution_count": 18,
     "metadata": {},
     "output_type": "execute_result"
    }
   ],
   "source": [
    "func_1"
   ]
  },
  {
   "cell_type": "code",
   "execution_count": 19,
   "id": "8faf7a63",
   "metadata": {},
   "outputs": [
    {
     "name": "stdout",
     "output_type": "stream",
     "text": [
      "Some Function\n"
     ]
    }
   ],
   "source": [
    "func_2()"
   ]
  },
  {
   "cell_type": "code",
   "execution_count": 23,
   "id": "861b3082",
   "metadata": {},
   "outputs": [],
   "source": [
    "del func_1 # Deleting reference of func_1. Reference variable func_1 will be no longer available. Can't call through func_1"
   ]
  },
  {
   "cell_type": "code",
   "execution_count": 24,
   "id": "0c563358",
   "metadata": {},
   "outputs": [
    {
     "ename": "NameError",
     "evalue": "name 'func_1' is not defined",
     "output_type": "error",
     "traceback": [
      "\u001b[1;31m---------------------------------------------------------------------------\u001b[0m",
      "\u001b[1;31mNameError\u001b[0m                                 Traceback (most recent call last)",
      "\u001b[1;32m~\\AppData\\Local\\Temp\\ipykernel_7228\\2675266531.py\u001b[0m in \u001b[0;36m<module>\u001b[1;34m\u001b[0m\n\u001b[1;32m----> 1\u001b[1;33m \u001b[0mfunc_1\u001b[0m\u001b[1;33m\u001b[0m\u001b[1;33m\u001b[0m\u001b[0m\n\u001b[0m",
      "\u001b[1;31mNameError\u001b[0m: name 'func_1' is not defined"
     ]
    }
   ],
   "source": [
    "func_1"
   ]
  },
  {
   "cell_type": "code",
   "execution_count": 26,
   "id": "1e428408",
   "metadata": {},
   "outputs": [
    {
     "name": "stdout",
     "output_type": "stream",
     "text": [
      "Some Function\n"
     ]
    }
   ],
   "source": [
    "func_2() # Reference variable func_2 still poininting to that function in memory"
   ]
  },
  {
   "cell_type": "markdown",
   "id": "19a768a8",
   "metadata": {},
   "source": [
    "#### Variable Number of arguments"
   ]
  },
  {
   "cell_type": "code",
   "execution_count": 27,
   "id": "3cdc39d2",
   "metadata": {},
   "outputs": [],
   "source": [
    "def addition(*args):\n",
    "    return sum(args)"
   ]
  },
  {
   "cell_type": "markdown",
   "id": "0b1f00f9",
   "metadata": {},
   "source": [
    "args => Tuple<br>\"args\" name is not mandatory<br>Varaiable name should be prefixed with *"
   ]
  },
  {
   "cell_type": "code",
   "execution_count": 28,
   "id": "4b084b00",
   "metadata": {},
   "outputs": [
    {
     "data": {
      "text/plain": [
       "60"
      ]
     },
     "execution_count": 28,
     "metadata": {},
     "output_type": "execute_result"
    }
   ],
   "source": [
    "addition(10, 20, 30)"
   ]
  },
  {
   "cell_type": "code",
   "execution_count": 29,
   "id": "41cfdc29",
   "metadata": {},
   "outputs": [
    {
     "data": {
      "text/plain": [
       "100"
      ]
     },
     "execution_count": 29,
     "metadata": {},
     "output_type": "execute_result"
    }
   ],
   "source": [
    "addition(10, 20, 30, 40)"
   ]
  },
  {
   "cell_type": "code",
   "execution_count": 30,
   "id": "e57a4b34",
   "metadata": {},
   "outputs": [],
   "source": [
    "def fruit_bucket(**args):\n",
    "    print(args)"
   ]
  },
  {
   "cell_type": "markdown",
   "id": "af2a5748",
   "metadata": {},
   "source": [
    "args => Dictionary (Key Value pair)<br>\"args\" name is not mandatory<br>Varaiable name should be prefixed with **"
   ]
  },
  {
   "cell_type": "code",
   "execution_count": 34,
   "id": "004e7e3d",
   "metadata": {},
   "outputs": [
    {
     "name": "stdout",
     "output_type": "stream",
     "text": [
      "{'fruit1': 'Mango', 'fruit2': 'Apple', 'fruit3': 'Cherry'}\n"
     ]
    }
   ],
   "source": [
    "fruit_bucket(fruit1=\"Mango\",fruit2=\"Apple\", fruit3=\"Cherry\") # Each argument is an Key value pair. Key can't be expression"
   ]
  },
  {
   "cell_type": "markdown",
   "id": "ea29ed72",
   "metadata": {},
   "source": [
    "#### Combination of variable Number of Arguments"
   ]
  },
  {
   "cell_type": "code",
   "execution_count": 39,
   "id": "eb45357d",
   "metadata": {},
   "outputs": [],
   "source": [
    "def combination(*Tuple_List, **Dict_List):\n",
    "    print(Tuple_List) # First set of argumnets must have to be Tuple\n",
    "    print(Dict_List) # Second set of argumnets must have to be dictionary"
   ]
  },
  {
   "cell_type": "markdown",
   "id": "8b8e526f",
   "metadata": {},
   "source": [
    "Valid"
   ]
  },
  {
   "cell_type": "code",
   "execution_count": 40,
   "id": "14e872c8",
   "metadata": {},
   "outputs": [
    {
     "name": "stdout",
     "output_type": "stream",
     "text": [
      "(1, 2, 3)\n",
      "{'fruit1': 'Mango', 'fruit2': 'Apple'}\n"
     ]
    }
   ],
   "source": [
    "combination(1,2,3,fruit1=\"Mango\",fruit2=\"Apple\")"
   ]
  },
  {
   "cell_type": "markdown",
   "id": "615e7530",
   "metadata": {},
   "source": [
    "Invalid"
   ]
  },
  {
   "cell_type": "code",
   "execution_count": 41,
   "id": "b8a7d9ef",
   "metadata": {},
   "outputs": [
    {
     "ename": "SyntaxError",
     "evalue": "positional argument follows keyword argument (2812231435.py, line 1)",
     "output_type": "error",
     "traceback": [
      "\u001b[1;36m  File \u001b[1;32m\"C:\\Users\\rahar\\AppData\\Local\\Temp\\ipykernel_7228\\2812231435.py\"\u001b[1;36m, line \u001b[1;32m1\u001b[0m\n\u001b[1;33m    combination(1,2,3,fruit1=\"Mango\",fruit2=\"Apple\",5,6)\u001b[0m\n\u001b[1;37m                                                   ^\u001b[0m\n\u001b[1;31mSyntaxError\u001b[0m\u001b[1;31m:\u001b[0m positional argument follows keyword argument\n"
     ]
    }
   ],
   "source": [
    "combination(1,2,3,fruit1=\"Mango\",fruit2=\"Apple\",5,6)"
   ]
  },
  {
   "cell_type": "markdown",
   "id": "2b31b603",
   "metadata": {},
   "source": [
    "Valid"
   ]
  },
  {
   "cell_type": "code",
   "execution_count": 42,
   "id": "13eb28f9",
   "metadata": {},
   "outputs": [
    {
     "name": "stdout",
     "output_type": "stream",
     "text": [
      "(1, 2, 3, 4)\n",
      "{}\n"
     ]
    }
   ],
   "source": [
    "combination(1,2,3,4)"
   ]
  },
  {
   "cell_type": "markdown",
   "id": "4af481d6",
   "metadata": {},
   "source": [
    "Valid"
   ]
  },
  {
   "cell_type": "code",
   "execution_count": 43,
   "id": "a6dd5ffb",
   "metadata": {},
   "outputs": [
    {
     "name": "stdout",
     "output_type": "stream",
     "text": [
      "()\n",
      "{'fruit1': 'Mango', 'fruit2': 'Apple'}\n"
     ]
    }
   ],
   "source": [
    "combination(fruit1=\"Mango\",fruit2=\"Apple\")"
   ]
  },
  {
   "cell_type": "markdown",
   "id": "86aeddcf",
   "metadata": {},
   "source": [
    "#### Function Reference"
   ]
  },
  {
   "cell_type": "markdown",
   "id": "fee9fc93",
   "metadata": {},
   "source": [
    "Function name \"func_1\" is actually a reference variable which is pointing to the memory location where function codes are written. While calling, it actually execute those codes"
   ]
  },
  {
   "cell_type": "code",
   "execution_count": 44,
   "id": "b1e7bf7a",
   "metadata": {},
   "outputs": [],
   "source": [
    "def func_1():\n",
    "    print(\"Function func_1\")"
   ]
  },
  {
   "cell_type": "code",
   "execution_count": 45,
   "id": "bf4f2d7e",
   "metadata": {},
   "outputs": [
    {
     "data": {
      "text/plain": [
       "<function __main__.func_1()>"
      ]
     },
     "execution_count": 45,
     "metadata": {},
     "output_type": "execute_result"
    }
   ],
   "source": [
    "func_1 # Location"
   ]
  },
  {
   "cell_type": "code",
   "execution_count": 47,
   "id": "073a9865",
   "metadata": {},
   "outputs": [
    {
     "name": "stdout",
     "output_type": "stream",
     "text": [
      "Function func_1\n"
     ]
    }
   ],
   "source": [
    "func_1() # Executing codes from that location"
   ]
  },
  {
   "cell_type": "markdown",
   "id": "dafe3922",
   "metadata": {},
   "source": [
    "As it is an refernce variable, we can pass that variable in Other function also. From there we can execute that function"
   ]
  },
  {
   "cell_type": "code",
   "execution_count": 48,
   "id": "4e182d8b",
   "metadata": {},
   "outputs": [],
   "source": [
    "def some_other_func(func_reference_variable_passed_as_an_argument):\n",
    "    func_reference_variable_passed_as_an_argument() # Calling that function"
   ]
  },
  {
   "cell_type": "code",
   "execution_count": 49,
   "id": "79fdbdb9",
   "metadata": {},
   "outputs": [
    {
     "name": "stdout",
     "output_type": "stream",
     "text": [
      "Function func_1\n"
     ]
    }
   ],
   "source": [
    "some_other_func(func_1) # func_1 => func_reference_variable_passed_as_an_argument"
   ]
  },
  {
   "cell_type": "markdown",
   "id": "251f4a02",
   "metadata": {},
   "source": [
    "#### Scope of Function"
   ]
  },
  {
   "cell_type": "code",
   "execution_count": 50,
   "id": "59fc5a08",
   "metadata": {},
   "outputs": [],
   "source": [
    "def func_1(var):\n",
    "    print(\"Func_1 Called\")\n",
    "    \n",
    "    def func_A():\n",
    "        print(\"Function A\")\n",
    "        \n",
    "    def func_Other():\n",
    "        print(\"Function Other\")\n",
    "        \n",
    "    if var==\"A\":\n",
    "        return func_A # Return address location of func_A\n",
    "    else:\n",
    "        return func_Other # Return address location of func_Other"
   ]
  },
  {
   "cell_type": "markdown",
   "id": "3e896f64",
   "metadata": {},
   "source": [
    "func_A defined inside func_1<br>func_A is local to func_1<br>Can't call func_A from outside<br>Same with func_Other"
   ]
  },
  {
   "cell_type": "code",
   "execution_count": 51,
   "id": "0d8c61f1",
   "metadata": {},
   "outputs": [
    {
     "ename": "NameError",
     "evalue": "name 'func_A' is not defined",
     "output_type": "error",
     "traceback": [
      "\u001b[1;31m---------------------------------------------------------------------------\u001b[0m",
      "\u001b[1;31mNameError\u001b[0m                                 Traceback (most recent call last)",
      "\u001b[1;32m~\\AppData\\Local\\Temp\\ipykernel_7228\\2296485463.py\u001b[0m in \u001b[0;36m<module>\u001b[1;34m\u001b[0m\n\u001b[1;32m----> 1\u001b[1;33m \u001b[0mfunc_A\u001b[0m\u001b[1;33m(\u001b[0m\u001b[1;33m)\u001b[0m\u001b[1;33m\u001b[0m\u001b[1;33m\u001b[0m\u001b[0m\n\u001b[0m",
      "\u001b[1;31mNameError\u001b[0m: name 'func_A' is not defined"
     ]
    }
   ],
   "source": [
    "func_A()"
   ]
  },
  {
   "cell_type": "markdown",
   "id": "1229a895",
   "metadata": {},
   "source": [
    "To execute func_A from outside<br>We need to get the address location of func_A<br>We can get this address location if func_1 return that address"
   ]
  },
  {
   "cell_type": "code",
   "execution_count": 53,
   "id": "e9101206",
   "metadata": {},
   "outputs": [
    {
     "name": "stdout",
     "output_type": "stream",
     "text": [
      "Func_1 Called\n"
     ]
    }
   ],
   "source": [
    "get_Address_of_func_A = func_1(\"A\") # get_Address_of_func_A => Address location of func_A"
   ]
  },
  {
   "cell_type": "code",
   "execution_count": 54,
   "id": "7b4556ed",
   "metadata": {},
   "outputs": [
    {
     "data": {
      "text/plain": [
       "<function __main__.func_1(var)>"
      ]
     },
     "execution_count": 54,
     "metadata": {},
     "output_type": "execute_result"
    }
   ],
   "source": [
    "func_1"
   ]
  },
  {
   "cell_type": "code",
   "execution_count": 55,
   "id": "c97148f0",
   "metadata": {},
   "outputs": [
    {
     "data": {
      "text/plain": [
       "<function __main__.func_1.<locals>.func_A()>"
      ]
     },
     "execution_count": 55,
     "metadata": {},
     "output_type": "execute_result"
    }
   ],
   "source": [
    "get_Address_of_func_A"
   ]
  },
  {
   "cell_type": "code",
   "execution_count": 56,
   "id": "886d347b",
   "metadata": {},
   "outputs": [
    {
     "name": "stdout",
     "output_type": "stream",
     "text": [
      "Function A\n"
     ]
    }
   ],
   "source": [
    "get_Address_of_func_A()"
   ]
  },
  {
   "cell_type": "code",
   "execution_count": 58,
   "id": "b040d3e4",
   "metadata": {},
   "outputs": [
    {
     "name": "stdout",
     "output_type": "stream",
     "text": [
      "Func_1 Called\n",
      "Function Other\n"
     ]
    }
   ],
   "source": [
    "func_1(\"XYZ\")()"
   ]
  }
 ],
 "metadata": {
  "kernelspec": {
   "display_name": "Python 3 (ipykernel)",
   "language": "python",
   "name": "python3"
  },
  "language_info": {
   "codemirror_mode": {
    "name": "ipython",
    "version": 3
   },
   "file_extension": ".py",
   "mimetype": "text/x-python",
   "name": "python",
   "nbconvert_exporter": "python",
   "pygments_lexer": "ipython3",
   "version": "3.7.4"
  }
 },
 "nbformat": 4,
 "nbformat_minor": 5
}
