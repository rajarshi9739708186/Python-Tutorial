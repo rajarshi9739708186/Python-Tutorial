{
 "cells": [
  {
   "cell_type": "markdown",
   "id": "6e595a03",
   "metadata": {},
   "source": [
    "# Relational Operator"
   ]
  },
  {
   "cell_type": "code",
   "execution_count": 1,
   "id": "f18dab51",
   "metadata": {},
   "outputs": [
    {
     "data": {
      "text/plain": [
       "True"
      ]
     },
     "execution_count": 1,
     "metadata": {},
     "output_type": "execute_result"
    }
   ],
   "source": [
    "10 < 20"
   ]
  },
  {
   "cell_type": "code",
   "execution_count": 2,
   "id": "59a1e28d",
   "metadata": {},
   "outputs": [
    {
     "data": {
      "text/plain": [
       "False"
      ]
     },
     "execution_count": 2,
     "metadata": {},
     "output_type": "execute_result"
    }
   ],
   "source": [
    "10 > 20"
   ]
  },
  {
   "cell_type": "code",
   "execution_count": 3,
   "id": "1f74242a",
   "metadata": {},
   "outputs": [
    {
     "data": {
      "text/plain": [
       "True"
      ]
     },
     "execution_count": 3,
     "metadata": {},
     "output_type": "execute_result"
    }
   ],
   "source": [
    "15 >= 15"
   ]
  },
  {
   "cell_type": "code",
   "execution_count": 4,
   "id": "2c13650b",
   "metadata": {},
   "outputs": [
    {
     "data": {
      "text/plain": [
       "False"
      ]
     },
     "execution_count": 4,
     "metadata": {},
     "output_type": "execute_result"
    }
   ],
   "source": [
    "15 >= 16"
   ]
  },
  {
   "cell_type": "code",
   "execution_count": 5,
   "id": "1fbddc8c",
   "metadata": {},
   "outputs": [
    {
     "data": {
      "text/plain": [
       "True"
      ]
     },
     "execution_count": 5,
     "metadata": {},
     "output_type": "execute_result"
    }
   ],
   "source": [
    "15 == 15"
   ]
  },
  {
   "cell_type": "code",
   "execution_count": 6,
   "id": "6826eb39",
   "metadata": {},
   "outputs": [
    {
     "data": {
      "text/plain": [
       "False"
      ]
     },
     "execution_count": 6,
     "metadata": {},
     "output_type": "execute_result"
    }
   ],
   "source": [
    "15 != 15"
   ]
  },
  {
   "cell_type": "markdown",
   "id": "48cde033",
   "metadata": {},
   "source": [
    "Above mentioned operators works in similar fashion for String"
   ]
  },
  {
   "cell_type": "markdown",
   "id": "d32e2413",
   "metadata": {},
   "source": [
    "In case of String it gets converted into ASCII value and then gets compared"
   ]
  },
  {
   "cell_type": "code",
   "execution_count": 7,
   "id": "04464607",
   "metadata": {},
   "outputs": [
    {
     "data": {
      "text/plain": [
       "True"
      ]
     },
     "execution_count": 7,
     "metadata": {},
     "output_type": "execute_result"
    }
   ],
   "source": [
    "\"rajarshi\" > \"Rajarshi\"  # ASCII value of 'r' is greater than ASCII value of 'R'"
   ]
  },
  {
   "cell_type": "markdown",
   "id": "568f8d1b",
   "metadata": {},
   "source": [
    "For Boolean"
   ]
  },
  {
   "cell_type": "markdown",
   "id": "8a8be4c8",
   "metadata": {},
   "source": [
    "True => 1<br>False=> 0"
   ]
  },
  {
   "cell_type": "code",
   "execution_count": 8,
   "id": "e4829541",
   "metadata": {},
   "outputs": [
    {
     "data": {
      "text/plain": [
       "False"
      ]
     },
     "execution_count": 8,
     "metadata": {},
     "output_type": "execute_result"
    }
   ],
   "source": [
    "True < False"
   ]
  }
 ],
 "metadata": {
  "kernelspec": {
   "display_name": "Python 3 (ipykernel)",
   "language": "python",
   "name": "python3"
  },
  "language_info": {
   "codemirror_mode": {
    "name": "ipython",
    "version": 3
   },
   "file_extension": ".py",
   "mimetype": "text/x-python",
   "name": "python",
   "nbconvert_exporter": "python",
   "pygments_lexer": "ipython3",
   "version": "3.7.4"
  }
 },
 "nbformat": 4,
 "nbformat_minor": 5
}
