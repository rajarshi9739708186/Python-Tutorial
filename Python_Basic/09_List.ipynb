{
 "cells": [
  {
   "cell_type": "markdown",
   "id": "194ae643",
   "metadata": {},
   "source": [
    "# List"
   ]
  },
  {
   "cell_type": "markdown",
   "id": "9fbf4fa1",
   "metadata": {},
   "source": [
    "List is Iterable, Ordered and Indexed<br>Indexing is exactly same as String<br>Slicing is exactly same as String<br>Length is exactly same as String"
   ]
  },
  {
   "cell_type": "markdown",
   "id": "7880d76b",
   "metadata": {},
   "source": [
    "#### List is Mutable"
   ]
  },
  {
   "cell_type": "code",
   "execution_count": 86,
   "id": "b53b35c2",
   "metadata": {},
   "outputs": [],
   "source": [
    "a = [1,2,3,4]"
   ]
  },
  {
   "cell_type": "code",
   "execution_count": 87,
   "id": "948d282a",
   "metadata": {},
   "outputs": [],
   "source": [
    "a[2] = 100"
   ]
  },
  {
   "cell_type": "code",
   "execution_count": 88,
   "id": "5e371eaf",
   "metadata": {},
   "outputs": [
    {
     "data": {
      "text/plain": [
       "[1, 2, 100, 4]"
      ]
     },
     "execution_count": 88,
     "metadata": {},
     "output_type": "execute_result"
    }
   ],
   "source": [
    "a"
   ]
  },
  {
   "cell_type": "markdown",
   "id": "f346fbbd",
   "metadata": {},
   "source": [
    "#### Concatenate two List"
   ]
  },
  {
   "cell_type": "code",
   "execution_count": 115,
   "id": "bb4982a8",
   "metadata": {},
   "outputs": [],
   "source": [
    "a = [1,2,3]\n",
    "b = [4,5,6]"
   ]
  },
  {
   "cell_type": "code",
   "execution_count": 116,
   "id": "b93a3687",
   "metadata": {},
   "outputs": [
    {
     "data": {
      "text/plain": [
       "[1, 2, 3, 4, 5, 6]"
      ]
     },
     "execution_count": 116,
     "metadata": {},
     "output_type": "execute_result"
    }
   ],
   "source": [
    "a+b # Return a new list"
   ]
  },
  {
   "cell_type": "code",
   "execution_count": 117,
   "id": "5ce96d5b",
   "metadata": {},
   "outputs": [],
   "source": [
    "a.extend(b)"
   ]
  },
  {
   "cell_type": "code",
   "execution_count": 118,
   "id": "72688a64",
   "metadata": {},
   "outputs": [
    {
     "data": {
      "text/plain": [
       "[1, 2, 3, 4, 5, 6]"
      ]
     },
     "execution_count": 118,
     "metadata": {},
     "output_type": "execute_result"
    }
   ],
   "source": [
    "a # Modify list a itself"
   ]
  },
  {
   "cell_type": "markdown",
   "id": "f1c7a4e4",
   "metadata": {},
   "source": [
    "#### Addition/Deletion of item"
   ]
  },
  {
   "cell_type": "markdown",
   "id": "669a20a4",
   "metadata": {},
   "source": [
    "add value at end. Only one value can be added at a time"
   ]
  },
  {
   "cell_type": "code",
   "execution_count": 92,
   "id": "b6cb84ff",
   "metadata": {},
   "outputs": [],
   "source": [
    "a = [1,2,3]\n",
    "a.append(4) # Append value and modify the List"
   ]
  },
  {
   "cell_type": "code",
   "execution_count": 93,
   "id": "4f72f1ca",
   "metadata": {},
   "outputs": [
    {
     "data": {
      "text/plain": [
       "[1, 2, 3, 4]"
      ]
     },
     "execution_count": 93,
     "metadata": {},
     "output_type": "execute_result"
    }
   ],
   "source": [
    "a"
   ]
  },
  {
   "cell_type": "markdown",
   "id": "ed5f4e6a",
   "metadata": {},
   "source": [
    "remove value from end. Only one value can be removed at a time"
   ]
  },
  {
   "cell_type": "code",
   "execution_count": 94,
   "id": "8df4e909",
   "metadata": {},
   "outputs": [
    {
     "data": {
      "text/plain": [
       "4"
      ]
     },
     "execution_count": 94,
     "metadata": {},
     "output_type": "execute_result"
    }
   ],
   "source": [
    "a = [1,2,3,4]\n",
    "a.pop() # Return the last value. Modify the List"
   ]
  },
  {
   "cell_type": "code",
   "execution_count": 95,
   "id": "821e7423",
   "metadata": {},
   "outputs": [
    {
     "data": {
      "text/plain": [
       "[1, 2, 3]"
      ]
     },
     "execution_count": 95,
     "metadata": {},
     "output_type": "execute_result"
    }
   ],
   "source": [
    "a"
   ]
  },
  {
   "cell_type": "markdown",
   "id": "d359272b",
   "metadata": {},
   "source": [
    "remove item from specific index position. Only one value can be removed at a time"
   ]
  },
  {
   "cell_type": "code",
   "execution_count": 96,
   "id": "145305f0",
   "metadata": {},
   "outputs": [
    {
     "data": {
      "text/plain": [
       "2"
      ]
     },
     "execution_count": 96,
     "metadata": {},
     "output_type": "execute_result"
    }
   ],
   "source": [
    "a = [1,2,3,4]\n",
    "a.pop(1) # Return value from that index. Modify the List"
   ]
  },
  {
   "cell_type": "code",
   "execution_count": 97,
   "id": "7858e0c6",
   "metadata": {},
   "outputs": [
    {
     "data": {
      "text/plain": [
       "[1, 3, 4]"
      ]
     },
     "execution_count": 97,
     "metadata": {},
     "output_type": "execute_result"
    }
   ],
   "source": [
    "a"
   ]
  },
  {
   "cell_type": "markdown",
   "id": "c2f350ef",
   "metadata": {},
   "source": [
    "insert item at specific index position. Only one value can be added at a time"
   ]
  },
  {
   "cell_type": "code",
   "execution_count": 98,
   "id": "8f27bd57",
   "metadata": {},
   "outputs": [],
   "source": [
    "a = [1,2,3,4]\n",
    "a.insert(2, 100) # at second index 100 will be added. Rest of the value will be shifted. Modify the List"
   ]
  },
  {
   "cell_type": "code",
   "execution_count": 99,
   "id": "504f3a8c",
   "metadata": {},
   "outputs": [
    {
     "data": {
      "text/plain": [
       "[1, 2, 100, 3, 4]"
      ]
     },
     "execution_count": 99,
     "metadata": {},
     "output_type": "execute_result"
    }
   ],
   "source": [
    "a"
   ]
  },
  {
   "cell_type": "markdown",
   "id": "bc77a6d3",
   "metadata": {},
   "source": [
    "remove a specific value. Only first occurance of that value will be removed"
   ]
  },
  {
   "cell_type": "code",
   "execution_count": 100,
   "id": "f4aa7dfb",
   "metadata": {},
   "outputs": [],
   "source": [
    "a = [1,2,3,2,4,2,5]\n",
    "a.remove(2) # Modify the List"
   ]
  },
  {
   "cell_type": "code",
   "execution_count": 101,
   "id": "c030993a",
   "metadata": {},
   "outputs": [
    {
     "data": {
      "text/plain": [
       "[1, 3, 2, 4, 2, 5]"
      ]
     },
     "execution_count": 101,
     "metadata": {},
     "output_type": "execute_result"
    }
   ],
   "source": [
    "a"
   ]
  },
  {
   "cell_type": "markdown",
   "id": "52ba71fb",
   "metadata": {},
   "source": [
    "remove all item from list"
   ]
  },
  {
   "cell_type": "code",
   "execution_count": 119,
   "id": "cc4da9c8",
   "metadata": {},
   "outputs": [],
   "source": [
    "a = [1,2,3,2,4,2,5]\n",
    "a.clear() # Modify the List"
   ]
  },
  {
   "cell_type": "code",
   "execution_count": 120,
   "id": "9307e41a",
   "metadata": {},
   "outputs": [
    {
     "data": {
      "text/plain": [
       "[]"
      ]
     },
     "execution_count": 120,
     "metadata": {},
     "output_type": "execute_result"
    }
   ],
   "source": [
    "a"
   ]
  },
  {
   "cell_type": "markdown",
   "id": "6dba32a5",
   "metadata": {},
   "source": [
    "#### Index of value"
   ]
  },
  {
   "cell_type": "code",
   "execution_count": 102,
   "id": "0dfbbee1",
   "metadata": {},
   "outputs": [
    {
     "data": {
      "text/plain": [
       "1"
      ]
     },
     "execution_count": 102,
     "metadata": {},
     "output_type": "execute_result"
    }
   ],
   "source": [
    "a = [1,2,3,2,4,2,5]\n",
    "a.index(2) # Return index of first occurance of value 2"
   ]
  },
  {
   "cell_type": "markdown",
   "id": "65ffcf92",
   "metadata": {},
   "source": [
    "#### Sort"
   ]
  },
  {
   "cell_type": "code",
   "execution_count": 103,
   "id": "1daa22ca",
   "metadata": {},
   "outputs": [],
   "source": [
    "a = [1, 100, 45, 7]\n",
    "a.sort() # Sort in ascending order. Modify the List"
   ]
  },
  {
   "cell_type": "code",
   "execution_count": 104,
   "id": "3e603e13",
   "metadata": {},
   "outputs": [
    {
     "data": {
      "text/plain": [
       "[1, 7, 45, 100]"
      ]
     },
     "execution_count": 104,
     "metadata": {},
     "output_type": "execute_result"
    }
   ],
   "source": [
    "a"
   ]
  },
  {
   "cell_type": "code",
   "execution_count": 105,
   "id": "bfc017c3",
   "metadata": {},
   "outputs": [],
   "source": [
    "a = [1, 100, 45, 7]\n",
    "a.sort(reverse=True) # Sort in descending order. Modify the List"
   ]
  },
  {
   "cell_type": "code",
   "execution_count": 106,
   "id": "37687975",
   "metadata": {},
   "outputs": [
    {
     "data": {
      "text/plain": [
       "[100, 45, 7, 1]"
      ]
     },
     "execution_count": 106,
     "metadata": {},
     "output_type": "execute_result"
    }
   ],
   "source": [
    "a"
   ]
  },
  {
   "cell_type": "markdown",
   "id": "df67565b",
   "metadata": {},
   "source": [
    "#### Reverse"
   ]
  },
  {
   "cell_type": "code",
   "execution_count": 107,
   "id": "e4b9eaf6",
   "metadata": {},
   "outputs": [],
   "source": [
    "a = [1, 100, 45, 7]\n",
    "a.reverse() # Reverse the list. Modify the list"
   ]
  },
  {
   "cell_type": "code",
   "execution_count": 108,
   "id": "c23a6cdf",
   "metadata": {},
   "outputs": [
    {
     "data": {
      "text/plain": [
       "[7, 45, 100, 1]"
      ]
     },
     "execution_count": 108,
     "metadata": {},
     "output_type": "execute_result"
    }
   ],
   "source": [
    "a"
   ]
  },
  {
   "cell_type": "markdown",
   "id": "a9187fb5",
   "metadata": {},
   "source": [
    "#### Count of Items"
   ]
  },
  {
   "cell_type": "code",
   "execution_count": 109,
   "id": "74451cc0",
   "metadata": {},
   "outputs": [
    {
     "data": {
      "text/plain": [
       "3"
      ]
     },
     "execution_count": 109,
     "metadata": {},
     "output_type": "execute_result"
    }
   ],
   "source": [
    "a = [1,2,3,2,4,2,5]\n",
    "a.count(2) # Return count of all occurances of value 2"
   ]
  },
  {
   "cell_type": "markdown",
   "id": "4c73ce54",
   "metadata": {},
   "source": [
    "#### Convert List into String"
   ]
  },
  {
   "cell_type": "code",
   "execution_count": 111,
   "id": "ebc9ca3c",
   "metadata": {},
   "outputs": [
    {
     "data": {
      "text/plain": [
       "'I@work@in@Honeywell'"
      ]
     },
     "execution_count": 111,
     "metadata": {},
     "output_type": "execute_result"
    }
   ],
   "source": [
    "a = [\"I\", \"work\", \"in\", \"Honeywell\"]\n",
    "\"@\".join(a) # Append that substring in between all items"
   ]
  },
  {
   "cell_type": "markdown",
   "id": "5ac57b95",
   "metadata": {},
   "source": [
    "String conversion can be done only if all Items are String"
   ]
  },
  {
   "cell_type": "code",
   "execution_count": 112,
   "id": "0f2b5bf5",
   "metadata": {},
   "outputs": [
    {
     "ename": "TypeError",
     "evalue": "sequence item 0: expected str instance, int found",
     "output_type": "error",
     "traceback": [
      "\u001b[1;31m---------------------------------------------------------------------------\u001b[0m",
      "\u001b[1;31mTypeError\u001b[0m                                 Traceback (most recent call last)",
      "\u001b[1;32m~\\AppData\\Local\\Temp\\ipykernel_4800\\4045768277.py\u001b[0m in \u001b[0;36m<module>\u001b[1;34m\u001b[0m\n\u001b[0;32m      1\u001b[0m \u001b[0ma\u001b[0m \u001b[1;33m=\u001b[0m \u001b[1;33m[\u001b[0m\u001b[1;36m1\u001b[0m\u001b[1;33m,\u001b[0m \u001b[1;34m\"work\"\u001b[0m\u001b[1;33m,\u001b[0m \u001b[1;34m\"in\"\u001b[0m\u001b[1;33m,\u001b[0m \u001b[1;34m\"Honeywell\"\u001b[0m\u001b[1;33m]\u001b[0m\u001b[1;33m\u001b[0m\u001b[1;33m\u001b[0m\u001b[0m\n\u001b[1;32m----> 2\u001b[1;33m \u001b[1;34m\"@\"\u001b[0m\u001b[1;33m.\u001b[0m\u001b[0mjoin\u001b[0m\u001b[1;33m(\u001b[0m\u001b[0ma\u001b[0m\u001b[1;33m)\u001b[0m\u001b[1;33m\u001b[0m\u001b[1;33m\u001b[0m\u001b[0m\n\u001b[0m",
      "\u001b[1;31mTypeError\u001b[0m: sequence item 0: expected str instance, int found"
     ]
    }
   ],
   "source": [
    "a = [1, \"work\", \"in\", \"Honeywell\"]\n",
    "\"@\".join(a)"
   ]
  },
  {
   "cell_type": "markdown",
   "id": "18ea2f48",
   "metadata": {},
   "source": [
    "#### Numeric Operations"
   ]
  },
  {
   "cell_type": "markdown",
   "id": "a6c86267",
   "metadata": {},
   "source": [
    "below operations can be performed if all of the list items are Numeric. Else error"
   ]
  },
  {
   "cell_type": "code",
   "execution_count": 122,
   "id": "e03e316d",
   "metadata": {},
   "outputs": [],
   "source": [
    "a = [1, 2, 5.6, 4, 0]"
   ]
  },
  {
   "cell_type": "code",
   "execution_count": 123,
   "id": "2d72be20",
   "metadata": {},
   "outputs": [
    {
     "data": {
      "text/plain": [
       "5.6"
      ]
     },
     "execution_count": 123,
     "metadata": {},
     "output_type": "execute_result"
    }
   ],
   "source": [
    "max(a) # Highest value"
   ]
  },
  {
   "cell_type": "code",
   "execution_count": 124,
   "id": "18472cf4",
   "metadata": {},
   "outputs": [
    {
     "data": {
      "text/plain": [
       "0"
      ]
     },
     "execution_count": 124,
     "metadata": {},
     "output_type": "execute_result"
    }
   ],
   "source": [
    "min(a) # Lowest value"
   ]
  },
  {
   "cell_type": "code",
   "execution_count": 125,
   "id": "78c82472",
   "metadata": {},
   "outputs": [
    {
     "data": {
      "text/plain": [
       "12.6"
      ]
     },
     "execution_count": 125,
     "metadata": {},
     "output_type": "execute_result"
    }
   ],
   "source": [
    "sum(a) # Addition of all values"
   ]
  }
 ],
 "metadata": {
  "kernelspec": {
   "display_name": "Python 3 (ipykernel)",
   "language": "python",
   "name": "python3"
  },
  "language_info": {
   "codemirror_mode": {
    "name": "ipython",
    "version": 3
   },
   "file_extension": ".py",
   "mimetype": "text/x-python",
   "name": "python",
   "nbconvert_exporter": "python",
   "pygments_lexer": "ipython3",
   "version": "3.7.4"
  }
 },
 "nbformat": 4,
 "nbformat_minor": 5
}
