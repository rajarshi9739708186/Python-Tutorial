{
 "cells": [
  {
   "cell_type": "markdown",
   "id": "605aa146",
   "metadata": {},
   "source": [
    "# Basic Print"
   ]
  },
  {
   "cell_type": "code",
   "execution_count": 8,
   "id": "a70efc01",
   "metadata": {},
   "outputs": [
    {
     "name": "stdout",
     "output_type": "stream",
     "text": [
      "Rajarshi\n"
     ]
    }
   ],
   "source": [
    "print(\"Rajarshi\")"
   ]
  },
  {
   "cell_type": "markdown",
   "id": "20de21e0",
   "metadata": {},
   "source": [
    "append two String argument with a Space"
   ]
  },
  {
   "cell_type": "code",
   "execution_count": 10,
   "id": "0dd162db",
   "metadata": {},
   "outputs": [
    {
     "name": "stdout",
     "output_type": "stream",
     "text": [
      "I work in Honeywell\n"
     ]
    }
   ],
   "source": [
    "print(\"I work\", \"in\", \"Honeywell\")"
   ]
  },
  {
   "cell_type": "code",
   "execution_count": 12,
   "id": "6207b1a2",
   "metadata": {},
   "outputs": [],
   "source": [
    "a=10\n",
    "b=20"
   ]
  },
  {
   "cell_type": "code",
   "execution_count": 15,
   "id": "05f96b1d",
   "metadata": {},
   "outputs": [
    {
     "name": "stdout",
     "output_type": "stream",
     "text": [
      "value of a: 10 value of b: 20\n"
     ]
    }
   ],
   "source": [
    "print(\"value of a:\",a,\"value of b:\",b)"
   ]
  },
  {
   "cell_type": "markdown",
   "id": "0be0ec17",
   "metadata": {},
   "source": [
    "each print statement automatically append a newline at end"
   ]
  },
  {
   "cell_type": "code",
   "execution_count": 20,
   "id": "be7cb836",
   "metadata": {},
   "outputs": [
    {
     "name": "stdout",
     "output_type": "stream",
     "text": [
      "value of a\n",
      "value of b\n"
     ]
    }
   ],
   "source": [
    "print(\"value of a\")\n",
    "print(\"value of b\")"
   ]
  },
  {
   "cell_type": "markdown",
   "id": "aae707c8",
   "metadata": {},
   "source": [
    "If you don't need a newline at end"
   ]
  },
  {
   "cell_type": "code",
   "execution_count": 23,
   "id": "f0c4193f",
   "metadata": {},
   "outputs": [
    {
     "name": "stdout",
     "output_type": "stream",
     "text": [
      "value of avalue of b"
     ]
    }
   ],
   "source": [
    "print(\"value of a\", end=\"\")\n",
    "print(\"value of b\", end=\"\")"
   ]
  },
  {
   "cell_type": "markdown",
   "id": "e840bcff",
   "metadata": {},
   "source": [
    "# F String"
   ]
  },
  {
   "cell_type": "markdown",
   "id": "52e70324",
   "metadata": {},
   "source": [
    "String should start with f => f\"...\"<br>variable supposed to be replaced should be placed inside {} => f\"..{var1}..{var2}\""
   ]
  },
  {
   "cell_type": "code",
   "execution_count": 16,
   "id": "fbe0f7a6",
   "metadata": {},
   "outputs": [
    {
     "name": "stdout",
     "output_type": "stream",
     "text": [
      "value of a: 10 value of b: 20\n"
     ]
    }
   ],
   "source": [
    "print(f\"value of a: {a} value of b: {b}\")"
   ]
  },
  {
   "cell_type": "markdown",
   "id": "188652d6",
   "metadata": {},
   "source": [
    "Values inside {} must have to be a variable or an valid operation which can return a value"
   ]
  },
  {
   "cell_type": "code",
   "execution_count": 18,
   "id": "70764591",
   "metadata": {},
   "outputs": [
    {
     "ename": "NameError",
     "evalue": "name 'x' is not defined",
     "output_type": "error",
     "traceback": [
      "\u001b[1;31m---------------------------------------------------------------------------\u001b[0m",
      "\u001b[1;31mNameError\u001b[0m                                 Traceback (most recent call last)",
      "\u001b[1;32m~\\AppData\\Local\\Temp\\ipykernel_4796\\1278215430.py\u001b[0m in \u001b[0;36m<module>\u001b[1;34m\u001b[0m\n\u001b[1;32m----> 1\u001b[1;33m \u001b[0mprint\u001b[0m\u001b[1;33m(\u001b[0m\u001b[1;34mf\"value of a: {x} value of b: {y}\"\u001b[0m\u001b[1;33m)\u001b[0m\u001b[1;33m\u001b[0m\u001b[1;33m\u001b[0m\u001b[0m\n\u001b[0m",
      "\u001b[1;31mNameError\u001b[0m: name 'x' is not defined"
     ]
    }
   ],
   "source": [
    "print(f\"value of a: {x} value of b: {y}\")"
   ]
  },
  {
   "cell_type": "code",
   "execution_count": 19,
   "id": "816a3310",
   "metadata": {},
   "outputs": [
    {
     "name": "stdout",
     "output_type": "stream",
     "text": [
      "value of a: 2 value of b: 4\n"
     ]
    }
   ],
   "source": [
    "print(f\"value of a: {1+1} value of b: {2+2}\")"
   ]
  }
 ],
 "metadata": {
  "kernelspec": {
   "display_name": "Python 3 (ipykernel)",
   "language": "python",
   "name": "python3"
  },
  "language_info": {
   "codemirror_mode": {
    "name": "ipython",
    "version": 3
   },
   "file_extension": ".py",
   "mimetype": "text/x-python",
   "name": "python",
   "nbconvert_exporter": "python",
   "pygments_lexer": "ipython3",
   "version": "3.7.4"
  }
 },
 "nbformat": 4,
 "nbformat_minor": 5
}
