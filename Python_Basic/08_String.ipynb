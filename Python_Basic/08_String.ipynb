{
 "cells": [
  {
   "cell_type": "markdown",
   "id": "e9b17efe",
   "metadata": {},
   "source": [
    "# String"
   ]
  },
  {
   "cell_type": "markdown",
   "id": "ae40037b",
   "metadata": {},
   "source": [
    "String is Iterable, Ordered and Indexed"
   ]
  },
  {
   "cell_type": "markdown",
   "id": "5228db64",
   "metadata": {},
   "source": [
    "Charcater index : 0 to n-1"
   ]
  },
  {
   "cell_type": "code",
   "execution_count": 126,
   "id": "91c6c51f",
   "metadata": {},
   "outputs": [
    {
     "name": "stdout",
     "output_type": "stream",
     "text": [
      "R\n",
      "a\n",
      "j\n",
      "a\n",
      "r\n",
      "s\n",
      "h\n",
      "i\n"
     ]
    }
   ],
   "source": [
    "a = \"Rajarshi\"\n",
    "\n",
    "for char in a:\n",
    "    print(char)"
   ]
  },
  {
   "cell_type": "markdown",
   "id": "6af7799a",
   "metadata": {},
   "source": [
    "#### String to List"
   ]
  },
  {
   "cell_type": "code",
   "execution_count": 84,
   "id": "be20ac69",
   "metadata": {},
   "outputs": [],
   "source": [
    "a = \"Rajarshi\""
   ]
  },
  {
   "cell_type": "code",
   "execution_count": 85,
   "id": "4f665bd8",
   "metadata": {},
   "outputs": [
    {
     "data": {
      "text/plain": [
       "['R', 'a', 'j', 'a', 'r', 's', 'h', 'i']"
      ]
     },
     "execution_count": 85,
     "metadata": {},
     "output_type": "execute_result"
    }
   ],
   "source": [
    "list(a)"
   ]
  },
  {
   "cell_type": "markdown",
   "id": "f61a09ae",
   "metadata": {},
   "source": [
    "#### Length : Size of String"
   ]
  },
  {
   "cell_type": "code",
   "execution_count": 3,
   "id": "eb4ffb60",
   "metadata": {},
   "outputs": [
    {
     "data": {
      "text/plain": [
       "8"
      ]
     },
     "execution_count": 3,
     "metadata": {},
     "output_type": "execute_result"
    }
   ],
   "source": [
    "len(a) #\"Rajarshi\""
   ]
  },
  {
   "cell_type": "markdown",
   "id": "d998de69",
   "metadata": {},
   "source": [
    "#### Slicing"
   ]
  },
  {
   "cell_type": "markdown",
   "id": "406674fc",
   "metadata": {},
   "source": [
    "string_var[start_index : end_index : step]"
   ]
  },
  {
   "cell_type": "markdown",
   "id": "a98b1562",
   "metadata": {},
   "source": [
    "start_index:<br>If we ignore then from First Charcater"
   ]
  },
  {
   "cell_type": "markdown",
   "id": "2a7d9f93",
   "metadata": {},
   "source": [
    "end_index:<br>1. If we ignore then till last character<br>2. If end_index provided, then till previous to end_index"
   ]
  },
  {
   "cell_type": "markdown",
   "id": "a635c9ec",
   "metadata": {},
   "source": [
    "step:<br>1. Optional<br>2. If provided, next character will be from the index Position incremented to step size"
   ]
  },
  {
   "cell_type": "code",
   "execution_count": 4,
   "id": "ba226ab3",
   "metadata": {},
   "outputs": [
    {
     "data": {
      "text/plain": [
       "'Rajarshi'"
      ]
     },
     "execution_count": 4,
     "metadata": {},
     "output_type": "execute_result"
    }
   ],
   "source": [
    "a"
   ]
  },
  {
   "cell_type": "code",
   "execution_count": 5,
   "id": "fd869ac8",
   "metadata": {},
   "outputs": [
    {
     "data": {
      "text/plain": [
       "'Raj'"
      ]
     },
     "execution_count": 5,
     "metadata": {},
     "output_type": "execute_result"
    }
   ],
   "source": [
    "a[:3]"
   ]
  },
  {
   "cell_type": "code",
   "execution_count": 6,
   "id": "a55b2398",
   "metadata": {},
   "outputs": [
    {
     "data": {
      "text/plain": [
       "'jarshi'"
      ]
     },
     "execution_count": 6,
     "metadata": {},
     "output_type": "execute_result"
    }
   ],
   "source": [
    "a[2:]"
   ]
  },
  {
   "cell_type": "code",
   "execution_count": 7,
   "id": "0b40482a",
   "metadata": {},
   "outputs": [
    {
     "data": {
      "text/plain": [
       "'jars'"
      ]
     },
     "execution_count": 7,
     "metadata": {},
     "output_type": "execute_result"
    }
   ],
   "source": [
    "a[2:6]"
   ]
  },
  {
   "cell_type": "code",
   "execution_count": 8,
   "id": "3447cd7f",
   "metadata": {},
   "outputs": [
    {
     "data": {
      "text/plain": [
       "'Rajarshi'"
      ]
     },
     "execution_count": 8,
     "metadata": {},
     "output_type": "execute_result"
    }
   ],
   "source": [
    "a[:]"
   ]
  },
  {
   "cell_type": "code",
   "execution_count": 9,
   "id": "5f60bace",
   "metadata": {},
   "outputs": [
    {
     "data": {
      "text/plain": [
       "'Rjrh'"
      ]
     },
     "execution_count": 9,
     "metadata": {},
     "output_type": "execute_result"
    }
   ],
   "source": [
    "a[::2]"
   ]
  },
  {
   "cell_type": "code",
   "execution_count": 10,
   "id": "1d96c837",
   "metadata": {},
   "outputs": [
    {
     "data": {
      "text/plain": [
       "'aa'"
      ]
     },
     "execution_count": 10,
     "metadata": {},
     "output_type": "execute_result"
    }
   ],
   "source": [
    "a[1:5:2]"
   ]
  },
  {
   "cell_type": "code",
   "execution_count": 11,
   "id": "a63d542b",
   "metadata": {},
   "outputs": [
    {
     "data": {
      "text/plain": [
       "''"
      ]
     },
     "execution_count": 11,
     "metadata": {},
     "output_type": "execute_result"
    }
   ],
   "source": [
    "a[1:5:-1]"
   ]
  },
  {
   "cell_type": "code",
   "execution_count": 12,
   "id": "0938f037",
   "metadata": {},
   "outputs": [
    {
     "data": {
      "text/plain": [
       "'sraj'"
      ]
     },
     "execution_count": 12,
     "metadata": {},
     "output_type": "execute_result"
    }
   ],
   "source": [
    "a[5:1:-1]"
   ]
  },
  {
   "cell_type": "markdown",
   "id": "aa160652",
   "metadata": {},
   "source": [
    "#### Reverse Index"
   ]
  },
  {
   "cell_type": "markdown",
   "id": "bb82eb3e",
   "metadata": {},
   "source": [
    "Charcater index : -n to -1"
   ]
  },
  {
   "cell_type": "code",
   "execution_count": 14,
   "id": "63c19759",
   "metadata": {},
   "outputs": [
    {
     "data": {
      "text/plain": [
       "'Rajarshi'"
      ]
     },
     "execution_count": 14,
     "metadata": {},
     "output_type": "execute_result"
    }
   ],
   "source": [
    "a"
   ]
  },
  {
   "cell_type": "code",
   "execution_count": 15,
   "id": "27123ca1",
   "metadata": {},
   "outputs": [
    {
     "data": {
      "text/plain": [
       "'i'"
      ]
     },
     "execution_count": 15,
     "metadata": {},
     "output_type": "execute_result"
    }
   ],
   "source": [
    "a[-1]"
   ]
  },
  {
   "cell_type": "code",
   "execution_count": 16,
   "id": "58d79f7a",
   "metadata": {},
   "outputs": [
    {
     "data": {
      "text/plain": [
       "'s'"
      ]
     },
     "execution_count": 16,
     "metadata": {},
     "output_type": "execute_result"
    }
   ],
   "source": [
    "a[-3]"
   ]
  },
  {
   "cell_type": "code",
   "execution_count": 18,
   "id": "c0e882fc",
   "metadata": {},
   "outputs": [
    {
     "data": {
      "text/plain": [
       "'R'"
      ]
     },
     "execution_count": 18,
     "metadata": {},
     "output_type": "execute_result"
    }
   ],
   "source": [
    "a[-8]"
   ]
  },
  {
   "cell_type": "markdown",
   "id": "c0b66ee6",
   "metadata": {},
   "source": [
    "#### String Reverse"
   ]
  },
  {
   "cell_type": "code",
   "execution_count": 19,
   "id": "7670156c",
   "metadata": {},
   "outputs": [
    {
     "data": {
      "text/plain": [
       "'ihsrajaR'"
      ]
     },
     "execution_count": 19,
     "metadata": {},
     "output_type": "execute_result"
    }
   ],
   "source": [
    "a[::-1]"
   ]
  },
  {
   "cell_type": "markdown",
   "id": "1b4e50d3",
   "metadata": {},
   "source": [
    "#### String is immutable"
   ]
  },
  {
   "cell_type": "code",
   "execution_count": 20,
   "id": "84026a57",
   "metadata": {},
   "outputs": [
    {
     "data": {
      "text/plain": [
       "'Rajarshi'"
      ]
     },
     "execution_count": 20,
     "metadata": {},
     "output_type": "execute_result"
    }
   ],
   "source": [
    "a"
   ]
  },
  {
   "cell_type": "code",
   "execution_count": 21,
   "id": "24e0ded4",
   "metadata": {},
   "outputs": [
    {
     "ename": "TypeError",
     "evalue": "'str' object does not support item assignment",
     "output_type": "error",
     "traceback": [
      "\u001b[1;31m---------------------------------------------------------------------------\u001b[0m",
      "\u001b[1;31mTypeError\u001b[0m                                 Traceback (most recent call last)",
      "\u001b[1;32m~\\AppData\\Local\\Temp\\ipykernel_4800\\1906905047.py\u001b[0m in \u001b[0;36m<module>\u001b[1;34m\u001b[0m\n\u001b[1;32m----> 1\u001b[1;33m \u001b[0ma\u001b[0m\u001b[1;33m[\u001b[0m\u001b[1;36m5\u001b[0m\u001b[1;33m]\u001b[0m \u001b[1;33m=\u001b[0m \u001b[1;34m\"X\"\u001b[0m\u001b[1;33m\u001b[0m\u001b[1;33m\u001b[0m\u001b[0m\n\u001b[0m",
      "\u001b[1;31mTypeError\u001b[0m: 'str' object does not support item assignment"
     ]
    }
   ],
   "source": [
    "a[5] = \"X\""
   ]
  },
  {
   "cell_type": "markdown",
   "id": "22ec9340",
   "metadata": {},
   "source": [
    "#### Split : Split string into List"
   ]
  },
  {
   "cell_type": "code",
   "execution_count": 23,
   "id": "e98a39e2",
   "metadata": {},
   "outputs": [],
   "source": [
    "a = \"I work in Honeywell\""
   ]
  },
  {
   "cell_type": "code",
   "execution_count": 24,
   "id": "8336375b",
   "metadata": {},
   "outputs": [
    {
     "data": {
      "text/plain": [
       "['I', 'work', 'in', 'Honeywell']"
      ]
     },
     "execution_count": 24,
     "metadata": {},
     "output_type": "execute_result"
    }
   ],
   "source": [
    "a.split() # No argument => Split based on White Space"
   ]
  },
  {
   "cell_type": "code",
   "execution_count": 25,
   "id": "52b0341d",
   "metadata": {},
   "outputs": [
    {
     "data": {
      "text/plain": [
       "['I w', 'rk in H', 'neywell']"
      ]
     },
     "execution_count": 25,
     "metadata": {},
     "output_type": "execute_result"
    }
   ],
   "source": [
    "a.split(\"o\") # argument => Split based on that substring"
   ]
  },
  {
   "cell_type": "markdown",
   "id": "3175d701",
   "metadata": {},
   "source": [
    "#### Strip : Trimming of characters"
   ]
  },
  {
   "cell_type": "code",
   "execution_count": 26,
   "id": "79118435",
   "metadata": {},
   "outputs": [],
   "source": [
    "a = \"\\n  ab  \\n\""
   ]
  },
  {
   "cell_type": "code",
   "execution_count": 27,
   "id": "235330fa",
   "metadata": {},
   "outputs": [
    {
     "data": {
      "text/plain": [
       "'\\n  ab  \\n'"
      ]
     },
     "execution_count": 27,
     "metadata": {},
     "output_type": "execute_result"
    }
   ],
   "source": [
    "a"
   ]
  },
  {
   "cell_type": "code",
   "execution_count": 28,
   "id": "bd323cd2",
   "metadata": {},
   "outputs": [
    {
     "data": {
      "text/plain": [
       "'ab'"
      ]
     },
     "execution_count": 28,
     "metadata": {},
     "output_type": "execute_result"
    }
   ],
   "source": [
    "a.strip() # No argument => Trim all space characters from Beginning and end"
   ]
  },
  {
   "cell_type": "code",
   "execution_count": 29,
   "id": "4bab5694",
   "metadata": {},
   "outputs": [
    {
     "data": {
      "text/plain": [
       "'\\n  ab'"
      ]
     },
     "execution_count": 29,
     "metadata": {},
     "output_type": "execute_result"
    }
   ],
   "source": [
    "a.rstrip() # No argument => Trim all space characters from end"
   ]
  },
  {
   "cell_type": "code",
   "execution_count": 30,
   "id": "be35ae09",
   "metadata": {},
   "outputs": [
    {
     "data": {
      "text/plain": [
       "'ab  \\n'"
      ]
     },
     "execution_count": 30,
     "metadata": {},
     "output_type": "execute_result"
    }
   ],
   "source": [
    "a.lstrip() # No argument => Trim all space characters from Beginning"
   ]
  },
  {
   "cell_type": "code",
   "execution_count": 31,
   "id": "0f2aaf2c",
   "metadata": {},
   "outputs": [],
   "source": [
    "a = \"abXYZab\""
   ]
  },
  {
   "cell_type": "code",
   "execution_count": 33,
   "id": "e1c7e91b",
   "metadata": {},
   "outputs": [
    {
     "data": {
      "text/plain": [
       "'XYZ'"
      ]
     },
     "execution_count": 33,
     "metadata": {},
     "output_type": "execute_result"
    }
   ],
   "source": [
    "a.strip(\"ab\") # argument => Trim those substring from Beginning and end if found. Similarly with lstrip() and rstrip()"
   ]
  },
  {
   "cell_type": "markdown",
   "id": "b3cadb87",
   "metadata": {},
   "source": [
    "#### check if start with a particular substring"
   ]
  },
  {
   "cell_type": "code",
   "execution_count": 34,
   "id": "0c74b76b",
   "metadata": {},
   "outputs": [],
   "source": [
    "a = \"Rajarshi\""
   ]
  },
  {
   "cell_type": "code",
   "execution_count": 35,
   "id": "9dfbe98c",
   "metadata": {},
   "outputs": [
    {
     "data": {
      "text/plain": [
       "True"
      ]
     },
     "execution_count": 35,
     "metadata": {},
     "output_type": "execute_result"
    }
   ],
   "source": [
    "a.startswith(\"Ra\")"
   ]
  },
  {
   "cell_type": "code",
   "execution_count": 36,
   "id": "7cd44252",
   "metadata": {},
   "outputs": [
    {
     "data": {
      "text/plain": [
       "False"
      ]
     },
     "execution_count": 36,
     "metadata": {},
     "output_type": "execute_result"
    }
   ],
   "source": [
    "a.startswith(\"ra\")"
   ]
  },
  {
   "cell_type": "markdown",
   "id": "ae33dbb1",
   "metadata": {},
   "source": [
    "#### check if end with a particular substring"
   ]
  },
  {
   "cell_type": "code",
   "execution_count": 39,
   "id": "2dff707d",
   "metadata": {},
   "outputs": [
    {
     "data": {
      "text/plain": [
       "'Rajarshi'"
      ]
     },
     "execution_count": 39,
     "metadata": {},
     "output_type": "execute_result"
    }
   ],
   "source": [
    "a"
   ]
  },
  {
   "cell_type": "code",
   "execution_count": 37,
   "id": "3453ae6c",
   "metadata": {},
   "outputs": [
    {
     "data": {
      "text/plain": [
       "True"
      ]
     },
     "execution_count": 37,
     "metadata": {},
     "output_type": "execute_result"
    }
   ],
   "source": [
    "a.endswith(\"hi\")"
   ]
  },
  {
   "cell_type": "code",
   "execution_count": 38,
   "id": "5c15c9ca",
   "metadata": {},
   "outputs": [
    {
     "data": {
      "text/plain": [
       "False"
      ]
     },
     "execution_count": 38,
     "metadata": {},
     "output_type": "execute_result"
    }
   ],
   "source": [
    "a.endswith(\"Hi\")"
   ]
  },
  {
   "cell_type": "markdown",
   "id": "b96449b3",
   "metadata": {},
   "source": [
    "#### Count : occurances of a substring"
   ]
  },
  {
   "cell_type": "markdown",
   "id": "f71ca9bb",
   "metadata": {},
   "source": [
    "string_var.count(substring, start_index, end_index)<br>start_index : Optional. If provided start from that index<br>end_index : Optional. If provided till previous to that index"
   ]
  },
  {
   "cell_type": "code",
   "execution_count": 40,
   "id": "b347354f",
   "metadata": {},
   "outputs": [
    {
     "data": {
      "text/plain": [
       "'Rajarshi'"
      ]
     },
     "execution_count": 40,
     "metadata": {},
     "output_type": "execute_result"
    }
   ],
   "source": [
    "a"
   ]
  },
  {
   "cell_type": "code",
   "execution_count": 47,
   "id": "302bb221",
   "metadata": {},
   "outputs": [
    {
     "data": {
      "text/plain": [
       "2"
      ]
     },
     "execution_count": 47,
     "metadata": {},
     "output_type": "execute_result"
    }
   ],
   "source": [
    "a.count(\"a\")"
   ]
  },
  {
   "cell_type": "code",
   "execution_count": 48,
   "id": "a8b77b65",
   "metadata": {},
   "outputs": [
    {
     "data": {
      "text/plain": [
       "1"
      ]
     },
     "execution_count": 48,
     "metadata": {},
     "output_type": "execute_result"
    }
   ],
   "source": [
    "a.count(\"a\",1,3)"
   ]
  },
  {
   "cell_type": "code",
   "execution_count": 49,
   "id": "064c3d51",
   "metadata": {},
   "outputs": [
    {
     "data": {
      "text/plain": [
       "2"
      ]
     },
     "execution_count": 49,
     "metadata": {},
     "output_type": "execute_result"
    }
   ],
   "source": [
    "a.count(\"a\",1,4)"
   ]
  },
  {
   "cell_type": "code",
   "execution_count": 50,
   "id": "57f920f9",
   "metadata": {},
   "outputs": [
    {
     "data": {
      "text/plain": [
       "0"
      ]
     },
     "execution_count": 50,
     "metadata": {},
     "output_type": "execute_result"
    }
   ],
   "source": [
    "a.count(\"X\")"
   ]
  },
  {
   "cell_type": "markdown",
   "id": "a20b39bf",
   "metadata": {},
   "source": [
    "#### Find : Index position of Substring"
   ]
  },
  {
   "cell_type": "markdown",
   "id": "04ad9b0e",
   "metadata": {},
   "source": [
    "string_var.find(substring, start_index, end_index)<br>Find index of first occurances of substring<br>start_index : Optional. If provided start from that index<br>end_index : Optional. If provided till previous to that index"
   ]
  },
  {
   "cell_type": "markdown",
   "id": "0b2fa70f",
   "metadata": {},
   "source": [
    "Return index if Found<br>Return -1 if not found"
   ]
  },
  {
   "cell_type": "code",
   "execution_count": 52,
   "id": "0e3d2e82",
   "metadata": {},
   "outputs": [
    {
     "data": {
      "text/plain": [
       "'Rajarshi'"
      ]
     },
     "execution_count": 52,
     "metadata": {},
     "output_type": "execute_result"
    }
   ],
   "source": [
    "a"
   ]
  },
  {
   "cell_type": "code",
   "execution_count": 54,
   "id": "f4481630",
   "metadata": {},
   "outputs": [
    {
     "data": {
      "text/plain": [
       "1"
      ]
     },
     "execution_count": 54,
     "metadata": {},
     "output_type": "execute_result"
    }
   ],
   "source": [
    "a.find(\"a\")"
   ]
  },
  {
   "cell_type": "code",
   "execution_count": 55,
   "id": "f3798e79",
   "metadata": {},
   "outputs": [
    {
     "data": {
      "text/plain": [
       "3"
      ]
     },
     "execution_count": 55,
     "metadata": {},
     "output_type": "execute_result"
    }
   ],
   "source": [
    "a.find(\"a\",2,6)"
   ]
  },
  {
   "cell_type": "code",
   "execution_count": 56,
   "id": "ecc4740b",
   "metadata": {},
   "outputs": [
    {
     "data": {
      "text/plain": [
       "-1"
      ]
     },
     "execution_count": 56,
     "metadata": {},
     "output_type": "execute_result"
    }
   ],
   "source": [
    "a.find(\"X\")"
   ]
  },
  {
   "cell_type": "markdown",
   "id": "3c6c8d18",
   "metadata": {},
   "source": [
    "string_var.rfind(substring, start_index, end_index)<br>Find index of last occurance of substring<br>start_index : Optional. If provided start from that index<br>end_index : Optional. If provided till previous to that index"
   ]
  },
  {
   "cell_type": "markdown",
   "id": "e0f9eedc",
   "metadata": {},
   "source": [
    "Return index if Found<br>Return -1 if not found"
   ]
  },
  {
   "cell_type": "code",
   "execution_count": 57,
   "id": "9aa35965",
   "metadata": {},
   "outputs": [
    {
     "data": {
      "text/plain": [
       "'Rajarshi'"
      ]
     },
     "execution_count": 57,
     "metadata": {},
     "output_type": "execute_result"
    }
   ],
   "source": [
    "a"
   ]
  },
  {
   "cell_type": "code",
   "execution_count": 58,
   "id": "b97e0bb9",
   "metadata": {},
   "outputs": [
    {
     "data": {
      "text/plain": [
       "3"
      ]
     },
     "execution_count": 58,
     "metadata": {},
     "output_type": "execute_result"
    }
   ],
   "source": [
    "a.rfind(\"a\")"
   ]
  },
  {
   "cell_type": "code",
   "execution_count": 62,
   "id": "67ff92a3",
   "metadata": {},
   "outputs": [
    {
     "data": {
      "text/plain": [
       "1"
      ]
     },
     "execution_count": 62,
     "metadata": {},
     "output_type": "execute_result"
    }
   ],
   "source": [
    "a.rfind(\"a\",0,3)"
   ]
  },
  {
   "cell_type": "code",
   "execution_count": 63,
   "id": "c636a0f1",
   "metadata": {},
   "outputs": [
    {
     "data": {
      "text/plain": [
       "-1"
      ]
     },
     "execution_count": 63,
     "metadata": {},
     "output_type": "execute_result"
    }
   ],
   "source": [
    "a.rfind(\"X\")"
   ]
  },
  {
   "cell_type": "markdown",
   "id": "87ee3ad7",
   "metadata": {},
   "source": [
    "#### Replace of substring"
   ]
  },
  {
   "cell_type": "markdown",
   "id": "fbb9f111",
   "metadata": {},
   "source": [
    "string_var.replace(old_substring, new_substring, count)<br>All occurances of old_substring will be replaced by new_substring if count is ignored<br>If count provided replacement will be done for that much time from start onwards"
   ]
  },
  {
   "cell_type": "code",
   "execution_count": 64,
   "id": "7e8e4e00",
   "metadata": {},
   "outputs": [
    {
     "data": {
      "text/plain": [
       "'Rajarshi'"
      ]
     },
     "execution_count": 64,
     "metadata": {},
     "output_type": "execute_result"
    }
   ],
   "source": [
    "a"
   ]
  },
  {
   "cell_type": "code",
   "execution_count": 65,
   "id": "6d6f7519",
   "metadata": {},
   "outputs": [
    {
     "data": {
      "text/plain": [
       "'RXjXrshi'"
      ]
     },
     "execution_count": 65,
     "metadata": {},
     "output_type": "execute_result"
    }
   ],
   "source": [
    "a.replace(\"a\", \"X\")"
   ]
  },
  {
   "cell_type": "code",
   "execution_count": 66,
   "id": "9e33d2d6",
   "metadata": {},
   "outputs": [
    {
     "data": {
      "text/plain": [
       "'RXjarshi'"
      ]
     },
     "execution_count": 66,
     "metadata": {},
     "output_type": "execute_result"
    }
   ],
   "source": [
    "a.replace(\"a\", \"X\", 1)"
   ]
  },
  {
   "cell_type": "markdown",
   "id": "e9e8ab87",
   "metadata": {},
   "source": [
    "#### Convert all character into Lowercase"
   ]
  },
  {
   "cell_type": "code",
   "execution_count": 67,
   "id": "9cec320e",
   "metadata": {},
   "outputs": [
    {
     "data": {
      "text/plain": [
       "'rajarshi'"
      ]
     },
     "execution_count": 67,
     "metadata": {},
     "output_type": "execute_result"
    }
   ],
   "source": [
    "a.lower()"
   ]
  },
  {
   "cell_type": "markdown",
   "id": "80836c29",
   "metadata": {},
   "source": [
    "#### Convert all character into Uppercase"
   ]
  },
  {
   "cell_type": "code",
   "execution_count": 68,
   "id": "bcd5e55e",
   "metadata": {},
   "outputs": [
    {
     "data": {
      "text/plain": [
       "'RAJARSHI'"
      ]
     },
     "execution_count": 68,
     "metadata": {},
     "output_type": "execute_result"
    }
   ],
   "source": [
    "a.upper()"
   ]
  },
  {
   "cell_type": "markdown",
   "id": "06496326",
   "metadata": {},
   "source": [
    "#### If all character in Lowercase"
   ]
  },
  {
   "cell_type": "code",
   "execution_count": 69,
   "id": "5c819828",
   "metadata": {},
   "outputs": [
    {
     "data": {
      "text/plain": [
       "True"
      ]
     },
     "execution_count": 69,
     "metadata": {},
     "output_type": "execute_result"
    }
   ],
   "source": [
    "\"rajarshi\".islower()"
   ]
  },
  {
   "cell_type": "code",
   "execution_count": 70,
   "id": "2bc9e23f",
   "metadata": {},
   "outputs": [
    {
     "data": {
      "text/plain": [
       "False"
      ]
     },
     "execution_count": 70,
     "metadata": {},
     "output_type": "execute_result"
    }
   ],
   "source": [
    "\"Rajarshi\".islower()"
   ]
  },
  {
   "cell_type": "markdown",
   "id": "d29a85c5",
   "metadata": {},
   "source": [
    "#### If all character in Uppercase"
   ]
  },
  {
   "cell_type": "code",
   "execution_count": 71,
   "id": "e6387d90",
   "metadata": {},
   "outputs": [
    {
     "data": {
      "text/plain": [
       "True"
      ]
     },
     "execution_count": 71,
     "metadata": {},
     "output_type": "execute_result"
    }
   ],
   "source": [
    "\"RAJARSHI\".isupper()"
   ]
  },
  {
   "cell_type": "code",
   "execution_count": 72,
   "id": "1e872b94",
   "metadata": {},
   "outputs": [
    {
     "data": {
      "text/plain": [
       "False"
      ]
     },
     "execution_count": 72,
     "metadata": {},
     "output_type": "execute_result"
    }
   ],
   "source": [
    "\"Rajarshi\".isupper()"
   ]
  },
  {
   "cell_type": "markdown",
   "id": "f5d816a8",
   "metadata": {},
   "source": [
    "#### Convert Alphabets into Reverse Case"
   ]
  },
  {
   "cell_type": "code",
   "execution_count": 73,
   "id": "69a07d1a",
   "metadata": {},
   "outputs": [
    {
     "data": {
      "text/plain": [
       "'123AbC789'"
      ]
     },
     "execution_count": 73,
     "metadata": {},
     "output_type": "execute_result"
    }
   ],
   "source": [
    "\"123aBc789\".swapcase()"
   ]
  },
  {
   "cell_type": "markdown",
   "id": "ff22e41c",
   "metadata": {},
   "source": [
    "#### Alphanumeric Cases"
   ]
  },
  {
   "cell_type": "markdown",
   "id": "a3e2a98f",
   "metadata": {},
   "source": [
    "If all belong inside [a..z] / [A..Z] / [0..9]"
   ]
  },
  {
   "cell_type": "code",
   "execution_count": 74,
   "id": "e587eddd",
   "metadata": {},
   "outputs": [
    {
     "data": {
      "text/plain": [
       "True"
      ]
     },
     "execution_count": 74,
     "metadata": {},
     "output_type": "execute_result"
    }
   ],
   "source": [
    "\"123abc456\".isalnum()"
   ]
  },
  {
   "cell_type": "code",
   "execution_count": 75,
   "id": "225d318c",
   "metadata": {},
   "outputs": [
    {
     "data": {
      "text/plain": [
       "False"
      ]
     },
     "execution_count": 75,
     "metadata": {},
     "output_type": "execute_result"
    }
   ],
   "source": [
    "\"123abc@456\".isalnum()"
   ]
  },
  {
   "cell_type": "markdown",
   "id": "291bd121",
   "metadata": {},
   "source": [
    "If all belong inside [a..z] / [A..Z]"
   ]
  },
  {
   "cell_type": "code",
   "execution_count": 77,
   "id": "c053961f",
   "metadata": {},
   "outputs": [
    {
     "data": {
      "text/plain": [
       "False"
      ]
     },
     "execution_count": 77,
     "metadata": {},
     "output_type": "execute_result"
    }
   ],
   "source": [
    "\"123abc456\".isalpha()"
   ]
  },
  {
   "cell_type": "code",
   "execution_count": 78,
   "id": "ad8dde29",
   "metadata": {},
   "outputs": [
    {
     "data": {
      "text/plain": [
       "True"
      ]
     },
     "execution_count": 78,
     "metadata": {},
     "output_type": "execute_result"
    }
   ],
   "source": [
    "\"abcXYZ\".isalnum()"
   ]
  },
  {
   "cell_type": "markdown",
   "id": "c6ee3f15",
   "metadata": {},
   "source": [
    "If all belong inside [0..9]"
   ]
  },
  {
   "cell_type": "code",
   "execution_count": 80,
   "id": "c7e68119",
   "metadata": {},
   "outputs": [
    {
     "data": {
      "text/plain": [
       "False"
      ]
     },
     "execution_count": 80,
     "metadata": {},
     "output_type": "execute_result"
    }
   ],
   "source": [
    "\"123abc456\".isdigit()"
   ]
  },
  {
   "cell_type": "code",
   "execution_count": 81,
   "id": "565d799c",
   "metadata": {},
   "outputs": [
    {
     "data": {
      "text/plain": [
       "True"
      ]
     },
     "execution_count": 81,
     "metadata": {},
     "output_type": "execute_result"
    }
   ],
   "source": [
    "\"123456\".isdigit()"
   ]
  },
  {
   "cell_type": "markdown",
   "id": "e32240c1",
   "metadata": {},
   "source": [
    "#### Capitalize"
   ]
  },
  {
   "cell_type": "markdown",
   "id": "6ad3e776",
   "metadata": {},
   "source": [
    "Capitalize only very first character of string. Rest all lowercase"
   ]
  },
  {
   "cell_type": "code",
   "execution_count": 82,
   "id": "63ee2797",
   "metadata": {},
   "outputs": [
    {
     "data": {
      "text/plain": [
       "'Rajarshi'"
      ]
     },
     "execution_count": 82,
     "metadata": {},
     "output_type": "execute_result"
    }
   ],
   "source": [
    "\"raJArsHi\".capitalize()"
   ]
  },
  {
   "cell_type": "code",
   "execution_count": 83,
   "id": "a9d44724",
   "metadata": {},
   "outputs": [
    {
     "data": {
      "text/plain": [
       "'I work in honeywell'"
      ]
     },
     "execution_count": 83,
     "metadata": {},
     "output_type": "execute_result"
    }
   ],
   "source": [
    "\"i work in Honeywell\".capitalize()"
   ]
  }
 ],
 "metadata": {
  "kernelspec": {
   "display_name": "Python 3 (ipykernel)",
   "language": "python",
   "name": "python3"
  },
  "language_info": {
   "codemirror_mode": {
    "name": "ipython",
    "version": 3
   },
   "file_extension": ".py",
   "mimetype": "text/x-python",
   "name": "python",
   "nbconvert_exporter": "python",
   "pygments_lexer": "ipython3",
   "version": "3.7.4"
  }
 },
 "nbformat": 4,
 "nbformat_minor": 5
}
