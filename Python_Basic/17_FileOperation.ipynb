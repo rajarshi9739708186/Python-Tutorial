{
 "cells": [
  {
   "cell_type": "markdown",
   "id": "97a8d239",
   "metadata": {},
   "source": [
    "#### Writing into a File"
   ]
  },
  {
   "cell_type": "code",
   "execution_count": 1,
   "id": "1def6dd0",
   "metadata": {},
   "outputs": [],
   "source": [
    "file_pointer = open(\"a.txt\", mode=\"w\") # Open file in write mode"
   ]
  },
  {
   "cell_type": "code",
   "execution_count": 2,
   "id": "9412a5e3",
   "metadata": {},
   "outputs": [
    {
     "data": {
      "text/plain": [
       "3"
      ]
     },
     "execution_count": 2,
     "metadata": {},
     "output_type": "execute_result"
    }
   ],
   "source": [
    "file_pointer.write(\"abc\") # abc will be written without new line\n",
    "file_pointer.write(\"def\") # def will be written without new line"
   ]
  },
  {
   "cell_type": "code",
   "execution_count": 3,
   "id": "d6effa88",
   "metadata": {},
   "outputs": [],
   "source": [
    "file_pointer.close() # Closing the file"
   ]
  },
  {
   "cell_type": "code",
   "execution_count": 4,
   "id": "824fb58a",
   "metadata": {},
   "outputs": [],
   "source": [
    "file_pointer = open(\"a.txt\", mode=\"w\") # Open file in write mode. Overwrite content of a.txt"
   ]
  },
  {
   "cell_type": "code",
   "execution_count": 5,
   "id": "2668eb45",
   "metadata": {},
   "outputs": [
    {
     "data": {
      "text/plain": [
       "4"
      ]
     },
     "execution_count": 5,
     "metadata": {},
     "output_type": "execute_result"
    }
   ],
   "source": [
    "file_pointer.write(\"abc\\n\") # abc will be written with new line\n",
    "file_pointer.write(\"def\\n\") # def will be written with new line"
   ]
  },
  {
   "cell_type": "code",
   "execution_count": 6,
   "id": "b2d73826",
   "metadata": {},
   "outputs": [],
   "source": [
    "file_pointer.close() # Closing the file"
   ]
  },
  {
   "cell_type": "code",
   "execution_count": 7,
   "id": "f7148d1d",
   "metadata": {},
   "outputs": [],
   "source": [
    "file_pointer = open(\"a.txt\", mode=\"a\") # Open file in append mode. append new content in a.txt"
   ]
  },
  {
   "cell_type": "code",
   "execution_count": 8,
   "id": "24c6e9fe",
   "metadata": {},
   "outputs": [
    {
     "data": {
      "text/plain": [
       "7"
      ]
     },
     "execution_count": 8,
     "metadata": {},
     "output_type": "execute_result"
    }
   ],
   "source": [
    "file_pointer.write(\"ghijklmno\\n\") # ghijklmno will be written with new line\n",
    "file_pointer.write(\"uvwxyz\\n\") # uvwxyz will be written with new line"
   ]
  },
  {
   "cell_type": "code",
   "execution_count": 9,
   "id": "d49b3ed2",
   "metadata": {},
   "outputs": [],
   "source": [
    "file_pointer.close() # Closing the file"
   ]
  },
  {
   "cell_type": "markdown",
   "id": "7dad74b9",
   "metadata": {},
   "source": [
    "#### Reading a File"
   ]
  },
  {
   "cell_type": "markdown",
   "id": "9a92bde3",
   "metadata": {},
   "source": [
    "read entire content"
   ]
  },
  {
   "cell_type": "code",
   "execution_count": 10,
   "id": "d7f47627",
   "metadata": {},
   "outputs": [],
   "source": [
    "file_pointer = open(\"a.txt\", mode=\"r\") # Open file in read mode"
   ]
  },
  {
   "cell_type": "code",
   "execution_count": 11,
   "id": "6de108ce",
   "metadata": {},
   "outputs": [
    {
     "data": {
      "text/plain": [
       "'abc\\ndef\\nghijklmno\\nuvwxyz\\n'"
      ]
     },
     "execution_count": 11,
     "metadata": {},
     "output_type": "execute_result"
    }
   ],
   "source": [
    "file_pointer.read() # Read entire content. Pointer moved at end"
   ]
  },
  {
   "cell_type": "code",
   "execution_count": 12,
   "id": "afa75f81",
   "metadata": {},
   "outputs": [
    {
     "data": {
      "text/plain": [
       "''"
      ]
     },
     "execution_count": 12,
     "metadata": {},
     "output_type": "execute_result"
    }
   ],
   "source": [
    "file_pointer.read() # Nothing will be read as pointer point to end"
   ]
  },
  {
   "cell_type": "code",
   "execution_count": 13,
   "id": "a601eeb4",
   "metadata": {},
   "outputs": [],
   "source": [
    "file_pointer.close() # Closing the file"
   ]
  },
  {
   "cell_type": "markdown",
   "id": "04812e6d",
   "metadata": {},
   "source": [
    "read entire content. return list of lines"
   ]
  },
  {
   "cell_type": "code",
   "execution_count": 14,
   "id": "65349b3a",
   "metadata": {},
   "outputs": [],
   "source": [
    "file_pointer = open(\"a.txt\", mode=\"r\") # Open file in read mode"
   ]
  },
  {
   "cell_type": "code",
   "execution_count": 15,
   "id": "a22de109",
   "metadata": {},
   "outputs": [
    {
     "data": {
      "text/plain": [
       "['abc\\n', 'def\\n', 'ghijklmno\\n', 'uvwxyz\\n']"
      ]
     },
     "execution_count": 15,
     "metadata": {},
     "output_type": "execute_result"
    }
   ],
   "source": [
    "file_pointer.readlines()"
   ]
  },
  {
   "cell_type": "code",
   "execution_count": 19,
   "id": "8bc365fb",
   "metadata": {},
   "outputs": [],
   "source": [
    "file_pointer.close() # Closing the file"
   ]
  },
  {
   "cell_type": "markdown",
   "id": "ae60b41f",
   "metadata": {},
   "source": [
    "read one by one line"
   ]
  },
  {
   "cell_type": "code",
   "execution_count": 20,
   "id": "41efa659",
   "metadata": {},
   "outputs": [],
   "source": [
    "file_pointer = open(\"a.txt\", mode=\"r\") # Open file in read mode"
   ]
  },
  {
   "cell_type": "code",
   "execution_count": 21,
   "id": "28c49a17",
   "metadata": {},
   "outputs": [
    {
     "data": {
      "text/plain": [
       "'abc\\n'"
      ]
     },
     "execution_count": 21,
     "metadata": {},
     "output_type": "execute_result"
    }
   ],
   "source": [
    "file_pointer.readline() # Read first line. Pointer moved at starting of second line"
   ]
  },
  {
   "cell_type": "code",
   "execution_count": 22,
   "id": "b657a5e9",
   "metadata": {},
   "outputs": [
    {
     "data": {
      "text/plain": [
       "'def\\n'"
      ]
     },
     "execution_count": 22,
     "metadata": {},
     "output_type": "execute_result"
    }
   ],
   "source": [
    "file_pointer.readline() # Read second line. Pointer moved at starting of third line"
   ]
  },
  {
   "cell_type": "code",
   "execution_count": 23,
   "id": "16a0e864",
   "metadata": {},
   "outputs": [
    {
     "data": {
      "text/plain": [
       "'ghijklmno\\n'"
      ]
     },
     "execution_count": 23,
     "metadata": {},
     "output_type": "execute_result"
    }
   ],
   "source": [
    "file_pointer.readline() # Read third line. Pointer moved at fourth of second line"
   ]
  },
  {
   "cell_type": "code",
   "execution_count": 24,
   "id": "38672cc4",
   "metadata": {},
   "outputs": [
    {
     "data": {
      "text/plain": [
       "'uvwxyz\\n'"
      ]
     },
     "execution_count": 24,
     "metadata": {},
     "output_type": "execute_result"
    }
   ],
   "source": [
    "file_pointer.readline() # Read fourth line. Pointer moved at end"
   ]
  },
  {
   "cell_type": "code",
   "execution_count": 25,
   "id": "a0189eab",
   "metadata": {},
   "outputs": [
    {
     "data": {
      "text/plain": [
       "''"
      ]
     },
     "execution_count": 25,
     "metadata": {},
     "output_type": "execute_result"
    }
   ],
   "source": [
    "file_pointer.readline() # Nothing will be read as pointer point to end"
   ]
  },
  {
   "cell_type": "code",
   "execution_count": 26,
   "id": "d00f3763",
   "metadata": {},
   "outputs": [],
   "source": [
    "file_pointer.close() # Closing the file"
   ]
  },
  {
   "cell_type": "markdown",
   "id": "181e4d8c",
   "metadata": {},
   "source": [
    "Read entire content one by one line"
   ]
  },
  {
   "cell_type": "code",
   "execution_count": 27,
   "id": "7010ef36",
   "metadata": {},
   "outputs": [],
   "source": [
    "file_pointer = open(\"a.txt\", mode=\"r\") # Open file in read mode"
   ]
  },
  {
   "cell_type": "code",
   "execution_count": 28,
   "id": "423617a8",
   "metadata": {},
   "outputs": [
    {
     "name": "stdout",
     "output_type": "stream",
     "text": [
      "abc\n",
      "\n",
      "def\n",
      "\n",
      "ghijklmno\n",
      "\n",
      "uvwxyz\n",
      "\n"
     ]
    }
   ],
   "source": [
    "line = file_pointer.readline() # read first line\n",
    "\n",
    "while line != \"\": # Loop will continue until EOF come\n",
    "    print(line)\n",
    "    line = file_pointer.readline() # Increment pointer for next line"
   ]
  },
  {
   "cell_type": "code",
   "execution_count": 29,
   "id": "4bd0c512",
   "metadata": {},
   "outputs": [],
   "source": [
    "file_pointer.close() # Closing the file"
   ]
  },
  {
   "cell_type": "markdown",
   "id": "cf9077a6",
   "metadata": {},
   "source": [
    "#### TELL operation"
   ]
  },
  {
   "cell_type": "markdown",
   "id": "93bb441c",
   "metadata": {},
   "source": [
    "It indicate where File pointer stand now"
   ]
  },
  {
   "cell_type": "code",
   "execution_count": 30,
   "id": "2cd77df0",
   "metadata": {},
   "outputs": [],
   "source": [
    "file_pointer = open(\"a.txt\", mode=\"r\") # Open file in read mode"
   ]
  },
  {
   "cell_type": "code",
   "execution_count": 31,
   "id": "b66dff24",
   "metadata": {},
   "outputs": [
    {
     "data": {
      "text/plain": [
       "'abc\\n'"
      ]
     },
     "execution_count": 31,
     "metadata": {},
     "output_type": "execute_result"
    }
   ],
   "source": [
    "file_pointer.readline() # Read 'abc\\n'. Now pointer at 'd'. 5th position"
   ]
  },
  {
   "cell_type": "code",
   "execution_count": 32,
   "id": "8b3e7b03",
   "metadata": {},
   "outputs": [
    {
     "data": {
      "text/plain": [
       "5"
      ]
     },
     "execution_count": 32,
     "metadata": {},
     "output_type": "execute_result"
    }
   ],
   "source": [
    "file_pointer.tell()"
   ]
  },
  {
   "cell_type": "code",
   "execution_count": 33,
   "id": "1d746dd9",
   "metadata": {},
   "outputs": [
    {
     "data": {
      "text/plain": [
       "'ghijklmno\\n'"
      ]
     },
     "execution_count": 33,
     "metadata": {},
     "output_type": "execute_result"
    }
   ],
   "source": [
    "file_pointer.readline() # Read 'def\\n'\n",
    "file_pointer.readline() # Read 'ghijklmno\\n'. Now pointer at 'u'. 21st position"
   ]
  },
  {
   "cell_type": "code",
   "execution_count": 34,
   "id": "b21fae82",
   "metadata": {},
   "outputs": [
    {
     "data": {
      "text/plain": [
       "21"
      ]
     },
     "execution_count": 34,
     "metadata": {},
     "output_type": "execute_result"
    }
   ],
   "source": [
    "file_pointer.tell()"
   ]
  },
  {
   "cell_type": "code",
   "execution_count": 35,
   "id": "129f8eb8",
   "metadata": {},
   "outputs": [],
   "source": [
    "file_pointer.close() # Closing the file"
   ]
  },
  {
   "cell_type": "markdown",
   "id": "72b63774",
   "metadata": {},
   "source": [
    "#### SEEK Operation"
   ]
  },
  {
   "cell_type": "markdown",
   "id": "a5e870bb",
   "metadata": {},
   "source": [
    "seek() will work if file is opened in binary mode"
   ]
  },
  {
   "cell_type": "markdown",
   "id": "55a48a62",
   "metadata": {},
   "source": [
    "seek(OFFSET, FROM_WHERE)"
   ]
  },
  {
   "cell_type": "markdown",
   "id": "5cf125c7",
   "metadata": {},
   "source": [
    "OFFSET<br>0 -> At file pointer current location<br>2 -> 2 step ahead of file pointer current location<br>-2 -> 2 step back of file pointer current location"
   ]
  },
  {
   "cell_type": "markdown",
   "id": "f2843e35",
   "metadata": {},
   "source": [
    "FROM_WHERE<br>0 -> Start of File<br>1 -> Current file pointer location<br>2 -> End of file"
   ]
  },
  {
   "cell_type": "markdown",
   "id": "763231ee",
   "metadata": {},
   "source": [
    "Binary Format<br>It is actually Unix format<br>every line ends with '\\r\\n' instead of '\\n'<br>In each line one character extra '\\r'"
   ]
  },
  {
   "cell_type": "code",
   "execution_count": 36,
   "id": "e4ad1544",
   "metadata": {},
   "outputs": [],
   "source": [
    "file_pointer = open(\"a.txt\", mode=\"rb\") # Open file in binary read mode"
   ]
  },
  {
   "cell_type": "code",
   "execution_count": 37,
   "id": "bd39b904",
   "metadata": {},
   "outputs": [
    {
     "data": {
      "text/plain": [
       "b'abc\\r\\n'"
      ]
     },
     "execution_count": 37,
     "metadata": {},
     "output_type": "execute_result"
    }
   ],
   "source": [
    "file_pointer.readline() # Now pointer at second line"
   ]
  },
  {
   "cell_type": "code",
   "execution_count": 38,
   "id": "956631e4",
   "metadata": {},
   "outputs": [
    {
     "data": {
      "text/plain": [
       "0"
      ]
     },
     "execution_count": 38,
     "metadata": {},
     "output_type": "execute_result"
    }
   ],
   "source": [
    "file_pointer.seek(0, 0) # move File pointer at start"
   ]
  },
  {
   "cell_type": "code",
   "execution_count": 39,
   "id": "e5efd18e",
   "metadata": {},
   "outputs": [
    {
     "data": {
      "text/plain": [
       "b'abc\\r\\n'"
      ]
     },
     "execution_count": 39,
     "metadata": {},
     "output_type": "execute_result"
    }
   ],
   "source": [
    "file_pointer.readline()"
   ]
  },
  {
   "cell_type": "code",
   "execution_count": 40,
   "id": "bd63e282",
   "metadata": {},
   "outputs": [
    {
     "data": {
      "text/plain": [
       "2"
      ]
     },
     "execution_count": 40,
     "metadata": {},
     "output_type": "execute_result"
    }
   ],
   "source": [
    "file_pointer.seek(2, 0) # move File pointer 2 step ahead of start character. means at 'c'"
   ]
  },
  {
   "cell_type": "code",
   "execution_count": 41,
   "id": "33056a92",
   "metadata": {},
   "outputs": [
    {
     "data": {
      "text/plain": [
       "b'c\\r\\n'"
      ]
     },
     "execution_count": 41,
     "metadata": {},
     "output_type": "execute_result"
    }
   ],
   "source": [
    "file_pointer.readline()"
   ]
  },
  {
   "cell_type": "code",
   "execution_count": 44,
   "id": "478d937a",
   "metadata": {},
   "outputs": [
    {
     "data": {
      "text/plain": [
       "26"
      ]
     },
     "execution_count": 44,
     "metadata": {},
     "output_type": "execute_result"
    }
   ],
   "source": [
    "file_pointer.seek(-3, 2) # move File pointer 3 step back of EOL. means at 'z'"
   ]
  },
  {
   "cell_type": "code",
   "execution_count": 45,
   "id": "4038616b",
   "metadata": {},
   "outputs": [
    {
     "data": {
      "text/plain": [
       "b'z\\r\\n'"
      ]
     },
     "execution_count": 45,
     "metadata": {},
     "output_type": "execute_result"
    }
   ],
   "source": [
    "file_pointer.readline()"
   ]
  },
  {
   "cell_type": "code",
   "execution_count": 46,
   "id": "e6e9e889",
   "metadata": {},
   "outputs": [],
   "source": [
    "file_pointer.close() # Closing the file"
   ]
  },
  {
   "cell_type": "markdown",
   "id": "d21d3fb5",
   "metadata": {},
   "source": [
    "Delet File"
   ]
  },
  {
   "cell_type": "code",
   "execution_count": 47,
   "id": "149283b5",
   "metadata": {},
   "outputs": [],
   "source": [
    "import os\n",
    "os.unlink(\"a.txt\")"
   ]
  }
 ],
 "metadata": {
  "kernelspec": {
   "display_name": "Python 3 (ipykernel)",
   "language": "python",
   "name": "python3"
  },
  "language_info": {
   "codemirror_mode": {
    "name": "ipython",
    "version": 3
   },
   "file_extension": ".py",
   "mimetype": "text/x-python",
   "name": "python",
   "nbconvert_exporter": "python",
   "pygments_lexer": "ipython3",
   "version": "3.7.4"
  }
 },
 "nbformat": 4,
 "nbformat_minor": 5
}
