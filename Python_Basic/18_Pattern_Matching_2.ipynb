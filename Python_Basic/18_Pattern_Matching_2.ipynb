{
 "cells": [
  {
   "cell_type": "markdown",
   "id": "bd6db64c",
   "metadata": {},
   "source": [
    "Package"
   ]
  },
  {
   "cell_type": "code",
   "execution_count": 1,
   "id": "df8deade",
   "metadata": {},
   "outputs": [],
   "source": [
    "import re"
   ]
  },
  {
   "cell_type": "markdown",
   "id": "73a86022",
   "metadata": {},
   "source": [
    "#### ^ -> search at start of string"
   ]
  },
  {
   "cell_type": "code",
   "execution_count": 2,
   "id": "96713180",
   "metadata": {},
   "outputs": [
    {
     "name": "stdout",
     "output_type": "stream",
     "text": [
      "Found\n"
     ]
    }
   ],
   "source": [
    "string_value = \"Rajarshi\"\n",
    "\n",
    "if re.search(\"^Raj\", string_value): # True if found 'Raj' at starting of the string\n",
    "    print(\"Found\")\n",
    "else:\n",
    "    print(\"Not Found\")"
   ]
  },
  {
   "cell_type": "code",
   "execution_count": 4,
   "id": "b1c3d94c",
   "metadata": {},
   "outputs": [
    {
     "name": "stdout",
     "output_type": "stream",
     "text": [
      "Not Found\n"
     ]
    }
   ],
   "source": [
    "string_value = \"Rajarshi\"\n",
    "\n",
    "if re.search(\"^raj\", string_value): # True if found 'Raj' at starting of the string\n",
    "    print(\"Found\")\n",
    "else:\n",
    "    print(\"Not Found\")"
   ]
  },
  {
   "cell_type": "markdown",
   "id": "8cdc1f04",
   "metadata": {},
   "source": [
    "#### $ -> search at end of string"
   ]
  },
  {
   "cell_type": "code",
   "execution_count": 5,
   "id": "1eeb36cd",
   "metadata": {},
   "outputs": [
    {
     "name": "stdout",
     "output_type": "stream",
     "text": [
      "Found\n"
     ]
    }
   ],
   "source": [
    "string_value = \"Rajarshi\"\n",
    "\n",
    "if re.search(\"shi$\", string_value): # True if found 'shi' at starting of the string\n",
    "    print(\"Found\")\n",
    "else:\n",
    "    print(\"Not Found\")"
   ]
  },
  {
   "cell_type": "code",
   "execution_count": 6,
   "id": "fe334dd7",
   "metadata": {},
   "outputs": [
    {
     "name": "stdout",
     "output_type": "stream",
     "text": [
      "Not Found\n"
     ]
    }
   ],
   "source": [
    "string_value = \"Rajarshi\"\n",
    "\n",
    "if re.search(\"Shi$\", string_value): # True if found 'shi' at starting of the string\n",
    "    print(\"Found\")\n",
    "else:\n",
    "    print(\"Not Found\")"
   ]
  },
  {
   "cell_type": "markdown",
   "id": "d99aa6e2",
   "metadata": {},
   "source": [
    "#### Pattern Substitution"
   ]
  },
  {
   "cell_type": "code",
   "execution_count": 7,
   "id": "73afdc09",
   "metadata": {},
   "outputs": [
    {
     "name": "stdout",
     "output_type": "stream",
     "text": [
      "Found\n"
     ]
    }
   ],
   "source": [
    "pattern = \"[0-9][0-9]\"\n",
    "string_value = \"d12f\"\n",
    "\n",
    "# Substitute like normal f string\n",
    "if re.search(f\"d{pattern}\", string_value): # True if found : 'd' and two digit\n",
    "    print(\"Found\")\n",
    "else:\n",
    "    print(\"Not Found\")"
   ]
  },
  {
   "cell_type": "code",
   "execution_count": 8,
   "id": "3067ad8b",
   "metadata": {},
   "outputs": [
    {
     "name": "stdout",
     "output_type": "stream",
     "text": [
      "Not Found\n"
     ]
    }
   ],
   "source": [
    "pattern = \"[0-9][0-9]\"\n",
    "string_value = \"d1f\"\n",
    "\n",
    "# Substitute like normal f string\n",
    "if re.search(f\"d{pattern}\", string_value): # True if found : 'd' and two digit\n",
    "    print(\"Found\")\n",
    "else:\n",
    "    print(\"Not Found\")"
   ]
  },
  {
   "cell_type": "markdown",
   "id": "cc589397",
   "metadata": {},
   "source": [
    "#### Matching with any letter or number"
   ]
  },
  {
   "cell_type": "code",
   "execution_count": 11,
   "id": "ba0afda8",
   "metadata": {},
   "outputs": [
    {
     "name": "stdout",
     "output_type": "stream",
     "text": [
      "Found\n"
     ]
    }
   ],
   "source": [
    "pattern = \"d[0-9]\" # After 'd' match with atleast one digit\n",
    "string_value = \"d1f\"\n",
    "\n",
    "# Substitute like normal f string\n",
    "if re.search(pattern, string_value): # True if found : 'd' and two digit\n",
    "    print(\"Found\")\n",
    "else:\n",
    "    print(\"Not Found\")"
   ]
  },
  {
   "cell_type": "code",
   "execution_count": 13,
   "id": "31fa59d5",
   "metadata": {},
   "outputs": [
    {
     "name": "stdout",
     "output_type": "stream",
     "text": [
      "Not Found\n"
     ]
    }
   ],
   "source": [
    "pattern = \"d[0-9]\" # After 'd' match with atleast one digit\n",
    "string_value = \"def\"\n",
    "\n",
    "# Substitute like normal f string\n",
    "if re.search(pattern, string_value): # True if found : 'd' and two digit\n",
    "    print(\"Found\")\n",
    "else:\n",
    "    print(\"Not Found\")"
   ]
  },
  {
   "cell_type": "code",
   "execution_count": 14,
   "id": "a04a6a44",
   "metadata": {},
   "outputs": [
    {
     "name": "stdout",
     "output_type": "stream",
     "text": [
      "Found\n"
     ]
    }
   ],
   "source": [
    "pattern = \"d[a-z]\" # After 'd' match with any smallcase alphabet\n",
    "string_value = \"daf\"\n",
    "\n",
    "# Substitute like normal f string\n",
    "if re.search(pattern, string_value): # True if found : 'd' and one smallcase alphabet\n",
    "    print(\"Found\")\n",
    "else:\n",
    "    print(\"Not Found\")"
   ]
  },
  {
   "cell_type": "code",
   "execution_count": 15,
   "id": "e0e97cdd",
   "metadata": {},
   "outputs": [
    {
     "name": "stdout",
     "output_type": "stream",
     "text": [
      "Not Found\n"
     ]
    }
   ],
   "source": [
    "pattern = \"d[a-z]\" # After 'd' match with any smallcase alphabet\n",
    "string_value = \"dAf\"\n",
    "\n",
    "# Substitute like normal f string\n",
    "if re.search(pattern, string_value): # True if found : 'd' and one smallcase alphabet\n",
    "    print(\"Found\")\n",
    "else:\n",
    "    print(\"Not Found\")"
   ]
  },
  {
   "cell_type": "code",
   "execution_count": 16,
   "id": "c542981f",
   "metadata": {},
   "outputs": [
    {
     "name": "stdout",
     "output_type": "stream",
     "text": [
      "Found\n"
     ]
    }
   ],
   "source": [
    "pattern = \"d[A-Z]\" # After 'd' match with any uppercase alphabet\n",
    "string_value = \"dAf\"\n",
    "\n",
    "# Substitute like normal f string\n",
    "if re.search(pattern, string_value): # True if found : 'd' and one uppercase alphabet\n",
    "    print(\"Found\")\n",
    "else:\n",
    "    print(\"Not Found\")"
   ]
  },
  {
   "cell_type": "code",
   "execution_count": 17,
   "id": "d483bde9",
   "metadata": {},
   "outputs": [
    {
     "name": "stdout",
     "output_type": "stream",
     "text": [
      "Not Found\n"
     ]
    }
   ],
   "source": [
    "pattern = \"d[A-Z]\" # After 'd' match with any uppercase alphabet\n",
    "string_value = \"daf\"\n",
    "\n",
    "# Substitute like normal f string\n",
    "if re.search(pattern, string_value): # True if found : 'd' and one uppercase alphabet\n",
    "    print(\"Found\")\n",
    "else:\n",
    "    print(\"Not Found\")"
   ]
  }
 ],
 "metadata": {
  "kernelspec": {
   "display_name": "Python 3 (ipykernel)",
   "language": "python",
   "name": "python3"
  },
  "language_info": {
   "codemirror_mode": {
    "name": "ipython",
    "version": 3
   },
   "file_extension": ".py",
   "mimetype": "text/x-python",
   "name": "python",
   "nbconvert_exporter": "python",
   "pygments_lexer": "ipython3",
   "version": "3.7.4"
  }
 },
 "nbformat": 4,
 "nbformat_minor": 5
}
