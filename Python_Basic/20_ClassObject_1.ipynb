{
 "cells": [
  {
   "cell_type": "markdown",
   "id": "b48b0db7",
   "metadata": {},
   "source": [
    "#### Class and Object"
   ]
  },
  {
   "cell_type": "code",
   "execution_count": 11,
   "id": "23974fb4",
   "metadata": {},
   "outputs": [],
   "source": [
    "class Name():\n",
    "    # This is class object attribute variable\n",
    "    # This is not needed to be referenced with self keyword\n",
    "    # Whichever object will be created for all those object variable Gender is common\n",
    "    Gender = \"Male\"\n",
    "    \n",
    "    # __init__ is the constructor of the object\n",
    "    # It allows to create actual instance of the object\n",
    "    # It will be called automatically when we will create instance of this class\n",
    "    def __init__(self, First_name, Second_name): # Self keyword represent the instance of the object itself\n",
    "        self.FirstName = First_name\n",
    "        self.SecondName = Second_name # Self keyword for this variable defines that variable SecondName is binded with this particular object \n",
    "        \n",
    "    def print_name(self):\n",
    "        print(f\"{self.FirstName} {self.SecondName }\")"
   ]
  },
  {
   "cell_type": "code",
   "execution_count": 12,
   "id": "71322ee6",
   "metadata": {},
   "outputs": [],
   "source": [
    "Name_obj_1 = Name(\"Rajarshi\", \"Raha\") # First Object"
   ]
  },
  {
   "cell_type": "code",
   "execution_count": 14,
   "id": "6e77fee7",
   "metadata": {},
   "outputs": [
    {
     "name": "stdout",
     "output_type": "stream",
     "text": [
      "Rajarshi\n",
      "Raha\n",
      "Male\n"
     ]
    }
   ],
   "source": [
    "# access binded variable for Name_obj_1\n",
    "print(Name_obj_1.FirstName)\n",
    "print(Name_obj_1.SecondName)\n",
    "print(Name_obj_1.Gender)"
   ]
  },
  {
   "cell_type": "code",
   "execution_count": 15,
   "id": "0d1fcf28",
   "metadata": {},
   "outputs": [
    {
     "name": "stdout",
     "output_type": "stream",
     "text": [
      "Rajarshi Raha\n"
     ]
    }
   ],
   "source": [
    "# access binded function for Name_obj_1\n",
    "Name_obj_1.print_name()"
   ]
  },
  {
   "cell_type": "code",
   "execution_count": 16,
   "id": "1d96dfd9",
   "metadata": {},
   "outputs": [],
   "source": [
    "Name_obj_2 = Name(\"Debarshi\", \"Raha\") # Second Object"
   ]
  },
  {
   "cell_type": "code",
   "execution_count": 17,
   "id": "10e82ba0",
   "metadata": {},
   "outputs": [
    {
     "name": "stdout",
     "output_type": "stream",
     "text": [
      "Debarshi\n",
      "Raha\n",
      "Male\n"
     ]
    }
   ],
   "source": [
    "# access binded variable for Name_obj_2\n",
    "print(Name_obj_2.FirstName)\n",
    "print(Name_obj_2.SecondName)\n",
    "print(Name_obj_2.Gender)"
   ]
  },
  {
   "cell_type": "code",
   "execution_count": 18,
   "id": "e3cc926f",
   "metadata": {},
   "outputs": [
    {
     "name": "stdout",
     "output_type": "stream",
     "text": [
      "Debarshi Raha\n"
     ]
    }
   ],
   "source": [
    "# access binded function for Name_obj_2\n",
    "Name_obj_2.print_name()"
   ]
  }
 ],
 "metadata": {
  "kernelspec": {
   "display_name": "Python 3 (ipykernel)",
   "language": "python",
   "name": "python3"
  },
  "language_info": {
   "codemirror_mode": {
    "name": "ipython",
    "version": 3
   },
   "file_extension": ".py",
   "mimetype": "text/x-python",
   "name": "python",
   "nbconvert_exporter": "python",
   "pygments_lexer": "ipython3",
   "version": "3.7.4"
  }
 },
 "nbformat": 4,
 "nbformat_minor": 5
}
