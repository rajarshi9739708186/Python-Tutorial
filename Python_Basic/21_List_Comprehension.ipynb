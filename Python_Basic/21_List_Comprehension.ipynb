{
 "cells": [
  {
   "cell_type": "markdown",
   "id": "6a8b4d05",
   "metadata": {},
   "source": [
    "# List Comprehension"
   ]
  },
  {
   "cell_type": "markdown",
   "id": "0b4cb6a2",
   "metadata": {},
   "source": [
    "New_List = [(keep on appending Returned element (element manupluation can be done) from every iteration of for loop) (For Loop)]"
   ]
  },
  {
   "cell_type": "markdown",
   "id": "8346d6c7",
   "metadata": {},
   "source": [
    "#### Normal Operation"
   ]
  },
  {
   "cell_type": "code",
   "execution_count": 2,
   "id": "6e0a35df",
   "metadata": {},
   "outputs": [],
   "source": [
    "new_list = []\n",
    "for num in range(5):\n",
    "    new_list.append(num*2)"
   ]
  },
  {
   "cell_type": "code",
   "execution_count": 3,
   "id": "299e62b7",
   "metadata": {},
   "outputs": [
    {
     "data": {
      "text/plain": [
       "[0, 2, 4, 6, 8]"
      ]
     },
     "execution_count": 3,
     "metadata": {},
     "output_type": "execute_result"
    }
   ],
   "source": [
    "new_list"
   ]
  },
  {
   "cell_type": "markdown",
   "id": "4012a355",
   "metadata": {},
   "source": [
    "#### Using List Comprehension"
   ]
  },
  {
   "cell_type": "code",
   "execution_count": 4,
   "id": "fd75e0c1",
   "metadata": {},
   "outputs": [],
   "source": [
    "new_list = [num*2 for num in range(5)]"
   ]
  },
  {
   "cell_type": "code",
   "execution_count": 5,
   "id": "98f076ab",
   "metadata": {},
   "outputs": [
    {
     "data": {
      "text/plain": [
       "[0, 2, 4, 6, 8]"
      ]
     },
     "execution_count": 5,
     "metadata": {},
     "output_type": "execute_result"
    }
   ],
   "source": [
    "new_list"
   ]
  },
  {
   "cell_type": "markdown",
   "id": "ce55fd78",
   "metadata": {},
   "source": [
    "#### Normal Operation"
   ]
  },
  {
   "cell_type": "code",
   "execution_count": 6,
   "id": "6aea9eee",
   "metadata": {},
   "outputs": [],
   "source": [
    "new_list = []\n",
    "for num in range(10):\n",
    "    if num % 2 == 0:\n",
    "        new_list.append(num+10)"
   ]
  },
  {
   "cell_type": "code",
   "execution_count": 7,
   "id": "c6b4718e",
   "metadata": {},
   "outputs": [
    {
     "data": {
      "text/plain": [
       "[10, 12, 14, 16, 18]"
      ]
     },
     "execution_count": 7,
     "metadata": {},
     "output_type": "execute_result"
    }
   ],
   "source": [
    "new_list"
   ]
  },
  {
   "cell_type": "markdown",
   "id": "c7aadb28",
   "metadata": {},
   "source": [
    "#### Using List Comprehension"
   ]
  },
  {
   "cell_type": "code",
   "execution_count": 8,
   "id": "717db3c2",
   "metadata": {},
   "outputs": [],
   "source": [
    "new_list = [num+10 for num in range(10) if num % 2 == 0]"
   ]
  },
  {
   "cell_type": "code",
   "execution_count": 9,
   "id": "2256a0c5",
   "metadata": {},
   "outputs": [
    {
     "data": {
      "text/plain": [
       "[10, 12, 14, 16, 18]"
      ]
     },
     "execution_count": 9,
     "metadata": {},
     "output_type": "execute_result"
    }
   ],
   "source": [
    "new_list"
   ]
  },
  {
   "cell_type": "markdown",
   "id": "fc986a1b",
   "metadata": {},
   "source": [
    "#### Normal Operation"
   ]
  },
  {
   "cell_type": "code",
   "execution_count": 11,
   "id": "901a9ebb",
   "metadata": {},
   "outputs": [],
   "source": [
    "new_list = []\n",
    "for x in [1,2,3]:\n",
    "    for y in [4,5,6]:\n",
    "        new_list.append(x*y)"
   ]
  },
  {
   "cell_type": "code",
   "execution_count": 12,
   "id": "19cb694c",
   "metadata": {},
   "outputs": [
    {
     "data": {
      "text/plain": [
       "[4, 5, 6, 8, 10, 12, 12, 15, 18]"
      ]
     },
     "execution_count": 12,
     "metadata": {},
     "output_type": "execute_result"
    }
   ],
   "source": [
    "new_list"
   ]
  },
  {
   "cell_type": "markdown",
   "id": "17b65886",
   "metadata": {},
   "source": [
    "#### Using List Comprehension"
   ]
  },
  {
   "cell_type": "code",
   "execution_count": 14,
   "id": "76947d6a",
   "metadata": {},
   "outputs": [],
   "source": [
    "new_list = [x*y for x in [1,2,3] for y in [4,5,6]]"
   ]
  },
  {
   "cell_type": "code",
   "execution_count": 15,
   "id": "1f445383",
   "metadata": {},
   "outputs": [
    {
     "data": {
      "text/plain": [
       "[4, 5, 6, 8, 10, 12, 12, 15, 18]"
      ]
     },
     "execution_count": 15,
     "metadata": {},
     "output_type": "execute_result"
    }
   ],
   "source": [
    "new_list"
   ]
  },
  {
   "cell_type": "markdown",
   "id": "8dcbc12a",
   "metadata": {},
   "source": [
    "#### Normal Operation"
   ]
  },
  {
   "cell_type": "code",
   "execution_count": 16,
   "id": "24a4ce0e",
   "metadata": {},
   "outputs": [],
   "source": [
    "new_list = []\n",
    "for num in range(1,10):\n",
    "    if num%2 == 0:\n",
    "        new_list.append(num*1)\n",
    "    else:\n",
    "       new_list.append(num*10) "
   ]
  },
  {
   "cell_type": "code",
   "execution_count": 17,
   "id": "ef335a61",
   "metadata": {},
   "outputs": [
    {
     "data": {
      "text/plain": [
       "[10, 2, 30, 4, 50, 6, 70, 8, 90]"
      ]
     },
     "execution_count": 17,
     "metadata": {},
     "output_type": "execute_result"
    }
   ],
   "source": [
    "new_list"
   ]
  },
  {
   "cell_type": "markdown",
   "id": "079f7729",
   "metadata": {},
   "source": [
    "#### Using List Comprehension"
   ]
  },
  {
   "cell_type": "code",
   "execution_count": 18,
   "id": "82725a1a",
   "metadata": {},
   "outputs": [],
   "source": [
    "new_list = [num*1 if num%2 == 0 else num*10 for num in range(1,10)]"
   ]
  },
  {
   "cell_type": "code",
   "execution_count": 19,
   "id": "c84f5506",
   "metadata": {},
   "outputs": [
    {
     "data": {
      "text/plain": [
       "[10, 2, 30, 4, 50, 6, 70, 8, 90]"
      ]
     },
     "execution_count": 19,
     "metadata": {},
     "output_type": "execute_result"
    }
   ],
   "source": [
    "new_list"
   ]
  }
 ],
 "metadata": {
  "kernelspec": {
   "display_name": "Python 3 (ipykernel)",
   "language": "python",
   "name": "python3"
  },
  "language_info": {
   "codemirror_mode": {
    "name": "ipython",
    "version": 3
   },
   "file_extension": ".py",
   "mimetype": "text/x-python",
   "name": "python",
   "nbconvert_exporter": "python",
   "pygments_lexer": "ipython3",
   "version": "3.7.4"
  }
 },
 "nbformat": 4,
 "nbformat_minor": 5
}
