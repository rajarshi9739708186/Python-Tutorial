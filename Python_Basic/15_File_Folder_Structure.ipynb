{
 "cells": [
  {
   "cell_type": "markdown",
   "id": "d4b95954",
   "metadata": {},
   "source": [
    "# File and Folder Structures"
   ]
  },
  {
   "cell_type": "markdown",
   "id": "b8f4daac",
   "metadata": {},
   "source": [
    "<h1 style=\"color:Tomato;\">Package</h1>"
   ]
  },
  {
   "cell_type": "code",
   "execution_count": 39,
   "id": "ea936448",
   "metadata": {},
   "outputs": [],
   "source": [
    "import os\n",
    "import shutil\n",
    "import send2trash"
   ]
  },
  {
   "cell_type": "markdown",
   "id": "302005ea",
   "metadata": {},
   "source": [
    "File or Folder exist"
   ]
  },
  {
   "cell_type": "code",
   "execution_count": 3,
   "id": "b62656f0",
   "metadata": {},
   "outputs": [
    {
     "data": {
      "text/plain": [
       "True"
      ]
     },
     "execution_count": 3,
     "metadata": {},
     "output_type": "execute_result"
    }
   ],
   "source": [
    "os.path.exists(\"D:\\\\Study_Material\\\\Python\\\\00_Data_Type.ipynb\") # File"
   ]
  },
  {
   "cell_type": "code",
   "execution_count": 4,
   "id": "4321de4d",
   "metadata": {},
   "outputs": [
    {
     "data": {
      "text/plain": [
       "False"
      ]
     },
     "execution_count": 4,
     "metadata": {},
     "output_type": "execute_result"
    }
   ],
   "source": [
    "os.path.exists(\"D:\\\\Study_Material\\\\Python\\\\Random.ipynb\") # File"
   ]
  },
  {
   "cell_type": "code",
   "execution_count": 5,
   "id": "466a2942",
   "metadata": {},
   "outputs": [
    {
     "data": {
      "text/plain": [
       "True"
      ]
     },
     "execution_count": 5,
     "metadata": {},
     "output_type": "execute_result"
    }
   ],
   "source": [
    "os.path.exists(\"D:\\\\Study_Material\\\\Python\") # Folder"
   ]
  },
  {
   "cell_type": "code",
   "execution_count": 6,
   "id": "d3f6fbff",
   "metadata": {},
   "outputs": [
    {
     "data": {
      "text/plain": [
       "False"
      ]
     },
     "execution_count": 6,
     "metadata": {},
     "output_type": "execute_result"
    }
   ],
   "source": [
    "os.path.exists(\"D:\\\\Study_Material\\\\Random\") # Folder"
   ]
  },
  {
   "cell_type": "markdown",
   "id": "c8a9f70b",
   "metadata": {},
   "source": [
    "If It is a File"
   ]
  },
  {
   "cell_type": "code",
   "execution_count": 7,
   "id": "59952dfa",
   "metadata": {},
   "outputs": [
    {
     "data": {
      "text/plain": [
       "True"
      ]
     },
     "execution_count": 7,
     "metadata": {},
     "output_type": "execute_result"
    }
   ],
   "source": [
    "os.path.isfile(\"D:\\\\Study_Material\\\\Python\\\\00_Data_Type.ipynb\") # File"
   ]
  },
  {
   "cell_type": "code",
   "execution_count": 8,
   "id": "7158200a",
   "metadata": {},
   "outputs": [
    {
     "data": {
      "text/plain": [
       "False"
      ]
     },
     "execution_count": 8,
     "metadata": {},
     "output_type": "execute_result"
    }
   ],
   "source": [
    "os.path.isfile(\"D:\\\\Study_Material\\\\Python\") # Folder"
   ]
  },
  {
   "cell_type": "markdown",
   "id": "1c673564",
   "metadata": {},
   "source": [
    "If it is a Directory"
   ]
  },
  {
   "cell_type": "code",
   "execution_count": 9,
   "id": "7bc3546f",
   "metadata": {},
   "outputs": [
    {
     "data": {
      "text/plain": [
       "False"
      ]
     },
     "execution_count": 9,
     "metadata": {},
     "output_type": "execute_result"
    }
   ],
   "source": [
    "os.path.isdir(\"D:\\\\Study_Material\\\\Python\\\\00_Data_Type.ipynb\") # File"
   ]
  },
  {
   "cell_type": "code",
   "execution_count": 10,
   "id": "bba39058",
   "metadata": {},
   "outputs": [
    {
     "data": {
      "text/plain": [
       "True"
      ]
     },
     "execution_count": 10,
     "metadata": {},
     "output_type": "execute_result"
    }
   ],
   "source": [
    "os.path.isdir(\"D:\\\\Study_Material\\\\Python\") # Folder"
   ]
  },
  {
   "cell_type": "markdown",
   "id": "1ece59d9",
   "metadata": {},
   "source": [
    "File Properties"
   ]
  },
  {
   "cell_type": "code",
   "execution_count": 11,
   "id": "3196dbf7",
   "metadata": {},
   "outputs": [
    {
     "data": {
      "text/plain": [
       "os.stat_result(st_mode=33206, st_ino=1688849860264585, st_dev=2835259963, st_nlink=1, st_uid=0, st_gid=0, st_size=5073, st_atime=1643517766, st_mtime=1643517766, st_ctime=1643517766)"
      ]
     },
     "execution_count": 11,
     "metadata": {},
     "output_type": "execute_result"
    }
   ],
   "source": [
    "os.stat(\"D:\\\\Study_Material\\\\Python\\\\00_Data_Type.ipynb\") # Return Several properties of a file"
   ]
  },
  {
   "cell_type": "markdown",
   "id": "c015893d",
   "metadata": {},
   "source": [
    "File Size"
   ]
  },
  {
   "cell_type": "code",
   "execution_count": 12,
   "id": "e53977d5",
   "metadata": {},
   "outputs": [
    {
     "data": {
      "text/plain": [
       "5073"
      ]
     },
     "execution_count": 12,
     "metadata": {},
     "output_type": "execute_result"
    }
   ],
   "source": [
    "os.stat(\"D:\\\\Study_Material\\\\Python\\\\00_Data_Type.ipynb\").st_size # File size in KB"
   ]
  },
  {
   "cell_type": "markdown",
   "id": "ca4b30b1",
   "metadata": {},
   "source": [
    "Delete a file if exist"
   ]
  },
  {
   "cell_type": "code",
   "execution_count": 14,
   "id": "c84fe3e2",
   "metadata": {},
   "outputs": [],
   "source": [
    "os.unlink(\"D:\\\\Study_Material\\\\Python\\\\Test.txt\") # File exist. File will be deleted"
   ]
  },
  {
   "cell_type": "code",
   "execution_count": 15,
   "id": "af7f65ed",
   "metadata": {},
   "outputs": [
    {
     "ename": "FileNotFoundError",
     "evalue": "[WinError 2] The system cannot find the file specified: 'D:\\\\Study_Material\\\\Python\\\\Test.txt'",
     "output_type": "error",
     "traceback": [
      "\u001b[1;31m---------------------------------------------------------------------------\u001b[0m",
      "\u001b[1;31mFileNotFoundError\u001b[0m                         Traceback (most recent call last)",
      "\u001b[1;32m~\\AppData\\Local\\Temp\\ipykernel_8656\\3014159655.py\u001b[0m in \u001b[0;36m<module>\u001b[1;34m\u001b[0m\n\u001b[1;32m----> 1\u001b[1;33m \u001b[0mos\u001b[0m\u001b[1;33m.\u001b[0m\u001b[0munlink\u001b[0m\u001b[1;33m(\u001b[0m\u001b[1;34m\"D:\\\\Study_Material\\\\Python\\\\Test.txt\"\u001b[0m\u001b[1;33m)\u001b[0m \u001b[1;31m# File doesn't exist\u001b[0m\u001b[1;33m\u001b[0m\u001b[1;33m\u001b[0m\u001b[0m\n\u001b[0m",
      "\u001b[1;31mFileNotFoundError\u001b[0m: [WinError 2] The system cannot find the file specified: 'D:\\\\Study_Material\\\\Python\\\\Test.txt'"
     ]
    }
   ],
   "source": [
    "os.unlink(\"D:\\\\Study_Material\\\\Python\\\\Test.txt\") # File doesn't exist"
   ]
  },
  {
   "cell_type": "markdown",
   "id": "0841cf01",
   "metadata": {},
   "source": [
    "Rename a file if exist"
   ]
  },
  {
   "cell_type": "code",
   "execution_count": 16,
   "id": "8a7c4143",
   "metadata": {},
   "outputs": [],
   "source": [
    "os.rename(\"D:\\\\Study_Material\\\\Python\\\\Test.txt\", \"D:\\\\Study_Material\\\\Python\\\\Test-1.txt\") # arg1 : Source File, Arg2 : Dest File"
   ]
  },
  {
   "cell_type": "code",
   "execution_count": 17,
   "id": "abc12669",
   "metadata": {},
   "outputs": [
    {
     "ename": "FileNotFoundError",
     "evalue": "[WinError 2] The system cannot find the file specified: 'D:\\\\Study_Material\\\\Python\\\\Test.txt' -> 'D:\\\\Study_Material\\\\Python\\\\Test-1.txt'",
     "output_type": "error",
     "traceback": [
      "\u001b[1;31m---------------------------------------------------------------------------\u001b[0m",
      "\u001b[1;31mFileNotFoundError\u001b[0m                         Traceback (most recent call last)",
      "\u001b[1;32m~\\AppData\\Local\\Temp\\ipykernel_8656\\2123572.py\u001b[0m in \u001b[0;36m<module>\u001b[1;34m\u001b[0m\n\u001b[1;32m----> 1\u001b[1;33m \u001b[0mos\u001b[0m\u001b[1;33m.\u001b[0m\u001b[0mrename\u001b[0m\u001b[1;33m(\u001b[0m\u001b[1;34m\"D:\\\\Study_Material\\\\Python\\\\Test.txt\"\u001b[0m\u001b[1;33m,\u001b[0m \u001b[1;34m\"D:\\\\Study_Material\\\\Python\\\\Test-1.txt\"\u001b[0m\u001b[1;33m)\u001b[0m \u001b[1;31m# arg1 : Source File, Arg2 : Dest File\u001b[0m\u001b[1;33m\u001b[0m\u001b[1;33m\u001b[0m\u001b[0m\n\u001b[0m",
      "\u001b[1;31mFileNotFoundError\u001b[0m: [WinError 2] The system cannot find the file specified: 'D:\\\\Study_Material\\\\Python\\\\Test.txt' -> 'D:\\\\Study_Material\\\\Python\\\\Test-1.txt'"
     ]
    }
   ],
   "source": [
    "os.rename(\"D:\\\\Study_Material\\\\Python\\\\Test.txt\", \"D:\\\\Study_Material\\\\Python\\\\Test-1.txt\") # arg1 : Source File, Arg2 : Dest File"
   ]
  },
  {
   "cell_type": "markdown",
   "id": "ecf53b9e",
   "metadata": {},
   "source": [
    "#### File Copy"
   ]
  },
  {
   "cell_type": "markdown",
   "id": "581e37b5",
   "metadata": {},
   "source": [
    "shutil.copy(Source_File, Dest)"
   ]
  },
  {
   "cell_type": "markdown",
   "id": "9cdffdc2",
   "metadata": {},
   "source": [
    "If Dest is a file, content of source file will be copied into Dest file<br>If Dest file exist, content will be copied<br>If Dest file not exist, it will be created and Content will be copied"
   ]
  },
  {
   "cell_type": "code",
   "execution_count": 19,
   "id": "69a762db",
   "metadata": {},
   "outputs": [
    {
     "data": {
      "text/plain": [
       "'D:\\\\Study_Material\\\\Python\\\\Test-1.txt'"
      ]
     },
     "execution_count": 19,
     "metadata": {},
     "output_type": "execute_result"
    }
   ],
   "source": [
    "shutil.copy(\"D:\\\\Study_Material\\\\Python\\\\Test.txt\", \"D:\\\\Study_Material\\\\Python\\\\Test-1.txt\")"
   ]
  },
  {
   "cell_type": "markdown",
   "id": "1dc3e1b0",
   "metadata": {},
   "source": [
    "If Dest is a folder, Source File will be copied into that Folder<br>Folder supposed to be exist"
   ]
  },
  {
   "cell_type": "code",
   "execution_count": 20,
   "id": "075f724c",
   "metadata": {},
   "outputs": [
    {
     "data": {
      "text/plain": [
       "'D:\\\\Study_Material\\\\Python\\\\ABC\\\\Test.txt'"
      ]
     },
     "execution_count": 20,
     "metadata": {},
     "output_type": "execute_result"
    }
   ],
   "source": [
    "shutil.copy(\"D:\\\\Study_Material\\\\Python\\\\Test.txt\", \"D:\\\\Study_Material\\\\Python\\\\ABC\")"
   ]
  },
  {
   "cell_type": "markdown",
   "id": "b9162921",
   "metadata": {},
   "source": [
    "If Dest folder doesn't exist, Source file will think that Dest Folder is a File"
   ]
  },
  {
   "cell_type": "code",
   "execution_count": 21,
   "id": "b7059aaf",
   "metadata": {},
   "outputs": [
    {
     "data": {
      "text/plain": [
       "'D:\\\\Study_Material\\\\Python\\\\ABC'"
      ]
     },
     "execution_count": 21,
     "metadata": {},
     "output_type": "execute_result"
    }
   ],
   "source": [
    "shutil.copy(\"D:\\\\Study_Material\\\\Python\\\\Test.txt\", \"D:\\\\Study_Material\\\\Python\\\\ABC\")"
   ]
  },
  {
   "cell_type": "markdown",
   "id": "c8bd17e7",
   "metadata": {},
   "source": [
    "#### File Movement"
   ]
  },
  {
   "cell_type": "markdown",
   "id": "2264ef76",
   "metadata": {},
   "source": [
    "shutil.move(Source_File, Dest)<br>Works exact same way as shutil.copy"
   ]
  },
  {
   "cell_type": "markdown",
   "id": "3ecbe350",
   "metadata": {},
   "source": [
    "#### Delete A Directory"
   ]
  },
  {
   "cell_type": "markdown",
   "id": "88f06fb3",
   "metadata": {},
   "source": [
    "os.rmdir(Absolute_Pathname_Of_Directory)<br>If Folder is empty then only it can successfully delete that folder"
   ]
  },
  {
   "cell_type": "markdown",
   "id": "af982585",
   "metadata": {},
   "source": [
    "shutil.rmtree(Absolute_Pathname_Of_Directory)<br>Recursive Delete folder and all of it's inside content"
   ]
  },
  {
   "cell_type": "markdown",
   "id": "9770e85c",
   "metadata": {},
   "source": [
    "#### Rename a Directory"
   ]
  },
  {
   "cell_type": "markdown",
   "id": "e4597003",
   "metadata": {},
   "source": [
    "os.reanme(Source_DIR, Dest_DIR)"
   ]
  },
  {
   "cell_type": "markdown",
   "id": "7484963a",
   "metadata": {},
   "source": [
    "#### Copy Directory recursively"
   ]
  },
  {
   "cell_type": "markdown",
   "id": "55cc91dd",
   "metadata": {},
   "source": [
    "shutil.rmtree(Source_DIR, Dest_DIR)"
   ]
  },
  {
   "cell_type": "markdown",
   "id": "385316b1",
   "metadata": {},
   "source": [
    "#### Movement of a DIrectory"
   ]
  },
  {
   "cell_type": "markdown",
   "id": "08d2ce2f",
   "metadata": {},
   "source": [
    "shutil.move(Source_DIR, Dest_DIR)"
   ]
  },
  {
   "cell_type": "markdown",
   "id": "6fa98854",
   "metadata": {},
   "source": [
    "#### Current Working Directory"
   ]
  },
  {
   "cell_type": "code",
   "execution_count": 23,
   "id": "c3698d2d",
   "metadata": {},
   "outputs": [
    {
     "data": {
      "text/plain": [
       "'D:\\\\Study_Material\\\\Python'"
      ]
     },
     "execution_count": 23,
     "metadata": {},
     "output_type": "execute_result"
    }
   ],
   "source": [
    "os.getcwd()"
   ]
  },
  {
   "cell_type": "markdown",
   "id": "f93dd052",
   "metadata": {},
   "source": [
    "#### Change current working Directory to other Directory"
   ]
  },
  {
   "cell_type": "markdown",
   "id": "56aac7d3",
   "metadata": {},
   "source": [
    "os.chdir(Other_DIR_which_must_HaveTo_Exist)"
   ]
  },
  {
   "cell_type": "markdown",
   "id": "0a82d159",
   "metadata": {},
   "source": [
    "#### List down Files inside a folder"
   ]
  },
  {
   "cell_type": "markdown",
   "id": "a628b640",
   "metadata": {},
   "source": [
    "List down Files and Folder names only from that Level"
   ]
  },
  {
   "cell_type": "code",
   "execution_count": 24,
   "id": "abf8f21b",
   "metadata": {},
   "outputs": [
    {
     "data": {
      "text/plain": [
       "['Parent_File_1.txt',\n",
       " 'Parent_File_2.txt',\n",
       " 'Parent_Folder_1',\n",
       " 'Parent_Folder_2']"
      ]
     },
     "execution_count": 24,
     "metadata": {},
     "output_type": "execute_result"
    }
   ],
   "source": [
    "os.listdir(\"D:\\\\Study_Material\\\\Python\\\\GrandParent_Folder\") # If no argument passed, it will list down from current working Dir"
   ]
  },
  {
   "cell_type": "markdown",
   "id": "7d1c1b8f",
   "metadata": {},
   "source": [
    "Recursive List Down of all Folder and File"
   ]
  },
  {
   "cell_type": "code",
   "execution_count": 26,
   "id": "0e08a794",
   "metadata": {},
   "outputs": [
    {
     "name": "stdout",
     "output_type": "stream",
     "text": [
      "Pass : 1\n",
      "=======================================================================\n",
      "D:\\Study_Material\\Python\\GrandParent_Folder\n",
      "['Parent_Folder_1', 'Parent_Folder_2']\n",
      "['Parent_File_1.txt', 'Parent_File_2.txt']\n",
      "\n",
      "Pass : 2\n",
      "=======================================================================\n",
      "D:\\Study_Material\\Python\\GrandParent_Folder\\Parent_Folder_1\n",
      "['Child_Folder_1']\n",
      "['Child_File_1.txt']\n",
      "\n",
      "Pass : 3\n",
      "=======================================================================\n",
      "D:\\Study_Material\\Python\\GrandParent_Folder\\Parent_Folder_1\\Child_Folder_1\n",
      "[]\n",
      "['GrandChild_File_1.txt']\n",
      "\n",
      "Pass : 4\n",
      "=======================================================================\n",
      "D:\\Study_Material\\Python\\GrandParent_Folder\\Parent_Folder_2\n",
      "[]\n",
      "['Child_File_1.txt']\n",
      "\n"
     ]
    }
   ],
   "source": [
    "count = 1\n",
    "\n",
    "# r => Root\n",
    "# d => Folder inside Root\n",
    "# f => File inside Root\n",
    "\n",
    "for r,d,f in os.walk(\"D:\\\\Study_Material\\\\Python\\\\GrandParent_Folder\"):\n",
    "    print(f\"Pass : {count}\")\n",
    "    print(\"=======================================================================\")\n",
    "    print(r)\n",
    "    print(d)\n",
    "    print(f)\n",
    "    print(\"\")\n",
    "    count += 1"
   ]
  },
  {
   "cell_type": "markdown",
   "id": "d569f26c",
   "metadata": {},
   "source": [
    "List down only files recursively"
   ]
  },
  {
   "cell_type": "code",
   "execution_count": 29,
   "id": "c5a29eac",
   "metadata": {
    "scrolled": true
   },
   "outputs": [
    {
     "name": "stdout",
     "output_type": "stream",
     "text": [
      "D:\\Study_Material\\Python\\GrandParent_Folder\\Parent_File_1.txt\n",
      "D:\\Study_Material\\Python\\GrandParent_Folder\\Parent_File_2.txt\n",
      "D:\\Study_Material\\Python\\GrandParent_Folder\\Parent_Folder_1\\Child_File_1.txt\n",
      "D:\\Study_Material\\Python\\GrandParent_Folder\\Parent_Folder_1\\Child_Folder_1\\GrandChild_File_1.txt\n",
      "D:\\Study_Material\\Python\\GrandParent_Folder\\Parent_Folder_2\\Child_File_1.txt\n"
     ]
    }
   ],
   "source": [
    "for r,d,f in os.walk(\"D:\\\\Study_Material\\\\Python\\\\GrandParent_Folder\"):\n",
    "    for file in f:\n",
    "        print(os.path.join(r,file))"
   ]
  },
  {
   "cell_type": "markdown",
   "id": "3b4879b1",
   "metadata": {},
   "source": [
    "#### Miscellaneous"
   ]
  },
  {
   "cell_type": "code",
   "execution_count": 31,
   "id": "7e327b84",
   "metadata": {},
   "outputs": [
    {
     "data": {
      "text/plain": [
       "'D:\\\\Study_Material\\\\Python\\\\00_Data_Type.ipynb'"
      ]
     },
     "execution_count": 31,
     "metadata": {},
     "output_type": "execute_result"
    }
   ],
   "source": [
    "File_name = \"D:\\\\Study_Material\\\\Python\\\\00_Data_Type.ipynb\"\n",
    "File_name"
   ]
  },
  {
   "cell_type": "markdown",
   "id": "bfaf58fc",
   "metadata": {},
   "source": [
    "BaseName of File"
   ]
  },
  {
   "cell_type": "code",
   "execution_count": 32,
   "id": "74ed3807",
   "metadata": {},
   "outputs": [
    {
     "data": {
      "text/plain": [
       "'00_Data_Type.ipynb'"
      ]
     },
     "execution_count": 32,
     "metadata": {},
     "output_type": "execute_result"
    }
   ],
   "source": [
    "os.path.basename(File_name)"
   ]
  },
  {
   "cell_type": "markdown",
   "id": "312572e1",
   "metadata": {},
   "source": [
    "DirectoryName of File"
   ]
  },
  {
   "cell_type": "code",
   "execution_count": 33,
   "id": "066270ca",
   "metadata": {},
   "outputs": [
    {
     "data": {
      "text/plain": [
       "'D:\\\\Study_Material\\\\Python'"
      ]
     },
     "execution_count": 33,
     "metadata": {},
     "output_type": "execute_result"
    }
   ],
   "source": [
    "os.path.dirname(File_name)"
   ]
  },
  {
   "cell_type": "markdown",
   "id": "afbf8ef4",
   "metadata": {},
   "source": [
    "Split by Dir Name and File Name"
   ]
  },
  {
   "cell_type": "code",
   "execution_count": 35,
   "id": "7eaa9df8",
   "metadata": {},
   "outputs": [
    {
     "data": {
      "text/plain": [
       "('D:\\\\Study_Material\\\\Python', '00_Data_Type.ipynb')"
      ]
     },
     "execution_count": 35,
     "metadata": {},
     "output_type": "execute_result"
    }
   ],
   "source": [
    "os.path.split(File_name) # Return tuple of (DIR_NAME, FILE_NAME)"
   ]
  },
  {
   "cell_type": "markdown",
   "id": "282a5807",
   "metadata": {},
   "source": [
    "Concatenate DIR_NAME and FILE_NAME to create Absolute Path"
   ]
  },
  {
   "cell_type": "code",
   "execution_count": 36,
   "id": "2e039215",
   "metadata": {},
   "outputs": [],
   "source": [
    "DIR_NAME = \"D:\\\\Study_Material\\\\Python\"\n",
    "FILE_NAME = \"00_Data_Type.ipynb\""
   ]
  },
  {
   "cell_type": "code",
   "execution_count": 37,
   "id": "ed24b53f",
   "metadata": {},
   "outputs": [
    {
     "data": {
      "text/plain": [
       "'D:\\\\Study_Material\\\\Python\\\\00_Data_Type.ipynb'"
      ]
     },
     "execution_count": 37,
     "metadata": {},
     "output_type": "execute_result"
    }
   ],
   "source": [
    "os.path.join(DIR_NAME, FILE_NAME)"
   ]
  },
  {
   "cell_type": "markdown",
   "id": "433c423c",
   "metadata": {},
   "source": [
    "#### Delete File/Folder and move into Recycle Bin"
   ]
  },
  {
   "cell_type": "markdown",
   "id": "5226e9b9",
   "metadata": {},
   "source": [
    "Above mentioned deletion operation delete File/Folder from System<br>Once operation successful you will not be able to recover those FIle/Folder"
   ]
  },
  {
   "cell_type": "code",
   "execution_count": 40,
   "id": "d3dbd459",
   "metadata": {},
   "outputs": [],
   "source": [
    "send2trash.send2trash(\"D:\\\\Study_Material\\\\Python\\\\Test.txt\") # File Deleted not from System. It is in Recycle Bin"
   ]
  },
  {
   "cell_type": "code",
   "execution_count": 41,
   "id": "518a0229",
   "metadata": {},
   "outputs": [],
   "source": [
    "send2trash.send2trash(\"D:\\\\Study_Material\\\\Python\\\\ABC\") # Folder Deleted not from System. It is in Recycle Bin"
   ]
  }
 ],
 "metadata": {
  "kernelspec": {
   "display_name": "Python 3 (ipykernel)",
   "language": "python",
   "name": "python3"
  },
  "language_info": {
   "codemirror_mode": {
    "name": "ipython",
    "version": 3
   },
   "file_extension": ".py",
   "mimetype": "text/x-python",
   "name": "python",
   "nbconvert_exporter": "python",
   "pygments_lexer": "ipython3",
   "version": "3.7.4"
  }
 },
 "nbformat": 4,
 "nbformat_minor": 5
}
