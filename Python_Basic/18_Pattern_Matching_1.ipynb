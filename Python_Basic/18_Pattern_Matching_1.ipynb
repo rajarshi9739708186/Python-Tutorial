{
 "cells": [
  {
   "cell_type": "markdown",
   "id": "68559af3",
   "metadata": {},
   "source": [
    "Package"
   ]
  },
  {
   "cell_type": "code",
   "execution_count": 1,
   "id": "88ec852c",
   "metadata": {},
   "outputs": [],
   "source": [
    "import re"
   ]
  },
  {
   "cell_type": "markdown",
   "id": "7bee7f86",
   "metadata": {},
   "source": [
    "#### If case sensitive substring matches inside a string"
   ]
  },
  {
   "cell_type": "code",
   "execution_count": 2,
   "id": "ec06c6d0",
   "metadata": {},
   "outputs": [
    {
     "data": {
      "text/plain": [
       "True"
      ]
     },
     "execution_count": 2,
     "metadata": {},
     "output_type": "execute_result"
    }
   ],
   "source": [
    "\"rsh\" in \"Rajarshi\""
   ]
  },
  {
   "cell_type": "code",
   "execution_count": 3,
   "id": "fb9b7673",
   "metadata": {},
   "outputs": [
    {
     "data": {
      "text/plain": [
       "False"
      ]
     },
     "execution_count": 3,
     "metadata": {},
     "output_type": "execute_result"
    }
   ],
   "source": [
    "\"rSh\" in \"Rajarshi\""
   ]
  },
  {
   "cell_type": "markdown",
   "id": "5980e77e",
   "metadata": {},
   "source": [
    "#### + -> One or more occurances of Character"
   ]
  },
  {
   "cell_type": "code",
   "execution_count": 4,
   "id": "136d58d9",
   "metadata": {},
   "outputs": [
    {
     "data": {
      "text/plain": [
       "<re.Match object; span=(0, 2), match='de'>"
      ]
     },
     "execution_count": 4,
     "metadata": {},
     "output_type": "execute_result"
    }
   ],
   "source": [
    "string_value = \"def\"\n",
    "re.search(\"de+\", string_value) # Return matched object if found 'd' and consecutive atlease one occurance of 'e'"
   ]
  },
  {
   "cell_type": "code",
   "execution_count": 5,
   "id": "0da92d06",
   "metadata": {},
   "outputs": [
    {
     "name": "stdout",
     "output_type": "stream",
     "text": [
      "Found\n"
     ]
    }
   ],
   "source": [
    "string_value = \"deef\"\n",
    "\n",
    "if re.search(\"de+\", string_value): # 'd' and two occurance of 'e'\n",
    "    print(\"Found\")\n",
    "else:\n",
    "    print(\"Not Found\")"
   ]
  },
  {
   "cell_type": "code",
   "execution_count": 6,
   "id": "79fd8846",
   "metadata": {},
   "outputs": [
    {
     "name": "stdout",
     "output_type": "stream",
     "text": [
      "Not Found\n"
     ]
    }
   ],
   "source": [
    "string_value = \"df\"\n",
    "\n",
    "if re.search(\"de+\", string_value): # 'd' and zero occurance of 'e'\n",
    "    print(\"Found\")\n",
    "else:\n",
    "    print(\"Not Found\")"
   ]
  },
  {
   "cell_type": "markdown",
   "id": "12ac7680",
   "metadata": {},
   "source": [
    "#### * -> Zero or more occurances of Character"
   ]
  },
  {
   "cell_type": "code",
   "execution_count": 8,
   "id": "3dd1ac12",
   "metadata": {},
   "outputs": [
    {
     "data": {
      "text/plain": [
       "<re.Match object; span=(0, 2), match='de'>"
      ]
     },
     "execution_count": 8,
     "metadata": {},
     "output_type": "execute_result"
    }
   ],
   "source": [
    "string_value = \"def\"\n",
    "re.search(\"de*\", string_value) # Return matched object if found 'd' and consecutive zero or more than one occurance of 'e'"
   ]
  },
  {
   "cell_type": "code",
   "execution_count": 9,
   "id": "efcbd09d",
   "metadata": {},
   "outputs": [
    {
     "name": "stdout",
     "output_type": "stream",
     "text": [
      "Found\n"
     ]
    }
   ],
   "source": [
    "string_value = \"df\"\n",
    "\n",
    "if re.search(\"de*\", string_value): # 'd' and zero occurance of 'e'\n",
    "    print(\"Found\")\n",
    "else:\n",
    "    print(\"Not Found\")"
   ]
  },
  {
   "cell_type": "code",
   "execution_count": 10,
   "id": "b23dffba",
   "metadata": {},
   "outputs": [
    {
     "name": "stdout",
     "output_type": "stream",
     "text": [
      "Found\n"
     ]
    }
   ],
   "source": [
    "string_value = \"def\"\n",
    "\n",
    "if re.search(\"de*\", string_value): # 'd' and one occurance of 'e'\n",
    "    print(\"Found\")\n",
    "else:\n",
    "    print(\"Not Found\")"
   ]
  },
  {
   "cell_type": "code",
   "execution_count": 11,
   "id": "84b98ff1",
   "metadata": {},
   "outputs": [
    {
     "name": "stdout",
     "output_type": "stream",
     "text": [
      "Not Found\n"
     ]
    }
   ],
   "source": [
    "string_value = \"ef\"\n",
    "\n",
    "if re.search(\"de*\", string_value): # No'd' and one occurance of 'e'\n",
    "    print(\"Found\")\n",
    "else:\n",
    "    print(\"Not Found\")"
   ]
  },
  {
   "cell_type": "markdown",
   "id": "6c452f5a",
   "metadata": {},
   "source": [
    "#### Difference in between + and *"
   ]
  },
  {
   "cell_type": "markdown",
   "id": "764b47ea",
   "metadata": {},
   "source": [
    "+ -> It will check for atleast one occurance<br>It will check for zero occurances. Be cautous while using"
   ]
  },
  {
   "cell_type": "code",
   "execution_count": 14,
   "id": "f7e6153c",
   "metadata": {},
   "outputs": [
    {
     "name": "stdout",
     "output_type": "stream",
     "text": [
      "Not Found\n"
     ]
    }
   ],
   "source": [
    "if re.search(\"de+\", \"abcdg\"): # 'd' and zero occurance of 'e'\n",
    "    print(\"Found\")\n",
    "else:\n",
    "    print(\"Not Found\")"
   ]
  },
  {
   "cell_type": "code",
   "execution_count": 16,
   "id": "7f3aa13d",
   "metadata": {},
   "outputs": [
    {
     "name": "stdout",
     "output_type": "stream",
     "text": [
      "Found\n"
     ]
    }
   ],
   "source": [
    "if re.search(\"de*\", \"abcdg\"): # 'd' and one occurance of 'e'\n",
    "    print(\"Found\")\n",
    "else:\n",
    "    print(\"Not Found\")"
   ]
  },
  {
   "cell_type": "markdown",
   "id": "71c01f16",
   "metadata": {},
   "source": [
    "#### . -> Only one character"
   ]
  },
  {
   "cell_type": "code",
   "execution_count": 35,
   "id": "981b591e",
   "metadata": {},
   "outputs": [
    {
     "name": "stdout",
     "output_type": "stream",
     "text": [
      "Found\n"
     ]
    }
   ],
   "source": [
    "string_value = \"defg\"\n",
    "\n",
    "if re.search(\"de.\", string_value): # 'de' and atleast one occurance of any character\n",
    "    print(\"Found\")\n",
    "else:\n",
    "    print(\"Not Found\")"
   ]
  },
  {
   "cell_type": "code",
   "execution_count": 36,
   "id": "f09562d6",
   "metadata": {},
   "outputs": [
    {
     "name": "stdout",
     "output_type": "stream",
     "text": [
      "Not Found\n"
     ]
    }
   ],
   "source": [
    "string_value = \"de\"\n",
    "\n",
    "if re.search(\"de.\", string_value): # 'de' and atleast one occurance of any character\n",
    "    print(\"Found\")\n",
    "else:\n",
    "    print(\"Not Found\")"
   ]
  },
  {
   "cell_type": "code",
   "execution_count": 37,
   "id": "1fe20e00",
   "metadata": {},
   "outputs": [
    {
     "name": "stdout",
     "output_type": "stream",
     "text": [
      "Found\n"
     ]
    }
   ],
   "source": [
    "string_value = \"defg\"\n",
    "\n",
    "if re.search(\"de..\", string_value): # 'de' and atleast two occurance of any character\n",
    "    print(\"Found\")\n",
    "else:\n",
    "    print(\"Not Found\")"
   ]
  },
  {
   "cell_type": "code",
   "execution_count": 38,
   "id": "1e0ca57a",
   "metadata": {},
   "outputs": [
    {
     "name": "stdout",
     "output_type": "stream",
     "text": [
      "Not Found\n"
     ]
    }
   ],
   "source": [
    "string_value = \"def\"\n",
    "\n",
    "if re.search(\"de..\", string_value): # 'de' and atleast two occurance of any character\n",
    "    print(\"Found\")\n",
    "else:\n",
    "    print(\"Not Found\")"
   ]
  },
  {
   "cell_type": "markdown",
   "id": "88fe7725",
   "metadata": {},
   "source": [
    "#### [] -> One or group of attributes"
   ]
  },
  {
   "cell_type": "code",
   "execution_count": 17,
   "id": "44b72771",
   "metadata": {},
   "outputs": [
    {
     "name": "stdout",
     "output_type": "stream",
     "text": [
      "Found\n"
     ]
    }
   ],
   "source": [
    "string_value = \"def\"\n",
    "\n",
    "if re.search(\"d[eab]\", string_value): # True if found : 'd' and one occurance of 'e' or 'a' or 'b'\n",
    "    print(\"Found\")\n",
    "else:\n",
    "    print(\"Not Found\")"
   ]
  },
  {
   "cell_type": "code",
   "execution_count": 18,
   "id": "fe33e296",
   "metadata": {},
   "outputs": [
    {
     "name": "stdout",
     "output_type": "stream",
     "text": [
      "Found\n"
     ]
    }
   ],
   "source": [
    "string_value = \"daf\"\n",
    "\n",
    "if re.search(\"d[eab]\", string_value): # True if found : 'd' and one occurance of 'e' or 'a' or 'b'\n",
    "    print(\"Found\")\n",
    "else:\n",
    "    print(\"Not Found\")"
   ]
  },
  {
   "cell_type": "code",
   "execution_count": 19,
   "id": "9d6aa3ae",
   "metadata": {},
   "outputs": [
    {
     "name": "stdout",
     "output_type": "stream",
     "text": [
      "Not Found\n"
     ]
    }
   ],
   "source": [
    "string_value = \"dAf\"\n",
    "\n",
    "if re.search(\"d[eab]\", string_value): # True if found : 'd' and one occurance of 'e' or 'a' or 'b'\n",
    "    print(\"Found\")\n",
    "else:\n",
    "    print(\"Not Found\")"
   ]
  },
  {
   "cell_type": "markdown",
   "id": "7dd8c7fe",
   "metadata": {},
   "source": [
    "#### Using Range with []"
   ]
  },
  {
   "cell_type": "code",
   "execution_count": 22,
   "id": "228c33fd",
   "metadata": {},
   "outputs": [
    {
     "name": "stdout",
     "output_type": "stream",
     "text": [
      "Found\n"
     ]
    }
   ],
   "source": [
    "string_value = \"def\"\n",
    "\n",
    "# a-zA-Z0-9\n",
    "# a-z -> any letter in beteen a to z\n",
    "# A-Z -> any letter in beteen A to Z\n",
    "# 0-9 -> any Number in beteen 0 to 9\n",
    "if re.search(\"d[a-zA-Z0-9]\", string_value): # True if found : 'd' and one letter in betwwen a to z or A to Z or 0-9\n",
    "    print(\"Found\")\n",
    "else:\n",
    "    print(\"Not Found\")"
   ]
  },
  {
   "cell_type": "code",
   "execution_count": 23,
   "id": "a4c641ef",
   "metadata": {},
   "outputs": [
    {
     "name": "stdout",
     "output_type": "stream",
     "text": [
      "Found\n"
     ]
    }
   ],
   "source": [
    "string_value = \"d7f\"\n",
    "\n",
    "# a-zA-Z0-9\n",
    "# a-z -> any letter in beteen a to z\n",
    "# A-Z -> any letter in beteen A to Z\n",
    "# 0-9 -> any Number in beteen 0 to 9\n",
    "if re.search(\"d[a-zA-Z0-9]\", string_value): # True if found : 'd' and one letter in betwwen a to z or A to Z or 0-9\n",
    "    print(\"Found\")\n",
    "else:\n",
    "    print(\"Not Found\")"
   ]
  },
  {
   "cell_type": "code",
   "execution_count": 24,
   "id": "e753886e",
   "metadata": {},
   "outputs": [
    {
     "name": "stdout",
     "output_type": "stream",
     "text": [
      "Not Found\n"
     ]
    }
   ],
   "source": [
    "string_value = \"d@f\"\n",
    "\n",
    "# a-zA-Z0-9\n",
    "# a-z -> any letter in beteen a to z\n",
    "# A-Z -> any letter in beteen A to Z\n",
    "# 0-9 -> any Number in beteen 0 to 9\n",
    "if re.search(\"d[a-zA-Z0-9]\", string_value): # True if found : 'd' and one letter in betwwen a to z or A to Z or 0-9\n",
    "    print(\"Found\")\n",
    "else:\n",
    "    print(\"Not Found\")"
   ]
  },
  {
   "cell_type": "code",
   "execution_count": 33,
   "id": "b625d300",
   "metadata": {},
   "outputs": [
    {
     "name": "stdout",
     "output_type": "stream",
     "text": [
      "Found\n"
     ]
    }
   ],
   "source": [
    "string_value = \"d12f\"\n",
    "\n",
    "# [0-9][0-9]\n",
    "# Will expect two digit\n",
    "if re.search(\"d[0-9][0-9]\", string_value): # True if found : 'd' and two digit\n",
    "    print(\"Found\")\n",
    "else:\n",
    "    print(\"Not Found\")"
   ]
  },
  {
   "cell_type": "code",
   "execution_count": 34,
   "id": "07cc70fb",
   "metadata": {},
   "outputs": [
    {
     "name": "stdout",
     "output_type": "stream",
     "text": [
      "Not Found\n"
     ]
    }
   ],
   "source": [
    "string_value = \"d1f\"\n",
    "\n",
    "# [0-9][0-9]\n",
    "# Will expect two digit\n",
    "if re.search(\"d[0-9][0-9]\", string_value): # True if found : 'd' and two digit\n",
    "    print(\"Found\")\n",
    "else:\n",
    "    print(\"Not Found\")"
   ]
  },
  {
   "cell_type": "markdown",
   "id": "e1a5464c",
   "metadata": {},
   "source": [
    "#### [^] -> Exclude character"
   ]
  },
  {
   "cell_type": "code",
   "execution_count": 25,
   "id": "5502b056",
   "metadata": {},
   "outputs": [
    {
     "name": "stdout",
     "output_type": "stream",
     "text": [
      "Not Found\n"
     ]
    }
   ],
   "source": [
    "string_value = \"def\"\n",
    "\n",
    "# ^a-z\n",
    "# After 'd' it will expect atleast any character other than 'a' to 'z'\n",
    "if re.search(\"d[^a-z]\", string_value): # True if found : 'd' and atleast one character other than a to z\n",
    "    print(\"Found\")\n",
    "else:\n",
    "    print(\"Not Found\")"
   ]
  },
  {
   "cell_type": "code",
   "execution_count": 26,
   "id": "17edc4ab",
   "metadata": {},
   "outputs": [
    {
     "name": "stdout",
     "output_type": "stream",
     "text": [
      "Found\n"
     ]
    }
   ],
   "source": [
    "string_value = \"d7f\"\n",
    "\n",
    "# ^a-z\n",
    "# After 'd' it will expect atleast any character other than 'a' to 'z'\n",
    "if re.search(\"d[^a-z]\", string_value): # True if found : 'd' and atleast one character other than a to z\n",
    "    print(\"Found\")\n",
    "else:\n",
    "    print(\"Not Found\")"
   ]
  },
  {
   "cell_type": "code",
   "execution_count": 27,
   "id": "44e1337c",
   "metadata": {},
   "outputs": [
    {
     "name": "stdout",
     "output_type": "stream",
     "text": [
      "Found\n"
     ]
    }
   ],
   "source": [
    "string_value = \"d@f\"\n",
    "\n",
    "# ^a-z\n",
    "# After 'd' it will expect atleast any character other than 'a' to 'z'\n",
    "if re.search(\"d[^a-z]\", string_value): # True if found : 'd' and atleast one character other than a to z\n",
    "    print(\"Found\")\n",
    "else:\n",
    "    print(\"Not Found\")"
   ]
  },
  {
   "cell_type": "code",
   "execution_count": 28,
   "id": "f44db272",
   "metadata": {},
   "outputs": [
    {
     "name": "stdout",
     "output_type": "stream",
     "text": [
      "Found\n"
     ]
    }
   ],
   "source": [
    "string_value = \"def\"\n",
    "\n",
    "# ^ab\n",
    "# After 'd' it will expect atleast any character except 'a' and 'b'\n",
    "if re.search(\"d[^ab]\", string_value): # True if found : 'd' and atleast one character except 'a' and 'b'\n",
    "    print(\"Found\")\n",
    "else:\n",
    "    print(\"Not Found\")"
   ]
  },
  {
   "cell_type": "code",
   "execution_count": 29,
   "id": "b070480f",
   "metadata": {},
   "outputs": [
    {
     "name": "stdout",
     "output_type": "stream",
     "text": [
      "Not Found\n"
     ]
    }
   ],
   "source": [
    "string_value = \"daf\"\n",
    "\n",
    "# ^ab\n",
    "# After 'd' it will expect atleast any character except 'a' and 'b'\n",
    "if re.search(\"d[^ab]\", string_value): # True if found : 'd' and atleast one character except 'a' and 'b'\n",
    "    print(\"Found\")\n",
    "else:\n",
    "    print(\"Not Found\")"
   ]
  },
  {
   "cell_type": "code",
   "execution_count": 30,
   "id": "8565559e",
   "metadata": {},
   "outputs": [
    {
     "name": "stdout",
     "output_type": "stream",
     "text": [
      "Not Found\n"
     ]
    }
   ],
   "source": [
    "string_value = \"dbf\"\n",
    "\n",
    "# ^ab\n",
    "# After 'd' it will expect atleast any character except 'a' and 'b'\n",
    "if re.search(\"d[^ab]\", string_value): # True if found : 'd' and atleast one character except 'a' and 'b'\n",
    "    print(\"Found\")\n",
    "else:\n",
    "    print(\"Not Found\")"
   ]
  },
  {
   "cell_type": "code",
   "execution_count": 31,
   "id": "d292ffba",
   "metadata": {},
   "outputs": [
    {
     "name": "stdout",
     "output_type": "stream",
     "text": [
      "Not Found\n"
     ]
    }
   ],
   "source": [
    "string_value = \"d\"\n",
    "\n",
    "# ^ab\n",
    "# After 'd' it will expect atleast any character except 'a' and 'b'\n",
    "if re.search(\"d[^ab]\", string_value): # True if found : 'd' and atleast one character except 'a' and 'b'\n",
    "    print(\"Found\")\n",
    "else:\n",
    "    print(\"Not Found\")"
   ]
  },
  {
   "cell_type": "code",
   "execution_count": 32,
   "id": "31b2392a",
   "metadata": {},
   "outputs": [
    {
     "name": "stdout",
     "output_type": "stream",
     "text": [
      "Found\n"
     ]
    }
   ],
   "source": [
    "string_value = \"df\"\n",
    "\n",
    "# ^ab\n",
    "# After 'd' it will expect atleast any character except 'a' and 'b'\n",
    "if re.search(\"d[^ab]\", string_value): # True if found : 'd' and atleast one character except 'a' and 'b'\n",
    "    print(\"Found\")\n",
    "else:\n",
    "    print(\"Not Found\")"
   ]
  },
  {
   "cell_type": "markdown",
   "id": "c63bfc5d",
   "metadata": {},
   "source": [
    "#### Alternative Patterns"
   ]
  },
  {
   "cell_type": "code",
   "execution_count": 39,
   "id": "1034c96b",
   "metadata": {},
   "outputs": [
    {
     "name": "stdout",
     "output_type": "stream",
     "text": [
      "Found\n"
     ]
    }
   ],
   "source": [
    "string_value = \"abcde123\"\n",
    "\n",
    "# Pattern1|Pattern2|Patter3\n",
    "# True if Pattern1 found\n",
    "# True if Pattern2 found\n",
    "# True if Pattern3 found\n",
    "if re.search(\"de|gh|ij\", string_value): # True if 'de' or 'gh' or 'ij' found\n",
    "    print(\"Found\")\n",
    "else:\n",
    "    print(\"Not Found\")"
   ]
  },
  {
   "cell_type": "code",
   "execution_count": 40,
   "id": "1a03a6e1",
   "metadata": {},
   "outputs": [
    {
     "name": "stdout",
     "output_type": "stream",
     "text": [
      "Found\n"
     ]
    }
   ],
   "source": [
    "string_value = \"abcgh123\"\n",
    "\n",
    "# Pattern1|Pattern2|Patter3\n",
    "# True if Pattern1 found\n",
    "# True if Pattern2 found\n",
    "# True if Pattern3 found\n",
    "if re.search(\"de|gh|ij\", string_value): # True if 'de' or 'gh' or 'ij' found\n",
    "    print(\"Found\")\n",
    "else:\n",
    "    print(\"Not Found\")"
   ]
  },
  {
   "cell_type": "code",
   "execution_count": 41,
   "id": "0d11fb4f",
   "metadata": {},
   "outputs": [
    {
     "name": "stdout",
     "output_type": "stream",
     "text": [
      "Found\n"
     ]
    }
   ],
   "source": [
    "string_value = \"abcij123\"\n",
    "\n",
    "# Pattern1|Pattern2|Patter3\n",
    "# True if Pattern1 found\n",
    "# True if Pattern2 found\n",
    "# True if Pattern3 found\n",
    "if re.search(\"de|gh|ij\", string_value): # True if 'de' or 'gh' or 'ij' found\n",
    "    print(\"Found\")\n",
    "else:\n",
    "    print(\"Not Found\")"
   ]
  },
  {
   "cell_type": "code",
   "execution_count": 42,
   "id": "b632de83",
   "metadata": {},
   "outputs": [
    {
     "name": "stdout",
     "output_type": "stream",
     "text": [
      "Not Found\n"
     ]
    }
   ],
   "source": [
    "string_value = \"abcxy123\"\n",
    "\n",
    "# Pattern1|Pattern2|Patter3\n",
    "# True if Pattern1 found\n",
    "# True if Pattern2 found\n",
    "# True if Pattern3 found\n",
    "if re.search(\"de|gh|ij\", string_value): # True if 'de' or 'gh' or 'ij' found\n",
    "    print(\"Found\")\n",
    "else:\n",
    "    print(\"Not Found\")"
   ]
  }
 ],
 "metadata": {
  "kernelspec": {
   "display_name": "Python 3 (ipykernel)",
   "language": "python",
   "name": "python3"
  },
  "language_info": {
   "codemirror_mode": {
    "name": "ipython",
    "version": 3
   },
   "file_extension": ".py",
   "mimetype": "text/x-python",
   "name": "python",
   "nbconvert_exporter": "python",
   "pygments_lexer": "ipython3",
   "version": "3.7.4"
  }
 },
 "nbformat": 4,
 "nbformat_minor": 5
}
