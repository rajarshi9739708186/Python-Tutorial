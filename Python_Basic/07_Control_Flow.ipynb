{
 "cells": [
  {
   "cell_type": "markdown",
   "id": "83faa3f4",
   "metadata": {},
   "source": [
    "# Control Flow"
   ]
  },
  {
   "cell_type": "markdown",
   "id": "a9ad9118",
   "metadata": {},
   "source": [
    "#### IF"
   ]
  },
  {
   "cell_type": "code",
   "execution_count": 24,
   "id": "cc2b9dd4",
   "metadata": {},
   "outputs": [
    {
     "name": "stdout",
     "output_type": "stream",
     "text": [
      "Inside If\n"
     ]
    }
   ],
   "source": [
    "a = 10\n",
    "\n",
    "if a == 10:\n",
    "    print(\"Inside If\")"
   ]
  },
  {
   "cell_type": "markdown",
   "id": "e5200b26",
   "metadata": {},
   "source": [
    "#### IF ... ELSE"
   ]
  },
  {
   "cell_type": "code",
   "execution_count": 25,
   "id": "7db011c5",
   "metadata": {},
   "outputs": [
    {
     "name": "stdout",
     "output_type": "stream",
     "text": [
      "Inside Else\n"
     ]
    }
   ],
   "source": [
    "a = 10\n",
    "\n",
    "if a == 20:\n",
    "    print(\"Inside If\")\n",
    "else:\n",
    "    print(\"Inside Else\")"
   ]
  },
  {
   "cell_type": "markdown",
   "id": "85533a84",
   "metadata": {},
   "source": [
    "#### IF ... ELIF ... ELSE"
   ]
  },
  {
   "cell_type": "code",
   "execution_count": 28,
   "id": "98f8796e",
   "metadata": {},
   "outputs": [
    {
     "name": "stdout",
     "output_type": "stream",
     "text": [
      "Inside Elif\n"
     ]
    }
   ],
   "source": [
    "a = 10\n",
    "\n",
    "if a == 20:\n",
    "    print(\"Inside If\")\n",
    "elif a== 10:\n",
    "    print(\"Inside Elif\")\n",
    "else:\n",
    "    print(\"Inside Else\")"
   ]
  },
  {
   "cell_type": "markdown",
   "id": "1f919d93",
   "metadata": {},
   "source": [
    "#### WHILE"
   ]
  },
  {
   "cell_type": "markdown",
   "id": "146721f2",
   "metadata": {},
   "source": [
    "there must have to be a terminating condition. Otherwise It will be infinite loop"
   ]
  },
  {
   "cell_type": "code",
   "execution_count": 29,
   "id": "dea0c8b9",
   "metadata": {},
   "outputs": [
    {
     "name": "stdout",
     "output_type": "stream",
     "text": [
      "10\n",
      "11\n",
      "12\n",
      "13\n",
      "14\n"
     ]
    }
   ],
   "source": [
    "a = 10\n",
    "\n",
    "while a < 15:\n",
    "    print(a)\n",
    "    a += 1"
   ]
  },
  {
   "cell_type": "markdown",
   "id": "34cb461d",
   "metadata": {},
   "source": [
    "#### WHILE ... ELSE"
   ]
  },
  {
   "cell_type": "markdown",
   "id": "6a76b09d",
   "metadata": {},
   "source": [
    "when condition become False, ELSE block will be executed"
   ]
  },
  {
   "cell_type": "code",
   "execution_count": 30,
   "id": "552f91fa",
   "metadata": {},
   "outputs": [
    {
     "name": "stdout",
     "output_type": "stream",
     "text": [
      "10\n",
      "11\n",
      "12\n",
      "13\n",
      "14\n",
      "Condition become FALSE\n",
      "Now value is 16\n"
     ]
    }
   ],
   "source": [
    "a = 10\n",
    "\n",
    "while a < 15:\n",
    "    print(a)\n",
    "    a += 1\n",
    "else:\n",
    "    print(\"Condition become FALSE\")\n",
    "    print(\"Now value is 16\")"
   ]
  },
  {
   "cell_type": "markdown",
   "id": "c61f4c50",
   "metadata": {},
   "source": [
    "#### FOR"
   ]
  },
  {
   "cell_type": "markdown",
   "id": "9ebdb2f0",
   "metadata": {},
   "source": [
    "FOR loop can be run on an iterable only"
   ]
  },
  {
   "cell_type": "code",
   "execution_count": 32,
   "id": "34514136",
   "metadata": {},
   "outputs": [
    {
     "name": "stdout",
     "output_type": "stream",
     "text": [
      "11\n",
      "13\n",
      "17\n"
     ]
    }
   ],
   "source": [
    "a = [10, 12, 16]\n",
    "\n",
    "for value in a:\n",
    "    print(value+1)"
   ]
  },
  {
   "cell_type": "markdown",
   "id": "3b532184",
   "metadata": {},
   "source": [
    "#### In"
   ]
  },
  {
   "cell_type": "markdown",
   "id": "033fbc96",
   "metadata": {},
   "source": [
    "to check if an Item exist inside an Iterable"
   ]
  },
  {
   "cell_type": "code",
   "execution_count": 1,
   "id": "2ba1cc06",
   "metadata": {},
   "outputs": [],
   "source": [
    "a = [1,2,3,4]"
   ]
  },
  {
   "cell_type": "code",
   "execution_count": 2,
   "id": "91d8ff2e",
   "metadata": {},
   "outputs": [
    {
     "data": {
      "text/plain": [
       "True"
      ]
     },
     "execution_count": 2,
     "metadata": {},
     "output_type": "execute_result"
    }
   ],
   "source": [
    "3 in a"
   ]
  },
  {
   "cell_type": "code",
   "execution_count": 3,
   "id": "8747f6bc",
   "metadata": {},
   "outputs": [
    {
     "data": {
      "text/plain": [
       "False"
      ]
     },
     "execution_count": 3,
     "metadata": {},
     "output_type": "execute_result"
    }
   ],
   "source": [
    "5 in a"
   ]
  },
  {
   "cell_type": "markdown",
   "id": "0bc5b6d5",
   "metadata": {},
   "source": [
    "#### Break"
   ]
  },
  {
   "cell_type": "markdown",
   "id": "dc3f08db",
   "metadata": {},
   "source": [
    "Breaks out from current closest enclosing loop"
   ]
  },
  {
   "cell_type": "code",
   "execution_count": 4,
   "id": "6eafdc2a",
   "metadata": {},
   "outputs": [
    {
     "name": "stdout",
     "output_type": "stream",
     "text": [
      "0\n",
      "1\n",
      "2\n",
      "3\n",
      "4\n"
     ]
    }
   ],
   "source": [
    "a = 0\n",
    "while a<15:\n",
    "    print(a)\n",
    "    a += 1\n",
    "    \n",
    "    if a == 5:\n",
    "        break"
   ]
  },
  {
   "cell_type": "markdown",
   "id": "6c944d63",
   "metadata": {},
   "source": [
    "#### Continue"
   ]
  },
  {
   "cell_type": "markdown",
   "id": "4117bc7d",
   "metadata": {},
   "source": [
    "Go to top of current closest enclosing loop"
   ]
  },
  {
   "cell_type": "code",
   "execution_count": 1,
   "id": "90e6f835",
   "metadata": {},
   "outputs": [
    {
     "name": "stdout",
     "output_type": "stream",
     "text": [
      "0\n",
      "1\n",
      "2\n",
      "4\n",
      "5\n"
     ]
    }
   ],
   "source": [
    "a = 0\n",
    "while a<6:\n",
    "    if a==3:\n",
    "        a += 1\n",
    "        continue\n",
    "    else:\n",
    "        print(a)\n",
    "        \n",
    "    a += 1"
   ]
  },
  {
   "cell_type": "markdown",
   "id": "f4962a7b",
   "metadata": {},
   "source": [
    "#### PASS"
   ]
  },
  {
   "cell_type": "markdown",
   "id": "c6501a12",
   "metadata": {},
   "source": [
    "Do Nothing"
   ]
  },
  {
   "cell_type": "code",
   "execution_count": 2,
   "id": "bf6f66ca",
   "metadata": {},
   "outputs": [
    {
     "name": "stdout",
     "output_type": "stream",
     "text": [
      "0\n",
      "1\n",
      "3\n",
      "4\n",
      "5\n"
     ]
    }
   ],
   "source": [
    "a = 0\n",
    "while a<6:\n",
    "    if a==2:\n",
    "        pass\n",
    "    else:\n",
    "        print(a)\n",
    "        \n",
    "    a += 1"
   ]
  }
 ],
 "metadata": {
  "kernelspec": {
   "display_name": "Python 3 (ipykernel)",
   "language": "python",
   "name": "python3"
  },
  "language_info": {
   "codemirror_mode": {
    "name": "ipython",
    "version": 3
   },
   "file_extension": ".py",
   "mimetype": "text/x-python",
   "name": "python",
   "nbconvert_exporter": "python",
   "pygments_lexer": "ipython3",
   "version": "3.7.4"
  }
 },
 "nbformat": 4,
 "nbformat_minor": 5
}
