{
 "cells": [
  {
   "cell_type": "markdown",
   "id": "4c2f9028",
   "metadata": {},
   "source": [
    "#### Write into Excel"
   ]
  },
  {
   "cell_type": "markdown",
   "id": "7c6beffc",
   "metadata": {},
   "source": [
    "Package"
   ]
  },
  {
   "cell_type": "code",
   "execution_count": 1,
   "id": "1d056439",
   "metadata": {},
   "outputs": [],
   "source": [
    "import openpyxl"
   ]
  },
  {
   "cell_type": "code",
   "execution_count": 2,
   "id": "652e17b4",
   "metadata": {},
   "outputs": [],
   "source": [
    "WorkBook_Object = openpyxl.Workbook() # Create a blank workbook"
   ]
  },
  {
   "cell_type": "markdown",
   "id": "c6c562af",
   "metadata": {},
   "source": [
    "Point to Active Sheet"
   ]
  },
  {
   "cell_type": "code",
   "execution_count": 5,
   "id": "fb919e01",
   "metadata": {},
   "outputs": [],
   "source": [
    "ActiveSheet_Object = WorkBook_Object.active # As excel didn't exist, It will point to first sheet only"
   ]
  },
  {
   "cell_type": "markdown",
   "id": "3fbb6e7a",
   "metadata": {},
   "source": [
    "Current default Title of the Sheet"
   ]
  },
  {
   "cell_type": "code",
   "execution_count": 8,
   "id": "31c1fffb",
   "metadata": {},
   "outputs": [
    {
     "data": {
      "text/plain": [
       "'Sheet'"
      ]
     },
     "execution_count": 8,
     "metadata": {},
     "output_type": "execute_result"
    }
   ],
   "source": [
    "ActiveSheet_Object.title"
   ]
  },
  {
   "cell_type": "markdown",
   "id": "a47235f6",
   "metadata": {},
   "source": [
    "Set Title of the Sheet"
   ]
  },
  {
   "cell_type": "code",
   "execution_count": 9,
   "id": "6a1fe910",
   "metadata": {},
   "outputs": [],
   "source": [
    "ActiveSheet_Object.title = \"First Sheet\""
   ]
  },
  {
   "cell_type": "markdown",
   "id": "ada6ef1b",
   "metadata": {},
   "source": [
    "Create a New sheet"
   ]
  },
  {
   "cell_type": "code",
   "execution_count": 10,
   "id": "436ac913",
   "metadata": {},
   "outputs": [
    {
     "data": {
      "text/plain": [
       "<Worksheet \"Second Sheet\">"
      ]
     },
     "execution_count": 10,
     "metadata": {},
     "output_type": "execute_result"
    }
   ],
   "source": [
    "WorkBook_Object.create_sheet(title=\"Second Sheet\") # While creating, by that time setting the title"
   ]
  },
  {
   "cell_type": "markdown",
   "id": "7842afe8",
   "metadata": {},
   "source": [
    "Point to Second Sheet"
   ]
  },
  {
   "cell_type": "code",
   "execution_count": 11,
   "id": "e22e6dcf",
   "metadata": {},
   "outputs": [],
   "source": [
    "SecondSheet_Object = WorkBook_Object[\"Second Sheet\"]"
   ]
  },
  {
   "cell_type": "markdown",
   "id": "96a41938",
   "metadata": {},
   "source": [
    "Write Content into Second Sheet"
   ]
  },
  {
   "cell_type": "code",
   "execution_count": 12,
   "id": "5d405916",
   "metadata": {},
   "outputs": [],
   "source": [
    "SecondSheet_Object.cell(row=1, column=1).value = \"a\""
   ]
  },
  {
   "cell_type": "code",
   "execution_count": 13,
   "id": "0e16eedf",
   "metadata": {},
   "outputs": [],
   "source": [
    "SecondSheet_Object[\"B2\"].value = \"b\""
   ]
  },
  {
   "cell_type": "code",
   "execution_count": 14,
   "id": "72c3f6f2",
   "metadata": {},
   "outputs": [],
   "source": [
    "SecondSheet_Object.cell(row=3, column=3).value = \"c\""
   ]
  },
  {
   "cell_type": "markdown",
   "id": "0c052483",
   "metadata": {},
   "source": [
    "Save Excel File"
   ]
  },
  {
   "cell_type": "code",
   "execution_count": 15,
   "id": "99cf1de6",
   "metadata": {},
   "outputs": [],
   "source": [
    "WorkBook_Object.save(\"Sample_Excel_For_Writting.xlsx\")"
   ]
  },
  {
   "cell_type": "markdown",
   "id": "f5ca0fd4",
   "metadata": {},
   "source": [
    "Close Excel File"
   ]
  },
  {
   "cell_type": "code",
   "execution_count": 16,
   "id": "259a7a5a",
   "metadata": {},
   "outputs": [],
   "source": [
    "WorkBook_Object.close()"
   ]
  },
  {
   "cell_type": "markdown",
   "id": "5dbb4875",
   "metadata": {},
   "source": [
    "Check Excel File<br>First Sheet will be Blank<br>Data will be in Second Sheet"
   ]
  },
  {
   "cell_type": "code",
   "execution_count": null,
   "id": "62a4a443",
   "metadata": {},
   "outputs": [],
   "source": [
    "import os\n",
    "os.unlink(\"Sample_Excel_For_Writting.xlsx\")"
   ]
  },
  {
   "cell_type": "markdown",
   "id": "a0507c55",
   "metadata": {},
   "source": [
    "Delete A sheet"
   ]
  },
  {
   "cell_type": "code",
   "execution_count": 18,
   "id": "525b8fe3",
   "metadata": {},
   "outputs": [],
   "source": [
    "WorkBook_Object = openpyxl.Workbook() # Create a blank workbook\n",
    "ActiveSheet_Object = WorkBook_Object.active # As excel didn't exist, It will point to first sheet only\n",
    "ActiveSheet_Object.title = \"First Sheet\"\n",
    "WorkBook_Object.create_sheet(title=\"Second Sheet\") # While creating, by that time setting the title\n",
    "SecondSheet_Object = WorkBook_Object[\"Second Sheet\"]\n",
    "SecondSheet_Object.cell(row=1, column=1).value = \"a\"\n",
    "SecondSheet_Object[\"B2\"].value = \"b\"\n",
    "SecondSheet_Object.cell(row=3, column=3).value = \"c\"\n",
    "\n",
    "# First Sheet is Blank\n",
    "# Second Sheet is populated\n",
    "\n",
    "# Delete First Sheet\n",
    "del WorkBook_Object[\"First Sheet\"]\n",
    "\n",
    "WorkBook_Object.save(\"Sample_Excel_For_Writting.xlsx\")\n",
    "WorkBook_Object.close()"
   ]
  },
  {
   "cell_type": "markdown",
   "id": "6393e564",
   "metadata": {},
   "source": [
    "Check Excel File<br>First Sheet is deleted<br>Data will be in Second Sheet"
   ]
  },
  {
   "cell_type": "code",
   "execution_count": 20,
   "id": "5e5a6f34",
   "metadata": {},
   "outputs": [],
   "source": [
    "import os\n",
    "os.unlink(\"Sample_Excel_For_Writting.xlsx\")"
   ]
  }
 ],
 "metadata": {
  "kernelspec": {
   "display_name": "Python 3 (ipykernel)",
   "language": "python",
   "name": "python3"
  },
  "language_info": {
   "codemirror_mode": {
    "name": "ipython",
    "version": 3
   },
   "file_extension": ".py",
   "mimetype": "text/x-python",
   "name": "python",
   "nbconvert_exporter": "python",
   "pygments_lexer": "ipython3",
   "version": "3.7.4"
  }
 },
 "nbformat": 4,
 "nbformat_minor": 5
}
