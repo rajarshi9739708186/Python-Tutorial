{
 "cells": [
  {
   "cell_type": "markdown",
   "id": "8e673d55",
   "metadata": {},
   "source": [
    "#### Reading from Excel"
   ]
  },
  {
   "cell_type": "markdown",
   "id": "2021ac54",
   "metadata": {},
   "source": [
    "Package"
   ]
  },
  {
   "cell_type": "code",
   "execution_count": 1,
   "id": "568c2afa",
   "metadata": {},
   "outputs": [],
   "source": [
    "import openpyxl"
   ]
  },
  {
   "cell_type": "code",
   "execution_count": 4,
   "id": "e92a504c",
   "metadata": {},
   "outputs": [],
   "source": [
    "WorkBook_Object = openpyxl.load_workbook(\"Sample_Excel_For_Reading.xlsx\") # Load that excel and Return Excel Object"
   ]
  },
  {
   "cell_type": "markdown",
   "id": "90e7c6c2",
   "metadata": {},
   "source": [
    "Available sheets in Excel File"
   ]
  },
  {
   "cell_type": "code",
   "execution_count": 5,
   "id": "0c97355e",
   "metadata": {},
   "outputs": [
    {
     "data": {
      "text/plain": [
       "['First_Sheet', 'Second_Sheet']"
      ]
     },
     "execution_count": 5,
     "metadata": {},
     "output_type": "execute_result"
    }
   ],
   "source": [
    "WorkBook_Object.sheetnames"
   ]
  },
  {
   "cell_type": "markdown",
   "id": "a2ad03fb",
   "metadata": {},
   "source": [
    "Load Active Sheet"
   ]
  },
  {
   "cell_type": "code",
   "execution_count": 7,
   "id": "0fe1da37",
   "metadata": {},
   "outputs": [],
   "source": [
    "# When u will open Excel file\n",
    "# One sheet will be visible\n",
    "# Not necessary the First sheet\n",
    "# While u will save a excel file, which sheet will be visible by that time\n",
    "# That sheet is the active one\n",
    "# For this file it is Second Sheet\n",
    "ActiveSheet_Object = WorkBook_Object.active # For this file it is Second_Sheet"
   ]
  },
  {
   "cell_type": "markdown",
   "id": "14a26f2b",
   "metadata": {},
   "source": [
    "Load a Specific Sheet"
   ]
  },
  {
   "cell_type": "code",
   "execution_count": 8,
   "id": "6e8c039e",
   "metadata": {},
   "outputs": [],
   "source": [
    "FirstSheet_Object = WorkBook_Object['First_Sheet'] # Privide exact name of the sheet"
   ]
  },
  {
   "cell_type": "code",
   "execution_count": 9,
   "id": "e63bfe9a",
   "metadata": {},
   "outputs": [],
   "source": [
    "SecondSheet_Object = WorkBook_Object['Second_Sheet'] # Privide exact name of the sheet"
   ]
  },
  {
   "cell_type": "markdown",
   "id": "65b50323",
   "metadata": {},
   "source": [
    "Max Row of a sheet"
   ]
  },
  {
   "cell_type": "code",
   "execution_count": 10,
   "id": "e2509ddc",
   "metadata": {},
   "outputs": [
    {
     "data": {
      "text/plain": [
       "13"
      ]
     },
     "execution_count": 10,
     "metadata": {},
     "output_type": "execute_result"
    }
   ],
   "source": [
    "ActiveSheet_Object.max_row"
   ]
  },
  {
   "cell_type": "markdown",
   "id": "6ef4691b",
   "metadata": {},
   "source": [
    "Max Column of a Sheet"
   ]
  },
  {
   "cell_type": "code",
   "execution_count": 11,
   "id": "e29aa47a",
   "metadata": {},
   "outputs": [
    {
     "data": {
      "text/plain": [
       "7"
      ]
     },
     "execution_count": 11,
     "metadata": {},
     "output_type": "execute_result"
    }
   ],
   "source": [
    "ActiveSheet_Object.max_column"
   ]
  },
  {
   "cell_type": "markdown",
   "id": "08ab2ea2",
   "metadata": {},
   "source": [
    "Title of the Sheet"
   ]
  },
  {
   "cell_type": "code",
   "execution_count": 12,
   "id": "9405bb91",
   "metadata": {},
   "outputs": [
    {
     "data": {
      "text/plain": [
       "'Second_Sheet'"
      ]
     },
     "execution_count": 12,
     "metadata": {},
     "output_type": "execute_result"
    }
   ],
   "source": [
    "ActiveSheet_Object.title # Sheet Name"
   ]
  },
  {
   "cell_type": "markdown",
   "id": "3ee5c974",
   "metadata": {},
   "source": [
    "Read Value from a Particular Cell"
   ]
  },
  {
   "cell_type": "code",
   "execution_count": 13,
   "id": "e161a027",
   "metadata": {},
   "outputs": [
    {
     "data": {
      "text/plain": [
       "'b'"
      ]
     },
     "execution_count": 13,
     "metadata": {},
     "output_type": "execute_result"
    }
   ],
   "source": [
    "# First way\n",
    "ActiveSheet_Object.cell(row=3, column=5).value # Row and Column indexing both starts from 1"
   ]
  },
  {
   "cell_type": "code",
   "execution_count": 14,
   "id": "58f2de7f",
   "metadata": {},
   "outputs": [
    {
     "data": {
      "text/plain": [
       "'b'"
      ]
     },
     "execution_count": 14,
     "metadata": {},
     "output_type": "execute_result"
    }
   ],
   "source": [
    "# Second way\n",
    "ActiveSheet_Object['E3'].value # Cell Index as per Excel"
   ]
  },
  {
   "cell_type": "code",
   "execution_count": 16,
   "id": "107d28c9",
   "metadata": {},
   "outputs": [],
   "source": [
    "# If nothing Entered into cell, it will return None\n",
    "ActiveSheet_Object.cell(row=7, column=5).value"
   ]
  },
  {
   "cell_type": "code",
   "execution_count": 17,
   "id": "8787dff3",
   "metadata": {},
   "outputs": [
    {
     "name": "stdout",
     "output_type": "stream",
     "text": [
      "Cell contain Nothing\n"
     ]
    }
   ],
   "source": [
    "if ActiveSheet_Object.cell(row=7, column=5).value == None:\n",
    "    print(\"Cell contain Nothing\")"
   ]
  },
  {
   "cell_type": "code",
   "execution_count": 18,
   "id": "7c27022d",
   "metadata": {},
   "outputs": [],
   "source": [
    "ActiveSheet_Object['E7'].value"
   ]
  },
  {
   "cell_type": "code",
   "execution_count": 19,
   "id": "117b586b",
   "metadata": {},
   "outputs": [
    {
     "name": "stdout",
     "output_type": "stream",
     "text": [
      "Cell contain Nothing\n"
     ]
    }
   ],
   "source": [
    "if ActiveSheet_Object['E7'].value == None:\n",
    "    print(\"Cell contain Nothing\")"
   ]
  },
  {
   "cell_type": "markdown",
   "id": "02c6686c",
   "metadata": {},
   "source": [
    "Extract Chunk of Data"
   ]
  },
  {
   "cell_type": "code",
   "execution_count": 20,
   "id": "d38c09d0",
   "metadata": {},
   "outputs": [
    {
     "data": {
      "text/plain": [
       "((<Cell 'Second_Sheet'.C3>,\n",
       "  <Cell 'Second_Sheet'.D3>,\n",
       "  <Cell 'Second_Sheet'.E3>),\n",
       " (<Cell 'Second_Sheet'.C4>,\n",
       "  <Cell 'Second_Sheet'.D4>,\n",
       "  <Cell 'Second_Sheet'.E4>),\n",
       " (<Cell 'Second_Sheet'.C5>,\n",
       "  <Cell 'Second_Sheet'.D5>,\n",
       "  <Cell 'Second_Sheet'.E5>))"
      ]
     },
     "execution_count": 20,
     "metadata": {},
     "output_type": "execute_result"
    }
   ],
   "source": [
    "ActiveSheet_Object[\"C3\" : \"E5\"] #Return tuple of Cell locations within this range"
   ]
  },
  {
   "cell_type": "code",
   "execution_count": 21,
   "id": "d8a3dabb",
   "metadata": {},
   "outputs": [
    {
     "name": "stdout",
     "output_type": "stream",
     "text": [
      "C3 : b\n",
      "D3 : 101\n",
      "E3 : b\n",
      "C4 : c\n",
      "D4 : 102\n",
      "E4 : c\n",
      "C5 : d\n",
      "D5 : 103\n",
      "E5 : d\n"
     ]
    }
   ],
   "source": [
    "for row in ActiveSheet_Object[\"C3\" : \"E5\"]:\n",
    "    for col in row:\n",
    "        print(f\"{col.coordinate} : {col.value}\")"
   ]
  },
  {
   "cell_type": "markdown",
   "id": "a44bb631",
   "metadata": {},
   "source": [
    "Read Entire content from Excel File"
   ]
  },
  {
   "cell_type": "code",
   "execution_count": 22,
   "id": "5babd0ff",
   "metadata": {},
   "outputs": [],
   "source": [
    "FirstSheet_Object = WorkBook_Object['First_Sheet']"
   ]
  },
  {
   "cell_type": "code",
   "execution_count": 26,
   "id": "e26cbf65",
   "metadata": {},
   "outputs": [
    {
     "name": "stdout",
     "output_type": "stream",
     "text": [
      "Row 1 : Col 1 : Col_1\n",
      "Row 1 : Col 2 : Col_2\n",
      "Row 1 : Col 3 : Col_3\n",
      "Row 1 : Col 4 : Col_4\n",
      "Row 1 : Col 5 : Col_5\n",
      "Row 2 : Col 1 : 1\n",
      "Row 2 : Col 2 : A\n",
      "Row 2 : Col 3 : a\n",
      "Row 2 : Col 4 : 100\n",
      "Row 2 : Col 5 : a\n",
      "Row 3 : Col 1 : 2\n",
      "Row 3 : Col 2 : B\n",
      "Row 3 : Col 3 : b\n",
      "Row 3 : Col 4 : 101\n",
      "Row 3 : Col 5 : b\n",
      "Row 4 : Col 1 : 3\n",
      "Row 4 : Col 2 : C\n",
      "Row 4 : Col 3 : c\n",
      "Row 4 : Col 4 : 102\n",
      "Row 4 : Col 5 : c\n",
      "Row 5 : Col 1 : 4\n",
      "Row 5 : Col 2 : D\n",
      "Row 5 : Col 3 : d\n",
      "Row 5 : Col 4 : 103\n",
      "Row 5 : Col 5 : d\n",
      "Row 6 : Col 1 : 5\n",
      "Row 6 : Col 2 : E\n",
      "Row 6 : Col 3 : \n",
      "Row 6 : Col 4 : 104\n",
      "Row 6 : Col 5 : e\n",
      "Row 7 : Col 1 : \n",
      "Row 7 : Col 2 : F\n",
      "Row 7 : Col 3 : \n",
      "Row 7 : Col 4 : 105\n",
      "Row 7 : Col 5 : \n",
      "Row 8 : Col 1 : \n",
      "Row 8 : Col 2 : G\n",
      "Row 8 : Col 3 : \n",
      "Row 8 : Col 4 : 106\n",
      "Row 8 : Col 5 : \n",
      "Row 9 : Col 1 : \n",
      "Row 9 : Col 2 : H\n",
      "Row 9 : Col 3 : \n",
      "Row 9 : Col 4 : 107\n",
      "Row 9 : Col 5 : \n",
      "Row 10 : Col 1 : \n",
      "Row 10 : Col 2 : \n",
      "Row 10 : Col 3 : \n",
      "Row 10 : Col 4 : 108\n",
      "Row 10 : Col 5 : \n"
     ]
    }
   ],
   "source": [
    "for row in range(1, FirstSheet_Object.max_row+1):\n",
    "    for col in range(1, FirstSheet_Object.max_column+1):\n",
    "        data = FirstSheet_Object.cell(row=row, column=col).value\n",
    "        if data == None:\n",
    "            print(f\"Row {row} : Col {col} : \")\n",
    "        else:\n",
    "            print(f\"Row {row} : Col {col} : {data}\")"
   ]
  },
  {
   "cell_type": "markdown",
   "id": "75918582",
   "metadata": {},
   "source": [
    "Close Excel"
   ]
  },
  {
   "cell_type": "code",
   "execution_count": 27,
   "id": "68b44175",
   "metadata": {},
   "outputs": [],
   "source": [
    "WorkBook_Object.close() # Need to close Workbook object"
   ]
  }
 ],
 "metadata": {
  "kernelspec": {
   "display_name": "Python 3 (ipykernel)",
   "language": "python",
   "name": "python3"
  },
  "language_info": {
   "codemirror_mode": {
    "name": "ipython",
    "version": 3
   },
   "file_extension": ".py",
   "mimetype": "text/x-python",
   "name": "python",
   "nbconvert_exporter": "python",
   "pygments_lexer": "ipython3",
   "version": "3.7.4"
  }
 },
 "nbformat": 4,
 "nbformat_minor": 5
}
