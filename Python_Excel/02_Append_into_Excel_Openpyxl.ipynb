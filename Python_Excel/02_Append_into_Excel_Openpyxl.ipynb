{
 "cells": [
  {
   "cell_type": "markdown",
   "id": "8c715fd2",
   "metadata": {},
   "source": [
    "#### Append Data into Excel"
   ]
  },
  {
   "cell_type": "markdown",
   "id": "a8f92c2b",
   "metadata": {},
   "source": [
    "Package"
   ]
  },
  {
   "cell_type": "code",
   "execution_count": 13,
   "id": "f99a8a2d",
   "metadata": {},
   "outputs": [],
   "source": [
    "import openpyxl"
   ]
  },
  {
   "cell_type": "markdown",
   "id": "066b7984",
   "metadata": {},
   "source": [
    "Create a Sample Excel<br>Add some Data"
   ]
  },
  {
   "cell_type": "code",
   "execution_count": 14,
   "id": "9fe1baf9",
   "metadata": {},
   "outputs": [],
   "source": [
    "WorkBook_Object = openpyxl.Workbook() # Create a blank workbook\n",
    "ActiveSheet_Object = WorkBook_Object.active # As excel didn't exist, It will point to first sheet only\n",
    "ActiveSheet_Object.title = \"First_Sheet\"\n",
    "WorkBook_Object.create_sheet(title=\"Second_Sheet\") # While creating, by that time setting the title\n",
    "SecondSheet_Object = WorkBook_Object[\"Second_Sheet\"]\n",
    "SecondSheet_Object.cell(row=1, column=1).value = \"a\"\n",
    "SecondSheet_Object[\"B2\"].value = \"b\"\n",
    "SecondSheet_Object.cell(row=3, column=3).value = \"c\"\n",
    "\n",
    "# First Sheet is Blank\n",
    "# Second Sheet is populated\n",
    "\n",
    "WorkBook_Object.save(\"Sample_Excel_For_Appending.xlsx\")\n",
    "WorkBook_Object.close()"
   ]
  },
  {
   "cell_type": "markdown",
   "id": "cf81cd06",
   "metadata": {},
   "source": [
    "Check Excel File<br>First sheet is Blank<br>data is added in Second sheet"
   ]
  },
  {
   "cell_type": "markdown",
   "id": "daaaf54d",
   "metadata": {},
   "source": [
    "Again load same file"
   ]
  },
  {
   "cell_type": "code",
   "execution_count": 15,
   "id": "2a8acec3",
   "metadata": {},
   "outputs": [],
   "source": [
    "WorkBook_Object = openpyxl.load_workbook(\"Sample_Excel_For_Appending.xlsx\") # Load that excel and Return Excel Object"
   ]
  },
  {
   "cell_type": "markdown",
   "id": "31f76c94",
   "metadata": {},
   "source": [
    "Available Sheets"
   ]
  },
  {
   "cell_type": "code",
   "execution_count": 16,
   "id": "fbb44a96",
   "metadata": {},
   "outputs": [
    {
     "data": {
      "text/plain": [
       "['First_Sheet', 'Second_Sheet']"
      ]
     },
     "execution_count": 16,
     "metadata": {},
     "output_type": "execute_result"
    }
   ],
   "source": [
    "WorkBook_Object.sheetnames"
   ]
  },
  {
   "cell_type": "markdown",
   "id": "71bb7243",
   "metadata": {},
   "source": [
    "Point to First Sheet"
   ]
  },
  {
   "cell_type": "code",
   "execution_count": 17,
   "id": "ec407c34",
   "metadata": {},
   "outputs": [],
   "source": [
    "FirstSheet_Object = WorkBook_Object['First_Sheet']"
   ]
  },
  {
   "cell_type": "markdown",
   "id": "7b748877",
   "metadata": {},
   "source": [
    "No data in First Sheet<br>Append some data"
   ]
  },
  {
   "cell_type": "code",
   "execution_count": 18,
   "id": "70bab72d",
   "metadata": {},
   "outputs": [],
   "source": [
    "FirstSheet_Object.cell(row=1, column=1).value = \"data Added\""
   ]
  },
  {
   "cell_type": "markdown",
   "id": "61bcf82c",
   "metadata": {},
   "source": [
    "Create a New sheet"
   ]
  },
  {
   "cell_type": "code",
   "execution_count": 19,
   "id": "f1d83941",
   "metadata": {},
   "outputs": [
    {
     "data": {
      "text/plain": [
       "<Worksheet \"Third Sheet\">"
      ]
     },
     "execution_count": 19,
     "metadata": {},
     "output_type": "execute_result"
    }
   ],
   "source": [
    "WorkBook_Object.create_sheet(\"Third Sheet\")"
   ]
  },
  {
   "cell_type": "markdown",
   "id": "0f640526",
   "metadata": {},
   "source": [
    "Point to Third sheet"
   ]
  },
  {
   "cell_type": "code",
   "execution_count": 21,
   "id": "6402ce40",
   "metadata": {},
   "outputs": [],
   "source": [
    "ThirdSheet_Object = WorkBook_Object['Third Sheet']"
   ]
  },
  {
   "cell_type": "code",
   "execution_count": 22,
   "id": "bb0c65f3",
   "metadata": {},
   "outputs": [],
   "source": [
    "# Add Data into Third sheet\n",
    "ThirdSheet_Object.cell(row=1, column=1).value = \"data Added\""
   ]
  },
  {
   "cell_type": "markdown",
   "id": "2d2433ac",
   "metadata": {},
   "source": [
    "Save existing Excel file with appened data"
   ]
  },
  {
   "cell_type": "code",
   "execution_count": 23,
   "id": "e7859afe",
   "metadata": {},
   "outputs": [],
   "source": [
    "WorkBook_Object.save(\"Sample_Excel_For_Appending.xlsx\")\n",
    "WorkBook_Object.close()"
   ]
  },
  {
   "cell_type": "markdown",
   "id": "62177118",
   "metadata": {},
   "source": [
    "Check Excel file<br>Data added in First sheet<br>Third Sheet created and data added"
   ]
  },
  {
   "cell_type": "code",
   "execution_count": 24,
   "id": "c56cc817",
   "metadata": {},
   "outputs": [],
   "source": [
    "import os\n",
    "os.unlink(\"Sample_Excel_For_Appending.xlsx\")"
   ]
  }
 ],
 "metadata": {
  "kernelspec": {
   "display_name": "Python 3 (ipykernel)",
   "language": "python",
   "name": "python3"
  },
  "language_info": {
   "codemirror_mode": {
    "name": "ipython",
    "version": 3
   },
   "file_extension": ".py",
   "mimetype": "text/x-python",
   "name": "python",
   "nbconvert_exporter": "python",
   "pygments_lexer": "ipython3",
   "version": "3.7.4"
  }
 },
 "nbformat": 4,
 "nbformat_minor": 5
}
