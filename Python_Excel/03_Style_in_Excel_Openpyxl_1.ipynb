{
 "cells": [
  {
   "cell_type": "markdown",
   "id": "503fa36d",
   "metadata": {},
   "source": [
    "#### Some Styles in Excel"
   ]
  },
  {
   "cell_type": "markdown",
   "id": "cce76481",
   "metadata": {},
   "source": [
    "Package"
   ]
  },
  {
   "cell_type": "code",
   "execution_count": 1,
   "id": "498e6bdc",
   "metadata": {},
   "outputs": [],
   "source": [
    "import openpyxl\n",
    "from openpyxl.styles import PatternFill, Font, Alignment\n",
    "from openpyxl.styles.borders import Border, Side"
   ]
  },
  {
   "cell_type": "code",
   "execution_count": 3,
   "id": "6445f279",
   "metadata": {},
   "outputs": [],
   "source": [
    "# First Sheet\n",
    "WorkBook_Object = openpyxl.Workbook() # Create a blank workbook\n",
    "ActiveSheet_Object = WorkBook_Object.active"
   ]
  },
  {
   "cell_type": "markdown",
   "id": "c603ecd2",
   "metadata": {},
   "source": [
    "Font Size"
   ]
  },
  {
   "cell_type": "code",
   "execution_count": 4,
   "id": "9e11354d",
   "metadata": {},
   "outputs": [],
   "source": [
    "ActiveSheet_Object.cell(row=1, column=1).value = \"A\"\n",
    "ActiveSheet_Object.cell(row=1, column=1).font = Font(size=20)"
   ]
  },
  {
   "cell_type": "markdown",
   "id": "27b7a9eb",
   "metadata": {},
   "source": [
    "Font Bold"
   ]
  },
  {
   "cell_type": "code",
   "execution_count": 5,
   "id": "ad53b1bf",
   "metadata": {},
   "outputs": [],
   "source": [
    "ActiveSheet_Object.cell(row=1, column=2).value = \"B\"\n",
    "ActiveSheet_Object.cell(row=1, column=2).font = Font(bold=True)"
   ]
  },
  {
   "cell_type": "markdown",
   "id": "343b9682",
   "metadata": {},
   "source": [
    "Font Color"
   ]
  },
  {
   "cell_type": "code",
   "execution_count": 6,
   "id": "d0e05154",
   "metadata": {},
   "outputs": [],
   "source": [
    "ActiveSheet_Object.cell(row=1, column=3).value = \"C\"\n",
    "ActiveSheet_Object.cell(row=1, column=3).font = Font(color=\"FFCC0000\") # Hexacode of Color"
   ]
  },
  {
   "cell_type": "markdown",
   "id": "8aef0001",
   "metadata": {},
   "source": [
    "Set Row Height"
   ]
  },
  {
   "cell_type": "code",
   "execution_count": 7,
   "id": "49ced80f",
   "metadata": {},
   "outputs": [],
   "source": [
    "ActiveSheet_Object.row_dimensions[2].height = 20 # Setting Row Height to 20 for Second Row"
   ]
  },
  {
   "cell_type": "markdown",
   "id": "0db36f37",
   "metadata": {},
   "source": [
    "Set Column Width"
   ]
  },
  {
   "cell_type": "code",
   "execution_count": 11,
   "id": "07a1e290",
   "metadata": {},
   "outputs": [],
   "source": [
    "ActiveSheet_Object.column_dimensions[\"D\"].width = 12 # Setting Column width to 12 for 4th Column"
   ]
  },
  {
   "cell_type": "markdown",
   "id": "e40a3053",
   "metadata": {},
   "source": [
    "Alignment of Cell Text"
   ]
  },
  {
   "cell_type": "code",
   "execution_count": 12,
   "id": "0abe70f0",
   "metadata": {},
   "outputs": [],
   "source": [
    "ActiveSheet_Object.cell(row=3, column=5).value = \"Rajarshi\"\n",
    "ActiveSheet_Object.cell(row=3, column=5).alignment = Alignment(horizontal=\"center\", vertical=\"center\")"
   ]
  },
  {
   "cell_type": "markdown",
   "id": "1ec0608a",
   "metadata": {},
   "source": [
    "Cell Type into Text"
   ]
  },
  {
   "cell_type": "code",
   "execution_count": 14,
   "id": "84ff3b2a",
   "metadata": {},
   "outputs": [],
   "source": [
    "ActiveSheet_Object.cell(row=4, column=6).value = 100 # By default cell format will be General\n",
    "ActiveSheet_Object.cell(row=4, column=6).number_format = \"@\" # Cell format will be set to text"
   ]
  },
  {
   "cell_type": "markdown",
   "id": "00371a43",
   "metadata": {},
   "source": [
    "Cell Type into Date format"
   ]
  },
  {
   "cell_type": "code",
   "execution_count": 15,
   "id": "29849796",
   "metadata": {},
   "outputs": [],
   "source": [
    "ActiveSheet_Object.cell(row=4, column=7).value = 123456\n",
    "ActiveSheet_Object.cell(row=4, column=7).number_format = \"m/d/yyyy h:mm\""
   ]
  },
  {
   "cell_type": "markdown",
   "id": "8d05d041",
   "metadata": {},
   "source": [
    "Fill Color into Cell"
   ]
  },
  {
   "cell_type": "code",
   "execution_count": 16,
   "id": "7044a2f1",
   "metadata": {},
   "outputs": [],
   "source": [
    "# Fill cell with Blue Color\n",
    "Blue_Color = PatternFill(start_color=\"ADD8E6\", end_color=\"ADD8E6\", fill_type=\"solid\") # Hexacode of Blue COlor\n",
    "ActiveSheet_Object[\"A5\"].fill = Blue_Color # 5th Row, 1st Column will be filled with Blue Color"
   ]
  },
  {
   "cell_type": "markdown",
   "id": "b9b03130",
   "metadata": {},
   "source": [
    "Cell Border"
   ]
  },
  {
   "cell_type": "code",
   "execution_count": 17,
   "id": "1a482faf",
   "metadata": {},
   "outputs": [],
   "source": [
    "# Thin border to a Cell\n",
    "Thin_Border = Border(left=Side(style='thin'), right=Side(style='thin'), top=Side(style='thin'), bottom=Side(style='thin'))\n",
    "ActiveSheet_Object.cell(row=5, column=2).border = Thin_Border"
   ]
  },
  {
   "cell_type": "markdown",
   "id": "a4493b1c",
   "metadata": {},
   "source": [
    "Merge Cells"
   ]
  },
  {
   "cell_type": "code",
   "execution_count": 18,
   "id": "14f377ba",
   "metadata": {},
   "outputs": [],
   "source": [
    "# Merge Cells\n",
    "# Row 6\n",
    "# Col 8, 9, 10, 11\n",
    "cell_Range = \"H6:K6\"\n",
    "ActiveSheet_Object.merge_cells(cell_Range)\n",
    "ActiveSheet_Object.cell(row=6, column=8).value = \"These are merged Cells\""
   ]
  },
  {
   "cell_type": "code",
   "execution_count": 19,
   "id": "69b8849a",
   "metadata": {},
   "outputs": [],
   "source": [
    "WorkBook_Object.save(\"Sample_Excel_For_Style.xlsx\")\n",
    "WorkBook_Object.close()"
   ]
  },
  {
   "cell_type": "markdown",
   "id": "8ba652cb",
   "metadata": {},
   "source": [
    "Open Excel<br>Check all Styles"
   ]
  },
  {
   "cell_type": "code",
   "execution_count": 20,
   "id": "150927b7",
   "metadata": {},
   "outputs": [],
   "source": [
    "import os\n",
    "os.unlink(\"Sample_Excel_For_Style.xlsx\")"
   ]
  }
 ],
 "metadata": {
  "kernelspec": {
   "display_name": "Python 3 (ipykernel)",
   "language": "python",
   "name": "python3"
  },
  "language_info": {
   "codemirror_mode": {
    "name": "ipython",
    "version": 3
   },
   "file_extension": ".py",
   "mimetype": "text/x-python",
   "name": "python",
   "nbconvert_exporter": "python",
   "pygments_lexer": "ipython3",
   "version": "3.7.4"
  }
 },
 "nbformat": 4,
 "nbformat_minor": 5
}
