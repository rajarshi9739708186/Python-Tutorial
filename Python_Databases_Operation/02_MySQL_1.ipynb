{
 "cells": [
  {
   "cell_type": "markdown",
   "id": "d4e1ef2d",
   "metadata": {},
   "source": [
    "Database Operation for MySQL : Connection and Execution of Query"
   ]
  },
  {
   "cell_type": "markdown",
   "id": "a0ec3355",
   "metadata": {},
   "source": [
    "Package"
   ]
  },
  {
   "cell_type": "code",
   "execution_count": 1,
   "id": "ffdabc01",
   "metadata": {},
   "outputs": [],
   "source": [
    "# pip install mysql-connector-python\n",
    "import mysql.connector"
   ]
  },
  {
   "cell_type": "markdown",
   "id": "2150371e",
   "metadata": {},
   "source": [
    "Connection"
   ]
  },
  {
   "cell_type": "code",
   "execution_count": 2,
   "id": "bac07c51",
   "metadata": {},
   "outputs": [],
   "source": [
    "MySQLConnection = mysql.connector.connect(\n",
    "  host=\"localhost\",\n",
    "  user=\"root\",\n",
    "  password=\"rajarshi\"\n",
    ")"
   ]
  },
  {
   "cell_type": "markdown",
   "id": "9b2b399e",
   "metadata": {},
   "source": [
    "Cursor Object"
   ]
  },
  {
   "cell_type": "code",
   "execution_count": 3,
   "id": "bb935feb",
   "metadata": {},
   "outputs": [],
   "source": [
    "cursor = MySQLConnection.cursor() # Using this object SQL query need to be executed"
   ]
  },
  {
   "cell_type": "markdown",
   "id": "fb352b45",
   "metadata": {},
   "source": [
    "Execution of a Query"
   ]
  },
  {
   "cell_type": "code",
   "execution_count": 4,
   "id": "f4d36572",
   "metadata": {},
   "outputs": [],
   "source": [
    "cursor.execute(\"Use rajarshi_working\") # I already have this Database"
   ]
  },
  {
   "cell_type": "code",
   "execution_count": 5,
   "id": "422ed963",
   "metadata": {},
   "outputs": [
    {
     "name": "stdout",
     "output_type": "stream",
     "text": [
      "('student',)\n"
     ]
    }
   ],
   "source": [
    "cursor.execute(\"show tables\") # I have one table in rajarshi_working database\n",
    "for table in cursor:\n",
    "    print(table)"
   ]
  },
  {
   "cell_type": "code",
   "execution_count": 6,
   "id": "93474326",
   "metadata": {},
   "outputs": [],
   "source": [
    "cursor.execute(\"create table dummy (roll int, marks int)\") # Create a new table"
   ]
  },
  {
   "cell_type": "code",
   "execution_count": 7,
   "id": "b0288a34",
   "metadata": {},
   "outputs": [
    {
     "name": "stdout",
     "output_type": "stream",
     "text": [
      "('dummy',)\n",
      "('student',)\n"
     ]
    }
   ],
   "source": [
    "cursor.execute(\"show tables\") # Now have two tables in rajarshi_working database\n",
    "for table in cursor:\n",
    "    print(table)"
   ]
  },
  {
   "cell_type": "code",
   "execution_count": 8,
   "id": "c77d769c",
   "metadata": {},
   "outputs": [],
   "source": [
    "cursor.execute(\"insert into dummy values (1, 10), (2, 20), (3, 30)\") # Insert 3 Records into Dummy"
   ]
  },
  {
   "cell_type": "markdown",
   "id": "2e530f62",
   "metadata": {},
   "source": [
    "Commit Records"
   ]
  },
  {
   "cell_type": "code",
   "execution_count": 9,
   "id": "5c330844",
   "metadata": {},
   "outputs": [],
   "source": [
    "MySQLConnection.commit()"
   ]
  },
  {
   "cell_type": "markdown",
   "id": "20a9bcf0",
   "metadata": {},
   "source": [
    "Fetch Data from Table"
   ]
  },
  {
   "cell_type": "code",
   "execution_count": 10,
   "id": "3b78fcb8",
   "metadata": {},
   "outputs": [],
   "source": [
    "cursor.execute(\"select * from dummy\")"
   ]
  },
  {
   "cell_type": "markdown",
   "id": "88038f99",
   "metadata": {},
   "source": [
    "Fetch record one by one"
   ]
  },
  {
   "cell_type": "code",
   "execution_count": 11,
   "id": "7f7ac59b",
   "metadata": {},
   "outputs": [
    {
     "data": {
      "text/plain": [
       "(1, 10)"
      ]
     },
     "execution_count": 11,
     "metadata": {},
     "output_type": "execute_result"
    }
   ],
   "source": [
    "cursor.fetchone() # Display the first record and move pointer to next record"
   ]
  },
  {
   "cell_type": "code",
   "execution_count": 12,
   "id": "f69624ae",
   "metadata": {},
   "outputs": [
    {
     "data": {
      "text/plain": [
       "(2, 20)"
      ]
     },
     "execution_count": 12,
     "metadata": {},
     "output_type": "execute_result"
    }
   ],
   "source": [
    "cursor.fetchone() # Display the second record and move pointer to next record"
   ]
  },
  {
   "cell_type": "code",
   "execution_count": 13,
   "id": "c30f2665",
   "metadata": {},
   "outputs": [
    {
     "data": {
      "text/plain": [
       "(3, 30)"
      ]
     },
     "execution_count": 13,
     "metadata": {},
     "output_type": "execute_result"
    }
   ],
   "source": [
    "cursor.fetchone() # Display the third record and move pointer to next record"
   ]
  },
  {
   "cell_type": "code",
   "execution_count": 14,
   "id": "8b634e43",
   "metadata": {},
   "outputs": [
    {
     "data": {
      "text/plain": [
       "True"
      ]
     },
     "execution_count": 14,
     "metadata": {},
     "output_type": "execute_result"
    }
   ],
   "source": [
    "cursor.fetchone() == None # Nothing left out"
   ]
  },
  {
   "cell_type": "markdown",
   "id": "58efffd3",
   "metadata": {},
   "source": [
    "Fetch all record"
   ]
  },
  {
   "cell_type": "code",
   "execution_count": 15,
   "id": "a8ef24e2",
   "metadata": {},
   "outputs": [
    {
     "data": {
      "text/plain": [
       "[(1, 10), (2, 20), (3, 30)]"
      ]
     },
     "execution_count": 15,
     "metadata": {},
     "output_type": "execute_result"
    }
   ],
   "source": [
    "cursor.execute(\"select * from dummy\")\n",
    "cursor.fetchall()"
   ]
  },
  {
   "cell_type": "markdown",
   "id": "1a1efd28",
   "metadata": {},
   "source": [
    "Drop Table"
   ]
  },
  {
   "cell_type": "code",
   "execution_count": 16,
   "id": "b9450e64",
   "metadata": {},
   "outputs": [
    {
     "name": "stdout",
     "output_type": "stream",
     "text": [
      "('student',)\n"
     ]
    }
   ],
   "source": [
    "cursor.execute(\"drop table dummy\") # Delete table dummy\n",
    "cursor.execute(\"show tables\") # Now have 1 table in rajarshi_working database\n",
    "for table in cursor:\n",
    "    print(table)"
   ]
  },
  {
   "cell_type": "markdown",
   "id": "ebeb9819",
   "metadata": {},
   "source": [
    "Close Connection"
   ]
  },
  {
   "cell_type": "code",
   "execution_count": 17,
   "id": "9061a83b",
   "metadata": {},
   "outputs": [],
   "source": [
    "cursor.close()\n",
    "MySQLConnection.close()"
   ]
  }
 ],
 "metadata": {
  "kernelspec": {
   "display_name": "Python 3 (ipykernel)",
   "language": "python",
   "name": "python3"
  },
  "language_info": {
   "codemirror_mode": {
    "name": "ipython",
    "version": 3
   },
   "file_extension": ".py",
   "mimetype": "text/x-python",
   "name": "python",
   "nbconvert_exporter": "python",
   "pygments_lexer": "ipython3",
   "version": "3.7.4"
  }
 },
 "nbformat": 4,
 "nbformat_minor": 5
}
