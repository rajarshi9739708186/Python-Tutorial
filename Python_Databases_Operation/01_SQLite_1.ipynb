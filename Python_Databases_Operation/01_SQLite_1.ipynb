{
 "cells": [
  {
   "cell_type": "markdown",
   "id": "ff49b7b8",
   "metadata": {},
   "source": [
    "#### Database Operation for SQLite : Connection and Execution of Query"
   ]
  },
  {
   "cell_type": "markdown",
   "id": "1ba277c0",
   "metadata": {},
   "source": [
    "Pacakage"
   ]
  },
  {
   "cell_type": "code",
   "execution_count": 1,
   "id": "80ba97f3",
   "metadata": {},
   "outputs": [],
   "source": [
    "# pip install pysqlite3\n",
    "import sqlite3"
   ]
  },
  {
   "cell_type": "markdown",
   "id": "bd346136",
   "metadata": {},
   "source": [
    "Connection"
   ]
  },
  {
   "cell_type": "code",
   "execution_count": 19,
   "id": "01c7db68",
   "metadata": {},
   "outputs": [],
   "source": [
    "# If sample.db exist, it will connect with it\n",
    "# Otherwise it will create it\n",
    "sqliteConnection = sqlite3.connect('sample.db')\n",
    "cursor = sqliteConnection.cursor() # Using this object SQL query need to be executed"
   ]
  },
  {
   "cell_type": "markdown",
   "id": "fd087278",
   "metadata": {},
   "source": [
    "Execution of a Query to update Table/Databse"
   ]
  },
  {
   "cell_type": "code",
   "execution_count": 4,
   "id": "a2f59d62",
   "metadata": {},
   "outputs": [
    {
     "data": {
      "text/plain": [
       "<sqlite3.Cursor at 0x64be360>"
      ]
     },
     "execution_count": 4,
     "metadata": {},
     "output_type": "execute_result"
    }
   ],
   "source": [
    "cursor.execute(\"create table student (roll int, marks int)\") # Table creation query executed"
   ]
  },
  {
   "cell_type": "code",
   "execution_count": 5,
   "id": "3d7c7a72",
   "metadata": {},
   "outputs": [
    {
     "data": {
      "text/plain": [
       "<sqlite3.Cursor at 0x64be360>"
      ]
     },
     "execution_count": 5,
     "metadata": {},
     "output_type": "execute_result"
    }
   ],
   "source": [
    "cursor.execute(\"insert into student values (1, 10), (2, 20), (3, 30)\") # Insert Query to insert 3 values"
   ]
  },
  {
   "cell_type": "markdown",
   "id": "4dfcf020",
   "metadata": {},
   "source": [
    "After Table/Database modification we must need to commit"
   ]
  },
  {
   "cell_type": "code",
   "execution_count": 20,
   "id": "807b2e2f",
   "metadata": {},
   "outputs": [],
   "source": [
    "sqliteConnection.commit()"
   ]
  },
  {
   "cell_type": "markdown",
   "id": "ee53464a",
   "metadata": {},
   "source": [
    "Fetch Data from Table"
   ]
  },
  {
   "cell_type": "code",
   "execution_count": 6,
   "id": "bdad4db8",
   "metadata": {},
   "outputs": [],
   "source": [
    "result = cursor.execute(\"select * from student\")"
   ]
  },
  {
   "cell_type": "markdown",
   "id": "63830b79",
   "metadata": {},
   "source": [
    "Fetch record one by one"
   ]
  },
  {
   "cell_type": "code",
   "execution_count": 7,
   "id": "7f3864d0",
   "metadata": {},
   "outputs": [
    {
     "data": {
      "text/plain": [
       "(1, 10)"
      ]
     },
     "execution_count": 7,
     "metadata": {},
     "output_type": "execute_result"
    }
   ],
   "source": [
    "result.fetchone() # Display the first record and move pointer to next record"
   ]
  },
  {
   "cell_type": "code",
   "execution_count": 8,
   "id": "865e9268",
   "metadata": {},
   "outputs": [
    {
     "data": {
      "text/plain": [
       "(2, 20)"
      ]
     },
     "execution_count": 8,
     "metadata": {},
     "output_type": "execute_result"
    }
   ],
   "source": [
    "result.fetchone() # Display the second record and move pointer to next record"
   ]
  },
  {
   "cell_type": "code",
   "execution_count": 9,
   "id": "ad93eaba",
   "metadata": {},
   "outputs": [
    {
     "data": {
      "text/plain": [
       "(3, 30)"
      ]
     },
     "execution_count": 9,
     "metadata": {},
     "output_type": "execute_result"
    }
   ],
   "source": [
    "result.fetchone() # Display the third record and move pointer to next record"
   ]
  },
  {
   "cell_type": "code",
   "execution_count": 11,
   "id": "d4b6b02a",
   "metadata": {},
   "outputs": [
    {
     "data": {
      "text/plain": [
       "True"
      ]
     },
     "execution_count": 11,
     "metadata": {},
     "output_type": "execute_result"
    }
   ],
   "source": [
    "result.fetchone() == None # Nothing left out"
   ]
  },
  {
   "cell_type": "markdown",
   "id": "0c65982b",
   "metadata": {},
   "source": [
    "Fetch all record"
   ]
  },
  {
   "cell_type": "code",
   "execution_count": 13,
   "id": "21a61184",
   "metadata": {},
   "outputs": [],
   "source": [
    "result = cursor.execute(\"select * from student\")"
   ]
  },
  {
   "cell_type": "code",
   "execution_count": 14,
   "id": "681b549a",
   "metadata": {},
   "outputs": [
    {
     "data": {
      "text/plain": [
       "[(1, 10), (2, 20), (3, 30)]"
      ]
     },
     "execution_count": 14,
     "metadata": {},
     "output_type": "execute_result"
    }
   ],
   "source": [
    "result.fetchall()"
   ]
  },
  {
   "cell_type": "markdown",
   "id": "65095fad",
   "metadata": {},
   "source": [
    "Close Connection"
   ]
  },
  {
   "cell_type": "code",
   "execution_count": 16,
   "id": "ef35038d",
   "metadata": {},
   "outputs": [],
   "source": [
    "cursor.close() # Close cursor object\n",
    "sqliteConnection.close() # Terminate SQLite connection"
   ]
  },
  {
   "cell_type": "markdown",
   "id": "dc78096b",
   "metadata": {},
   "source": [
    "Delete .db File"
   ]
  },
  {
   "cell_type": "code",
   "execution_count": 17,
   "id": "8c74bd21",
   "metadata": {},
   "outputs": [],
   "source": [
    "import os\n",
    "os.unlink(\"sample.db\")"
   ]
  }
 ],
 "metadata": {
  "kernelspec": {
   "display_name": "Python 3 (ipykernel)",
   "language": "python",
   "name": "python3"
  },
  "language_info": {
   "codemirror_mode": {
    "name": "ipython",
    "version": 3
   },
   "file_extension": ".py",
   "mimetype": "text/x-python",
   "name": "python",
   "nbconvert_exporter": "python",
   "pygments_lexer": "ipython3",
   "version": "3.7.4"
  }
 },
 "nbformat": 4,
 "nbformat_minor": 5
}
