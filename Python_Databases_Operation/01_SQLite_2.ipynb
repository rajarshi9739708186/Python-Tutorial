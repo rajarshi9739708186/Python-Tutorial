{
 "cells": [
  {
   "cell_type": "markdown",
   "id": "4f27eb19",
   "metadata": {},
   "source": [
    "#### Database Operation for SQLite : Store Physical files"
   ]
  },
  {
   "cell_type": "markdown",
   "id": "af5fd4bb",
   "metadata": {},
   "source": [
    "Package"
   ]
  },
  {
   "cell_type": "code",
   "execution_count": 2,
   "id": "a2629a57",
   "metadata": {},
   "outputs": [],
   "source": [
    "# pip install pysqlite3\n",
    "import sqlite3"
   ]
  },
  {
   "cell_type": "markdown",
   "id": "6e1cebb1",
   "metadata": {},
   "source": [
    "Connection"
   ]
  },
  {
   "cell_type": "code",
   "execution_count": 17,
   "id": "223eab1b",
   "metadata": {},
   "outputs": [],
   "source": [
    "# If sample.db exist, it will connect with it\n",
    "# Otherwise it will create it\n",
    "sqliteConnection = sqlite3.connect('sample.db')\n",
    "cursor = sqliteConnection.cursor() # Using this object SQL query need to be executed"
   ]
  },
  {
   "cell_type": "markdown",
   "id": "3053da2f",
   "metadata": {},
   "source": [
    "Create Table"
   ]
  },
  {
   "cell_type": "code",
   "execution_count": 5,
   "id": "b52e11d9",
   "metadata": {},
   "outputs": [
    {
     "data": {
      "text/plain": [
       "<sqlite3.Cursor at 0x6be820>"
      ]
     },
     "execution_count": 5,
     "metadata": {},
     "output_type": "execute_result"
    }
   ],
   "source": [
    "cursor.execute(\"create table file_storage (file_name char(30), actual_file blob)\") # Blob used for big information"
   ]
  },
  {
   "cell_type": "markdown",
   "id": "b8c0deb6",
   "metadata": {},
   "source": [
    "Function to convert File into Binary and Binary to File"
   ]
  },
  {
   "cell_type": "code",
   "execution_count": 18,
   "id": "1a591454",
   "metadata": {},
   "outputs": [],
   "source": [
    "# File to Binary\n",
    "import os\n",
    "\n",
    "def File_to_Binary(filename):\n",
    "    with open(filename, \"rb\") as file:\n",
    "        blobdata = file.read()\n",
    "    return blobdata\n",
    "\n",
    "# Binary to file\n",
    "def Binary_to_File(BinaryData, filename):\n",
    "    with open(filename, \"wb\") as file:\n",
    "        file.write(BinaryData)"
   ]
  },
  {
   "cell_type": "markdown",
   "id": "98f545c7",
   "metadata": {},
   "source": [
    "Insert Physical File : Image File"
   ]
  },
  {
   "cell_type": "code",
   "execution_count": 19,
   "id": "c3e464e6",
   "metadata": {},
   "outputs": [
    {
     "data": {
      "text/plain": [
       "<sqlite3.Cursor at 0x6beae0>"
      ]
     },
     "execution_count": 19,
     "metadata": {},
     "output_type": "execute_result"
    }
   ],
   "source": [
    "image_binary_obj = File_to_Binary(os.path.join(os.getcwd(), \"Supporting_Files\\\\Ayon_Ananya.jpg\"))\n",
    "sql_query = \"insert into file_storage (file_name, actual_file) values (?, ?)\"\n",
    "data_tuple = (\"Ayon_Ananya.jpg\", image_binary_obj)\n",
    "cursor.execute(sql_query, data_tuple)"
   ]
  },
  {
   "cell_type": "markdown",
   "id": "2c30a5aa",
   "metadata": {},
   "source": [
    "Insert Physical File : MP3 File"
   ]
  },
  {
   "cell_type": "code",
   "execution_count": 20,
   "id": "78d4437b",
   "metadata": {},
   "outputs": [
    {
     "data": {
      "text/plain": [
       "<sqlite3.Cursor at 0x6beae0>"
      ]
     },
     "execution_count": 20,
     "metadata": {},
     "output_type": "execute_result"
    }
   ],
   "source": [
    "mp3_binary_obj = File_to_Binary(os.path.join(os.getcwd(), \"Supporting_Files\\\\Aaloshyo.mp3\"))\n",
    "sql_query = \"insert into file_storage (file_name, actual_file) values (?, ?)\"\n",
    "data_tuple = (\"Aaloshyo.mp3\", mp3_binary_obj)\n",
    "cursor.execute(sql_query, data_tuple)"
   ]
  },
  {
   "cell_type": "markdown",
   "id": "398e9753",
   "metadata": {},
   "source": [
    "Insert Physical File : PDF File"
   ]
  },
  {
   "cell_type": "code",
   "execution_count": 21,
   "id": "3532fba3",
   "metadata": {},
   "outputs": [
    {
     "data": {
      "text/plain": [
       "<sqlite3.Cursor at 0x6beae0>"
      ]
     },
     "execution_count": 21,
     "metadata": {},
     "output_type": "execute_result"
    }
   ],
   "source": [
    "pdf_binary_obj = File_to_Binary(os.path.join(os.getcwd(), \"Supporting_Files\\\\IBM_AI_Engineering.pdf\"))\n",
    "sql_query = \"insert into file_storage (file_name, actual_file) values (?, ?)\"\n",
    "data_tuple = (\"IBM_AI_Engineering.pdf\", pdf_binary_obj)\n",
    "cursor.execute(sql_query, data_tuple)"
   ]
  },
  {
   "cell_type": "markdown",
   "id": "0e0d94a1",
   "metadata": {},
   "source": [
    "Commit update"
   ]
  },
  {
   "cell_type": "code",
   "execution_count": 22,
   "id": "f4deb363",
   "metadata": {},
   "outputs": [],
   "source": [
    "sqliteConnection.commit()"
   ]
  },
  {
   "cell_type": "markdown",
   "id": "3ea575e8",
   "metadata": {},
   "source": [
    "Fetch all result and convert binary into file"
   ]
  },
  {
   "cell_type": "code",
   "execution_count": 23,
   "id": "80cfa912",
   "metadata": {},
   "outputs": [],
   "source": [
    "for record in cursor.execute(\"select * from file_storage\"):\n",
    "    Binary_to_File(record[1], os.path.join(os.getcwd(), record[0]))"
   ]
  },
  {
   "cell_type": "markdown",
   "id": "d8c0cc31",
   "metadata": {},
   "source": [
    "Close Connection"
   ]
  },
  {
   "cell_type": "code",
   "execution_count": 24,
   "id": "55893355",
   "metadata": {},
   "outputs": [],
   "source": [
    "cursor.close() # Close cursor object\n",
    "sqliteConnection.close() # Terminate SQLite connection"
   ]
  },
  {
   "cell_type": "markdown",
   "id": "cc6f3988",
   "metadata": {},
   "source": [
    "Delete .db File"
   ]
  },
  {
   "cell_type": "code",
   "execution_count": 25,
   "id": "7c61cc8f",
   "metadata": {},
   "outputs": [
    {
     "ename": "PermissionError",
     "evalue": "[WinError 32] The process cannot access the file because it is being used by another process: 'sample.db'",
     "output_type": "error",
     "traceback": [
      "\u001b[1;31m---------------------------------------------------------------------------\u001b[0m",
      "\u001b[1;31mPermissionError\u001b[0m                           Traceback (most recent call last)",
      "\u001b[1;32m~\\AppData\\Local\\Temp\\ipykernel_22740\\3362629204.py\u001b[0m in \u001b[0;36m<module>\u001b[1;34m\u001b[0m\n\u001b[1;32m----> 1\u001b[1;33m \u001b[0mos\u001b[0m\u001b[1;33m.\u001b[0m\u001b[0munlink\u001b[0m\u001b[1;33m(\u001b[0m\u001b[1;34m\"sample.db\"\u001b[0m\u001b[1;33m)\u001b[0m\u001b[1;33m\u001b[0m\u001b[1;33m\u001b[0m\u001b[0m\n\u001b[0m",
      "\u001b[1;31mPermissionError\u001b[0m: [WinError 32] The process cannot access the file because it is being used by another process: 'sample.db'"
     ]
    }
   ],
   "source": [
    "os.unlink(\"sample.db\")"
   ]
  },
  {
   "cell_type": "markdown",
   "id": "73b56714",
   "metadata": {},
   "source": [
    "Delete downloaded Files"
   ]
  },
  {
   "cell_type": "code",
   "execution_count": 27,
   "id": "d2e80290",
   "metadata": {},
   "outputs": [],
   "source": [
    "os.unlink(\"Aaloshyo.mp3\")\n",
    "os.unlink(\"Ayon_Ananya.jpg\")\n",
    "os.unlink(\"IBM_AI_Engineering.pdf\")"
   ]
  }
 ],
 "metadata": {
  "kernelspec": {
   "display_name": "Python 3 (ipykernel)",
   "language": "python",
   "name": "python3"
  },
  "language_info": {
   "codemirror_mode": {
    "name": "ipython",
    "version": 3
   },
   "file_extension": ".py",
   "mimetype": "text/x-python",
   "name": "python",
   "nbconvert_exporter": "python",
   "pygments_lexer": "ipython3",
   "version": "3.7.4"
  }
 },
 "nbformat": 4,
 "nbformat_minor": 5
}
