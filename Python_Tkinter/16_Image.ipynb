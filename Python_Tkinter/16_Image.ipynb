{
 "cells": [
  {
   "cell_type": "markdown",
   "id": "78f51701",
   "metadata": {},
   "source": [
    "# Add Image"
   ]
  },
  {
   "cell_type": "code",
   "execution_count": 2,
   "id": "b841a084",
   "metadata": {},
   "outputs": [],
   "source": [
    "from tkinter import *\n",
    "import os\n",
    "from PIL import ImageTk, Image # Package for Image"
   ]
  },
  {
   "cell_type": "code",
   "execution_count": 4,
   "id": "c3492c0f",
   "metadata": {},
   "outputs": [],
   "source": [
    "root = Tk()\n",
    "root.geometry(\"600x300\")\n",
    "\n",
    "label_object = Label() # Creating a Label Object\n",
    "label_object.grid()\n",
    "\n",
    "# Load Image\n",
    "Sample_Image = ImageTk.PhotoImage(Image.open(os.path.join(os.getcwd(),\"Rock.png\")))\n",
    "# Display Image on the Label\n",
    "label_object.config(image=Sample_Image)\n",
    "\n",
    "root.mainloop()"
   ]
  }
 ],
 "metadata": {
  "kernelspec": {
   "display_name": "Python 3 (ipykernel)",
   "language": "python",
   "name": "python3"
  },
  "language_info": {
   "codemirror_mode": {
    "name": "ipython",
    "version": 3
   },
   "file_extension": ".py",
   "mimetype": "text/x-python",
   "name": "python",
   "nbconvert_exporter": "python",
   "pygments_lexer": "ipython3",
   "version": "3.7.4"
  }
 },
 "nbformat": 4,
 "nbformat_minor": 5
}
