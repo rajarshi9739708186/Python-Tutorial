{
 "cells": [
  {
   "cell_type": "markdown",
   "id": "40c6c89c",
   "metadata": {},
   "source": [
    "# Multiple Tabs & Browsers"
   ]
  },
  {
   "cell_type": "markdown",
   "id": "c3f7110f",
   "metadata": {},
   "source": [
    "Below concept is same for Both Multiple Tabs and Browsers"
   ]
  },
  {
   "cell_type": "markdown",
   "id": "1f2ac11b",
   "metadata": {},
   "source": [
    "#### Package"
   ]
  },
  {
   "cell_type": "code",
   "execution_count": 9,
   "id": "2225fec4",
   "metadata": {},
   "outputs": [],
   "source": [
    "# pip install selenium\n",
    "from selenium import webdriver\n",
    "import json\n",
    "import os"
   ]
  },
  {
   "cell_type": "markdown",
   "id": "6dbf6d41",
   "metadata": {},
   "source": [
    "#### Selenium Settings"
   ]
  },
  {
   "cell_type": "code",
   "execution_count": 10,
   "id": "00d7f3d8",
   "metadata": {},
   "outputs": [],
   "source": [
    "op = webdriver.ChromeOptions()\n",
    "\n",
    "settings = {\n",
    "    \"recentDestinations\" : [{\n",
    "        \"id\" : \"Save as PDF\",\n",
    "        \"origin\" : \"local\",\n",
    "        \"account\" : \"\",    \n",
    "    }],\n",
    "    \"selectedDestinationId\" : \"Save as PDF\",\n",
    "    \"version\" : 2,\n",
    "    \"isCssBackgroundEnabled\" : True\n",
    "}\n",
    "\n",
    "# Provide Locatiopn where file will be downloaded\n",
    "Base_Folder = os.getcwd()\n",
    "\n",
    "p = {\"download.default_directory\" : Base_Folder,\n",
    "    \"printing.print_preview_sticky_settings.appState\" : json.dumps(settings),\n",
    "    \"savefile.default_directory\" : Base_Folder,\n",
    "    \"safebrowsing.enabled\" : \"false\"}\n",
    "\n",
    "op.add_experimental_option(\"prefs\", p)\n",
    "op.add_argument('--kiosk-printing')"
   ]
  },
  {
   "cell_type": "markdown",
   "id": "87762704",
   "metadata": {},
   "source": [
    "#### Chromedriver downloaded and placed in C:\\chromedriver_win32"
   ]
  },
  {
   "cell_type": "code",
   "execution_count": 11,
   "id": "3057ff00",
   "metadata": {},
   "outputs": [
    {
     "name": "stderr",
     "output_type": "stream",
     "text": [
      "c:\\users\\rahar\\appdata\\local\\programs\\python\\python37-32\\lib\\site-packages\\ipykernel_launcher.py:4: DeprecationWarning: executable_path has been deprecated, please pass in a Service object\n",
      "  after removing the cwd from sys.path.\n"
     ]
    }
   ],
   "source": [
    "Chromedriver_Location = \"C:\\chromedriver_win32\\chromedriver.exe\"\n",
    "\n",
    "# Enable Chromedriver\n",
    "driver = webdriver.Chrome(Chromedriver_Location, options=op)"
   ]
  },
  {
   "cell_type": "markdown",
   "id": "a15b1185",
   "metadata": {},
   "source": [
    "#### Load First Website"
   ]
  },
  {
   "cell_type": "code",
   "execution_count": 12,
   "id": "6759a820",
   "metadata": {},
   "outputs": [],
   "source": [
    "driver.get(\"https://www.google.com/\") # Opening Google"
   ]
  },
  {
   "cell_type": "markdown",
   "id": "6e5a24d8",
   "metadata": {},
   "source": [
    "driver will point to First tab<br>It store ID of First tab inside driver.window_handles list"
   ]
  },
  {
   "cell_type": "code",
   "execution_count": 13,
   "id": "818ed722",
   "metadata": {},
   "outputs": [
    {
     "data": {
      "text/plain": [
       "['CDwindow-46667A3F8E12EE24623094DE3E1BF7A4']"
      ]
     },
     "execution_count": 13,
     "metadata": {},
     "output_type": "execute_result"
    }
   ],
   "source": [
    "driver.window_handles"
   ]
  },
  {
   "cell_type": "markdown",
   "id": "a80682c6",
   "metadata": {},
   "source": [
    "#### Open Another tab"
   ]
  },
  {
   "cell_type": "code",
   "execution_count": 15,
   "id": "9749f89d",
   "metadata": {},
   "outputs": [],
   "source": [
    "driver.execute_script(\"window.open('about:blank');\") # 2 nd Tab opened. But still Driver is pointing to First Tab"
   ]
  },
  {
   "cell_type": "code",
   "execution_count": 16,
   "id": "b469a57a",
   "metadata": {},
   "outputs": [
    {
     "data": {
      "text/plain": [
       "['CDwindow-46667A3F8E12EE24623094DE3E1BF7A4',\n",
       " 'CDwindow-A21A58E43C4560A2D002A551073B7953']"
      ]
     },
     "execution_count": 16,
     "metadata": {},
     "output_type": "execute_result"
    }
   ],
   "source": [
    "driver.window_handles"
   ]
  },
  {
   "cell_type": "code",
   "execution_count": 17,
   "id": "390c2865",
   "metadata": {},
   "outputs": [],
   "source": [
    "driver.execute_script(\"window.open('about:blank');\") # 3 rd Tab opened. But still Driver is pointing to First Tab"
   ]
  },
  {
   "cell_type": "code",
   "execution_count": 18,
   "id": "993ec776",
   "metadata": {},
   "outputs": [
    {
     "data": {
      "text/plain": [
       "['CDwindow-46667A3F8E12EE24623094DE3E1BF7A4',\n",
       " 'CDwindow-A21A58E43C4560A2D002A551073B7953',\n",
       " 'CDwindow-94302364AA26CAAC8A41588EB6C8F5A8']"
      ]
     },
     "execution_count": 18,
     "metadata": {},
     "output_type": "execute_result"
    }
   ],
   "source": [
    "driver.window_handles"
   ]
  },
  {
   "cell_type": "markdown",
   "id": "031ae7e2",
   "metadata": {},
   "source": [
    "#### Switch to Second Tab"
   ]
  },
  {
   "cell_type": "code",
   "execution_count": 19,
   "id": "675a4055",
   "metadata": {},
   "outputs": [],
   "source": [
    "driver.switch_to.window(driver.window_handles[1]) # driver pointing to second Tab"
   ]
  },
  {
   "cell_type": "markdown",
   "id": "264cb84d",
   "metadata": {},
   "source": [
    "#### Load another website to Second Tab"
   ]
  },
  {
   "cell_type": "code",
   "execution_count": 20,
   "id": "a7e79ccf",
   "metadata": {},
   "outputs": [],
   "source": [
    "driver.get(\"https://www.facebook.com/\") # Opening Facebook"
   ]
  },
  {
   "cell_type": "markdown",
   "id": "9f2cb95e",
   "metadata": {},
   "source": [
    "#### Switch to Third Tab"
   ]
  },
  {
   "cell_type": "code",
   "execution_count": 21,
   "id": "7ae590b6",
   "metadata": {},
   "outputs": [],
   "source": [
    "driver.switch_to.window(driver.window_handles[2]) # driver pointing to third Tab"
   ]
  },
  {
   "cell_type": "markdown",
   "id": "e801c0c9",
   "metadata": {},
   "source": [
    "#### Load another website to Third Tab"
   ]
  },
  {
   "cell_type": "code",
   "execution_count": 24,
   "id": "f7f5838e",
   "metadata": {},
   "outputs": [],
   "source": [
    "driver.get(\"https://en.wikipedia.org/wiki/Main_Page\") # Opening wikipedia"
   ]
  },
  {
   "cell_type": "markdown",
   "id": "fea6c40a",
   "metadata": {},
   "source": [
    "#### Close Second Tab"
   ]
  },
  {
   "cell_type": "code",
   "execution_count": 25,
   "id": "9e1748b5",
   "metadata": {},
   "outputs": [
    {
     "data": {
      "text/plain": [
       "['CDwindow-46667A3F8E12EE24623094DE3E1BF7A4',\n",
       " 'CDwindow-A21A58E43C4560A2D002A551073B7953',\n",
       " 'CDwindow-94302364AA26CAAC8A41588EB6C8F5A8']"
      ]
     },
     "execution_count": 25,
     "metadata": {},
     "output_type": "execute_result"
    }
   ],
   "source": [
    "driver.window_handles"
   ]
  },
  {
   "cell_type": "code",
   "execution_count": 26,
   "id": "22f27473",
   "metadata": {},
   "outputs": [],
   "source": [
    "driver.switch_to.window(driver.window_handles[1]) # point to second Tab\n",
    "driver.close() # Close Second Tab"
   ]
  },
  {
   "cell_type": "code",
   "execution_count": 27,
   "id": "82e7af1a",
   "metadata": {},
   "outputs": [
    {
     "data": {
      "text/plain": [
       "['CDwindow-46667A3F8E12EE24623094DE3E1BF7A4',\n",
       " 'CDwindow-94302364AA26CAAC8A41588EB6C8F5A8']"
      ]
     },
     "execution_count": 27,
     "metadata": {},
     "output_type": "execute_result"
    }
   ],
   "source": [
    "driver.window_handles # Now only 2 Tabs left. Third Tab become Second One"
   ]
  },
  {
   "cell_type": "markdown",
   "id": "8a11d4d7",
   "metadata": {},
   "source": [
    "#### Close Third Tab"
   ]
  },
  {
   "cell_type": "code",
   "execution_count": 28,
   "id": "c5783e53",
   "metadata": {},
   "outputs": [],
   "source": [
    "driver.switch_to.window(driver.window_handles[1]) # point to third Tab (actually become second one now)\n",
    "driver.close() # Close third Tab"
   ]
  },
  {
   "cell_type": "code",
   "execution_count": 29,
   "id": "0b89c86d",
   "metadata": {},
   "outputs": [
    {
     "data": {
      "text/plain": [
       "['CDwindow-46667A3F8E12EE24623094DE3E1BF7A4']"
      ]
     },
     "execution_count": 29,
     "metadata": {},
     "output_type": "execute_result"
    }
   ],
   "source": [
    "driver.window_handles # Now only 1 tab left"
   ]
  },
  {
   "cell_type": "markdown",
   "id": "4dd7a45c",
   "metadata": {},
   "source": [
    "#### Close First Tab"
   ]
  },
  {
   "cell_type": "code",
   "execution_count": 30,
   "id": "cb1b90ff",
   "metadata": {},
   "outputs": [],
   "source": [
    "driver.switch_to.window(driver.window_handles[0]) # point to first Tab\n",
    "driver.close() # Close first Tab. No Tab Left. Browser closed"
   ]
  },
  {
   "cell_type": "code",
   "execution_count": 31,
   "id": "4498bb02",
   "metadata": {},
   "outputs": [
    {
     "ename": "InvalidSessionIdException",
     "evalue": "Message: invalid session id\nStacktrace:\nBacktrace:\n\tOrdinal0 [0x008F7413+2389011]\n\tOrdinal0 [0x00889F61+1941345]\n\tOrdinal0 [0x0077C520+836896]\n\tOrdinal0 [0x0079DFC0+974784]\n\tOrdinal0 [0x007C4040+1130560]\n\tOrdinal0 [0x007C1E88+1121928]\n\tOrdinal0 [0x007C1A29+1120809]\n\tOrdinal0 [0x0075D207+709127]\n\tOrdinal0 [0x0075D783+710531]\n\tOrdinal0 [0x0075DBBA+711610]\n\tGetHandleVerifier [0x00AA9632+1727522]\n\tGetHandleVerifier [0x00B5BA4D+2457661]\n\tGetHandleVerifier [0x0098EB81+569713]\n\tGetHandleVerifier [0x0098DD76+566118]\n\tOrdinal0 [0x00890B2B+1968939]\n\tOrdinal0 [0x0075CF97+708503]\n\tOrdinal0 [0x0075CA48+707144]\n\tGetHandleVerifier [0x00B8110C+2610940]\n\tBaseThreadInitThunk [0x7664FA29+25]\n\tRtlGetAppContainerNamedObjectPath [0x77BE7A7E+286]\n\tRtlGetAppContainerNamedObjectPath [0x77BE7A4E+238]\n",
     "output_type": "error",
     "traceback": [
      "\u001b[1;31m---------------------------------------------------------------------------\u001b[0m",
      "\u001b[1;31mInvalidSessionIdException\u001b[0m                 Traceback (most recent call last)",
      "\u001b[1;32m~\\AppData\\Local\\Temp\\ipykernel_4548\\4250960690.py\u001b[0m in \u001b[0;36m<module>\u001b[1;34m\u001b[0m\n\u001b[1;32m----> 1\u001b[1;33m \u001b[0mdriver\u001b[0m\u001b[1;33m.\u001b[0m\u001b[0mwindow_handles\u001b[0m\u001b[1;33m\u001b[0m\u001b[1;33m\u001b[0m\u001b[0m\n\u001b[0m",
      "\u001b[1;32mc:\\users\\rahar\\appdata\\local\\programs\\python\\python37-32\\lib\\site-packages\\selenium\\webdriver\\remote\\webdriver.py\u001b[0m in \u001b[0;36mwindow_handles\u001b[1;34m(self)\u001b[0m\n\u001b[0;32m    975\u001b[0m                 \u001b[0mdriver\u001b[0m\u001b[1;33m.\u001b[0m\u001b[0mwindow_handles\u001b[0m\u001b[1;33m\u001b[0m\u001b[1;33m\u001b[0m\u001b[0m\n\u001b[0;32m    976\u001b[0m         \"\"\"\n\u001b[1;32m--> 977\u001b[1;33m         \u001b[1;32mreturn\u001b[0m \u001b[0mself\u001b[0m\u001b[1;33m.\u001b[0m\u001b[0mexecute\u001b[0m\u001b[1;33m(\u001b[0m\u001b[0mCommand\u001b[0m\u001b[1;33m.\u001b[0m\u001b[0mW3C_GET_WINDOW_HANDLES\u001b[0m\u001b[1;33m)\u001b[0m\u001b[1;33m[\u001b[0m\u001b[1;34m'value'\u001b[0m\u001b[1;33m]\u001b[0m\u001b[1;33m\u001b[0m\u001b[1;33m\u001b[0m\u001b[0m\n\u001b[0m\u001b[0;32m    978\u001b[0m \u001b[1;33m\u001b[0m\u001b[0m\n\u001b[0;32m    979\u001b[0m     \u001b[1;32mdef\u001b[0m \u001b[0mmaximize_window\u001b[0m\u001b[1;33m(\u001b[0m\u001b[0mself\u001b[0m\u001b[1;33m)\u001b[0m \u001b[1;33m->\u001b[0m \u001b[1;32mNone\u001b[0m\u001b[1;33m:\u001b[0m\u001b[1;33m\u001b[0m\u001b[1;33m\u001b[0m\u001b[0m\n",
      "\u001b[1;32mc:\\users\\rahar\\appdata\\local\\programs\\python\\python37-32\\lib\\site-packages\\selenium\\webdriver\\remote\\webdriver.py\u001b[0m in \u001b[0;36mexecute\u001b[1;34m(self, driver_command, params)\u001b[0m\n\u001b[0;32m    423\u001b[0m         \u001b[0mresponse\u001b[0m \u001b[1;33m=\u001b[0m \u001b[0mself\u001b[0m\u001b[1;33m.\u001b[0m\u001b[0mcommand_executor\u001b[0m\u001b[1;33m.\u001b[0m\u001b[0mexecute\u001b[0m\u001b[1;33m(\u001b[0m\u001b[0mdriver_command\u001b[0m\u001b[1;33m,\u001b[0m \u001b[0mparams\u001b[0m\u001b[1;33m)\u001b[0m\u001b[1;33m\u001b[0m\u001b[1;33m\u001b[0m\u001b[0m\n\u001b[0;32m    424\u001b[0m         \u001b[1;32mif\u001b[0m \u001b[0mresponse\u001b[0m\u001b[1;33m:\u001b[0m\u001b[1;33m\u001b[0m\u001b[1;33m\u001b[0m\u001b[0m\n\u001b[1;32m--> 425\u001b[1;33m             \u001b[0mself\u001b[0m\u001b[1;33m.\u001b[0m\u001b[0merror_handler\u001b[0m\u001b[1;33m.\u001b[0m\u001b[0mcheck_response\u001b[0m\u001b[1;33m(\u001b[0m\u001b[0mresponse\u001b[0m\u001b[1;33m)\u001b[0m\u001b[1;33m\u001b[0m\u001b[1;33m\u001b[0m\u001b[0m\n\u001b[0m\u001b[0;32m    426\u001b[0m             response['value'] = self._unwrap_value(\n\u001b[0;32m    427\u001b[0m                 response.get('value', None))\n",
      "\u001b[1;32mc:\\users\\rahar\\appdata\\local\\programs\\python\\python37-32\\lib\\site-packages\\selenium\\webdriver\\remote\\errorhandler.py\u001b[0m in \u001b[0;36mcheck_response\u001b[1;34m(self, response)\u001b[0m\n\u001b[0;32m    245\u001b[0m                 \u001b[0malert_text\u001b[0m \u001b[1;33m=\u001b[0m \u001b[0mvalue\u001b[0m\u001b[1;33m[\u001b[0m\u001b[1;34m'alert'\u001b[0m\u001b[1;33m]\u001b[0m\u001b[1;33m.\u001b[0m\u001b[0mget\u001b[0m\u001b[1;33m(\u001b[0m\u001b[1;34m'text'\u001b[0m\u001b[1;33m)\u001b[0m\u001b[1;33m\u001b[0m\u001b[1;33m\u001b[0m\u001b[0m\n\u001b[0;32m    246\u001b[0m             \u001b[1;32mraise\u001b[0m \u001b[0mexception_class\u001b[0m\u001b[1;33m(\u001b[0m\u001b[0mmessage\u001b[0m\u001b[1;33m,\u001b[0m \u001b[0mscreen\u001b[0m\u001b[1;33m,\u001b[0m \u001b[0mstacktrace\u001b[0m\u001b[1;33m,\u001b[0m \u001b[0malert_text\u001b[0m\u001b[1;33m)\u001b[0m  \u001b[1;31m# type: ignore[call-arg]  # mypy is not smart enough here\u001b[0m\u001b[1;33m\u001b[0m\u001b[1;33m\u001b[0m\u001b[0m\n\u001b[1;32m--> 247\u001b[1;33m         \u001b[1;32mraise\u001b[0m \u001b[0mexception_class\u001b[0m\u001b[1;33m(\u001b[0m\u001b[0mmessage\u001b[0m\u001b[1;33m,\u001b[0m \u001b[0mscreen\u001b[0m\u001b[1;33m,\u001b[0m \u001b[0mstacktrace\u001b[0m\u001b[1;33m)\u001b[0m\u001b[1;33m\u001b[0m\u001b[1;33m\u001b[0m\u001b[0m\n\u001b[0m\u001b[0;32m    248\u001b[0m \u001b[1;33m\u001b[0m\u001b[0m\n\u001b[0;32m    249\u001b[0m     \u001b[1;32mdef\u001b[0m \u001b[0m_value_or_default\u001b[0m\u001b[1;33m(\u001b[0m\u001b[0mself\u001b[0m\u001b[1;33m,\u001b[0m \u001b[0mobj\u001b[0m\u001b[1;33m:\u001b[0m \u001b[0mMapping\u001b[0m\u001b[1;33m[\u001b[0m\u001b[0m_KT\u001b[0m\u001b[1;33m,\u001b[0m \u001b[0m_VT\u001b[0m\u001b[1;33m]\u001b[0m\u001b[1;33m,\u001b[0m \u001b[0mkey\u001b[0m\u001b[1;33m:\u001b[0m \u001b[0m_KT\u001b[0m\u001b[1;33m,\u001b[0m \u001b[0mdefault\u001b[0m\u001b[1;33m:\u001b[0m \u001b[0m_VT\u001b[0m\u001b[1;33m)\u001b[0m \u001b[1;33m->\u001b[0m \u001b[0m_VT\u001b[0m\u001b[1;33m:\u001b[0m\u001b[1;33m\u001b[0m\u001b[1;33m\u001b[0m\u001b[0m\n",
      "\u001b[1;31mInvalidSessionIdException\u001b[0m: Message: invalid session id\nStacktrace:\nBacktrace:\n\tOrdinal0 [0x008F7413+2389011]\n\tOrdinal0 [0x00889F61+1941345]\n\tOrdinal0 [0x0077C520+836896]\n\tOrdinal0 [0x0079DFC0+974784]\n\tOrdinal0 [0x007C4040+1130560]\n\tOrdinal0 [0x007C1E88+1121928]\n\tOrdinal0 [0x007C1A29+1120809]\n\tOrdinal0 [0x0075D207+709127]\n\tOrdinal0 [0x0075D783+710531]\n\tOrdinal0 [0x0075DBBA+711610]\n\tGetHandleVerifier [0x00AA9632+1727522]\n\tGetHandleVerifier [0x00B5BA4D+2457661]\n\tGetHandleVerifier [0x0098EB81+569713]\n\tGetHandleVerifier [0x0098DD76+566118]\n\tOrdinal0 [0x00890B2B+1968939]\n\tOrdinal0 [0x0075CF97+708503]\n\tOrdinal0 [0x0075CA48+707144]\n\tGetHandleVerifier [0x00B8110C+2610940]\n\tBaseThreadInitThunk [0x7664FA29+25]\n\tRtlGetAppContainerNamedObjectPath [0x77BE7A7E+286]\n\tRtlGetAppContainerNamedObjectPath [0x77BE7A4E+238]\n"
     ]
    }
   ],
   "source": [
    "driver.window_handles # No longer this variable exist as browser closed"
   ]
  },
  {
   "cell_type": "markdown",
   "id": "3d798339",
   "metadata": {},
   "source": [
    "#### Close Driver"
   ]
  },
  {
   "cell_type": "code",
   "execution_count": 32,
   "id": "0c92d83c",
   "metadata": {},
   "outputs": [],
   "source": [
    "driver.quit()"
   ]
  }
 ],
 "metadata": {
  "kernelspec": {
   "display_name": "Python 3 (ipykernel)",
   "language": "python",
   "name": "python3"
  },
  "language_info": {
   "codemirror_mode": {
    "name": "ipython",
    "version": 3
   },
   "file_extension": ".py",
   "mimetype": "text/x-python",
   "name": "python",
   "nbconvert_exporter": "python",
   "pygments_lexer": "ipython3",
   "version": "3.7.4"
  }
 },
 "nbformat": 4,
 "nbformat_minor": 5
}
