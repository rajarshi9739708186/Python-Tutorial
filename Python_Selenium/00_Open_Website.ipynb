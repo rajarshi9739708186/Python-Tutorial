{
 "cells": [
  {
   "cell_type": "markdown",
   "id": "83e234ba",
   "metadata": {},
   "source": [
    "# Load a Website"
   ]
  },
  {
   "cell_type": "markdown",
   "id": "1f2ac11b",
   "metadata": {},
   "source": [
    "#### Package"
   ]
  },
  {
   "cell_type": "code",
   "execution_count": 3,
   "id": "2225fec4",
   "metadata": {},
   "outputs": [],
   "source": [
    "# pip install selenium\n",
    "from selenium import webdriver\n",
    "import json\n",
    "import os"
   ]
  },
  {
   "cell_type": "markdown",
   "id": "6dbf6d41",
   "metadata": {},
   "source": [
    "#### Selenium Settings"
   ]
  },
  {
   "cell_type": "code",
   "execution_count": 4,
   "id": "00d7f3d8",
   "metadata": {},
   "outputs": [],
   "source": [
    "op = webdriver.ChromeOptions()\n",
    "\n",
    "settings = {\n",
    "    \"recentDestinations\" : [{\n",
    "        \"id\" : \"Save as PDF\",\n",
    "        \"origin\" : \"local\",\n",
    "        \"account\" : \"\",    \n",
    "    }],\n",
    "    \"selectedDestinationId\" : \"Save as PDF\",\n",
    "    \"version\" : 2,\n",
    "    \"isCssBackgroundEnabled\" : True\n",
    "}\n",
    "\n",
    "# Provide Locatiopn where file will be downloaded\n",
    "Base_Folder = os.getcwd()\n",
    "\n",
    "p = {\"download.default_directory\" : Base_Folder,\n",
    "    \"printing.print_preview_sticky_settings.appState\" : json.dumps(settings),\n",
    "    \"savefile.default_directory\" : Base_Folder,\n",
    "    \"safebrowsing.enabled\" : \"false\"}\n",
    "\n",
    "op.add_experimental_option(\"prefs\", p)\n",
    "op.add_argument('--kiosk-printing')"
   ]
  },
  {
   "cell_type": "markdown",
   "id": "87762704",
   "metadata": {},
   "source": [
    "#### Chromedriver downloaded and placed in C:\\chromedriver_win32"
   ]
  },
  {
   "cell_type": "code",
   "execution_count": 5,
   "id": "3057ff00",
   "metadata": {},
   "outputs": [
    {
     "name": "stderr",
     "output_type": "stream",
     "text": [
      "c:\\users\\rahar\\appdata\\local\\programs\\python\\python37-32\\lib\\site-packages\\ipykernel_launcher.py:4: DeprecationWarning: executable_path has been deprecated, please pass in a Service object\n",
      "  after removing the cwd from sys.path.\n"
     ]
    }
   ],
   "source": [
    "Chromedriver_Location = \"C:\\chromedriver_win32\\chromedriver.exe\"\n",
    "\n",
    "# Enable Chromedriver\n",
    "driver = webdriver.Chrome(Chromedriver_Location, options=op)"
   ]
  },
  {
   "cell_type": "markdown",
   "id": "7bd4c2e9",
   "metadata": {},
   "source": [
    "#### Load a Website"
   ]
  },
  {
   "cell_type": "code",
   "execution_count": 6,
   "id": "6759a820",
   "metadata": {},
   "outputs": [],
   "source": [
    "driver.get(\"https://www.google.com/\") # Opening Google"
   ]
  },
  {
   "cell_type": "markdown",
   "id": "7d497802",
   "metadata": {},
   "source": [
    "#### Close Browser"
   ]
  },
  {
   "cell_type": "code",
   "execution_count": 7,
   "id": "0c92d83c",
   "metadata": {},
   "outputs": [],
   "source": [
    "driver.close()\n",
    "driver.quit()"
   ]
  }
 ],
 "metadata": {
  "kernelspec": {
   "display_name": "Python 3 (ipykernel)",
   "language": "python",
   "name": "python3"
  },
  "language_info": {
   "codemirror_mode": {
    "name": "ipython",
    "version": 3
   },
   "file_extension": ".py",
   "mimetype": "text/x-python",
   "name": "python",
   "nbconvert_exporter": "python",
   "pygments_lexer": "ipython3",
   "version": "3.7.4"
  }
 },
 "nbformat": 4,
 "nbformat_minor": 5
}
