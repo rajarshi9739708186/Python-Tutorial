{
 "cells": [
  {
   "cell_type": "markdown",
   "id": "14fa6e10",
   "metadata": {},
   "source": [
    "#### Convert .pdf file into .docx"
   ]
  },
  {
   "cell_type": "markdown",
   "id": "930dc9ef",
   "metadata": {},
   "source": [
    "Package"
   ]
  },
  {
   "cell_type": "code",
   "execution_count": 8,
   "id": "ac2ca476",
   "metadata": {},
   "outputs": [],
   "source": [
    "# pip install pywin32\n",
    "import win32com.client"
   ]
  },
  {
   "cell_type": "code",
   "execution_count": 9,
   "id": "f1cfb0ed",
   "metadata": {},
   "outputs": [],
   "source": [
    "PDF_File = \"D:\\\\Study_Material\\\\Python\\\\Python_Miscellaneous\\\\Sample_For_PDF_to_DOCX_Conversion.pdf\"\n",
    "DOCX_File = \"D:\\\\Study_Material\\\\Python\\\\Python_Miscellaneous\\\\Sample_For_PDF_to_DOCX_Conversion.docx\""
   ]
  },
  {
   "cell_type": "code",
   "execution_count": 10,
   "id": "72cccf71",
   "metadata": {},
   "outputs": [],
   "source": [
    "MSWord_Application_object = win32com.client.Dispatch('Word.Application') # Create Word Application Object\n",
    "MSWord_Application_object.visible = 0"
   ]
  },
  {
   "cell_type": "code",
   "execution_count": null,
   "id": "2bf6dc1e",
   "metadata": {},
   "outputs": [],
   "source": [
    "PDF_obj = MSWord_Application_object.Documents.Open(PDF_File) # Open .pdf file"
   ]
  },
  {
   "cell_type": "code",
   "execution_count": null,
   "id": "363053dd",
   "metadata": {},
   "outputs": [],
   "source": [
    "PDF_obj.SaveAs(DOCX_File, FileFormat=16)"
   ]
  },
  {
   "cell_type": "code",
   "execution_count": null,
   "id": "e6ee47a3",
   "metadata": {},
   "outputs": [],
   "source": [
    "# Destroy MS applications\n",
    "PDF_obj.Close()\n",
    "MSWord_Application_object.Quit()"
   ]
  },
  {
   "cell_type": "code",
   "execution_count": null,
   "id": "6b98aac8",
   "metadata": {},
   "outputs": [],
   "source": [
    "import os\n",
    "os.unlink(DOCX_File)"
   ]
  }
 ],
 "metadata": {
  "kernelspec": {
   "display_name": "Python 3 (ipykernel)",
   "language": "python",
   "name": "python3"
  },
  "language_info": {
   "codemirror_mode": {
    "name": "ipython",
    "version": 3
   },
   "file_extension": ".py",
   "mimetype": "text/x-python",
   "name": "python",
   "nbconvert_exporter": "python",
   "pygments_lexer": "ipython3",
   "version": "3.7.4"
  }
 },
 "nbformat": 4,
 "nbformat_minor": 5
}
