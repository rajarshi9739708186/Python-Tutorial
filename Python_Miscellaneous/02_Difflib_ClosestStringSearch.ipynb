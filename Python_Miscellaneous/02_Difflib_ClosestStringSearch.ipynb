{
 "cells": [
  {
   "cell_type": "markdown",
   "id": "5d1285ac",
   "metadata": {},
   "source": [
    "# Closest String Value Matched"
   ]
  },
  {
   "cell_type": "code",
   "execution_count": 1,
   "id": "952a6857",
   "metadata": {},
   "outputs": [],
   "source": [
    "DB_List = [\"abc\", \"rain\", \"def\", \"drain\", \"ghi\", \"train\", \"xyz\"]"
   ]
  },
  {
   "cell_type": "markdown",
   "id": "199bcecf",
   "metadata": {},
   "source": [
    "#### User wrongly tried to search \"rainn\""
   ]
  },
  {
   "cell_type": "code",
   "execution_count": 2,
   "id": "cfb0b5d7",
   "metadata": {},
   "outputs": [],
   "source": [
    "user_input = \"rainn\""
   ]
  },
  {
   "cell_type": "code",
   "execution_count": 3,
   "id": "91bd7d90",
   "metadata": {},
   "outputs": [
    {
     "data": {
      "text/plain": [
       "False"
      ]
     },
     "execution_count": 3,
     "metadata": {},
     "output_type": "execute_result"
    }
   ],
   "source": [
    "user_input in DB_List"
   ]
  },
  {
   "cell_type": "markdown",
   "id": "a99c6537",
   "metadata": {},
   "source": [
    "Package"
   ]
  },
  {
   "cell_type": "code",
   "execution_count": 4,
   "id": "3f66b8cf",
   "metadata": {},
   "outputs": [],
   "source": [
    "from difflib import get_close_matches"
   ]
  },
  {
   "cell_type": "markdown",
   "id": "391fa35c",
   "metadata": {},
   "source": [
    "Function : get_close_matches(user_input, DB_List)"
   ]
  },
  {
   "cell_type": "markdown",
   "id": "a1cf196e",
   "metadata": {},
   "source": [
    "user_input will be compared with every value of DB_List<br>Based on comparison it will generate a cut-off for every comparison in between 0 to 1<br>This cut-off determines which is the nearby predictable String<br>Value will be suggested based on those cut-off "
   ]
  },
  {
   "cell_type": "code",
   "execution_count": 5,
   "id": "6cc6fba6",
   "metadata": {},
   "outputs": [
    {
     "data": {
      "text/plain": [
       "['rain', 'train', 'drain']"
      ]
     },
     "execution_count": 5,
     "metadata": {},
     "output_type": "execute_result"
    }
   ],
   "source": [
    "# Default cut off is 0.6\n",
    "# Default suggestion will be returned 3\n",
    "get_close_matches(user_input, DB_List)"
   ]
  },
  {
   "cell_type": "code",
   "execution_count": 6,
   "id": "8da3a942",
   "metadata": {},
   "outputs": [
    {
     "data": {
      "text/plain": [
       "['rain', 'train', 'drain']"
      ]
     },
     "execution_count": 6,
     "metadata": {},
     "output_type": "execute_result"
    }
   ],
   "source": [
    "# 5 suggestion will be returned if found\n",
    "# Cut-off set as 0.8\n",
    "# 3 Suggestion found\n",
    "get_close_matches(user_input, DB_List, n=5, cutoff=0.8)"
   ]
  },
  {
   "cell_type": "code",
   "execution_count": 8,
   "id": "81ac1c56",
   "metadata": {},
   "outputs": [
    {
     "data": {
      "text/plain": [
       "['rain']"
      ]
     },
     "execution_count": 8,
     "metadata": {},
     "output_type": "execute_result"
    }
   ],
   "source": [
    "# Cut-off set as 0.85\n",
    "# Only 1 Suggestion found\n",
    "get_close_matches(user_input, DB_List, n=5, cutoff=0.85)"
   ]
  }
 ],
 "metadata": {
  "kernelspec": {
   "display_name": "Python 3 (ipykernel)",
   "language": "python",
   "name": "python3"
  },
  "language_info": {
   "codemirror_mode": {
    "name": "ipython",
    "version": 3
   },
   "file_extension": ".py",
   "mimetype": "text/x-python",
   "name": "python",
   "nbconvert_exporter": "python",
   "pygments_lexer": "ipython3",
   "version": "3.7.4"
  }
 },
 "nbformat": 4,
 "nbformat_minor": 5
}
