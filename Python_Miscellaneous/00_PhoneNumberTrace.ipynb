{
 "cells": [
  {
   "cell_type": "markdown",
   "id": "0c5baa92",
   "metadata": {},
   "source": [
    "#### Package"
   ]
  },
  {
   "cell_type": "code",
   "execution_count": 1,
   "id": "f08ddfb5",
   "metadata": {},
   "outputs": [],
   "source": [
    "# pip install phonenumbers\n",
    "import phonenumbers\n",
    "from phonenumbers import geocoder, carrier, timezone"
   ]
  },
  {
   "cell_type": "markdown",
   "id": "5b04f01a",
   "metadata": {},
   "source": [
    "Phone number must have to start with Country Code<br>Example : 9739708186"
   ]
  },
  {
   "cell_type": "markdown",
   "id": "b14ca8ed",
   "metadata": {},
   "source": [
    "#### First need to Parse Phone Number"
   ]
  },
  {
   "cell_type": "code",
   "execution_count": 2,
   "id": "d4c5d5b6",
   "metadata": {},
   "outputs": [],
   "source": [
    "PhoneNumber = \"+919739708186\" # Correct Input\n",
    "PhoneNumber = phonenumbers.parse(PhoneNumber)"
   ]
  },
  {
   "cell_type": "code",
   "execution_count": 3,
   "id": "6aa43302",
   "metadata": {},
   "outputs": [
    {
     "data": {
      "text/plain": [
       "PhoneNumber(country_code=91, national_number=9739708186, extension=None, italian_leading_zero=None, number_of_leading_zeros=None, country_code_source=0, preferred_domestic_carrier_code=None)"
      ]
     },
     "execution_count": 3,
     "metadata": {},
     "output_type": "execute_result"
    }
   ],
   "source": [
    "PhoneNumber"
   ]
  },
  {
   "cell_type": "code",
   "execution_count": 4,
   "id": "fd76840f",
   "metadata": {},
   "outputs": [
    {
     "ename": "NumberParseException",
     "evalue": "(0) Missing or invalid default region.",
     "output_type": "error",
     "traceback": [
      "\u001b[1;31m---------------------------------------------------------------------------\u001b[0m",
      "\u001b[1;31mNumberParseException\u001b[0m                      Traceback (most recent call last)",
      "\u001b[1;32m~\\AppData\\Local\\Temp\\ipykernel_9916\\2072940982.py\u001b[0m in \u001b[0;36m<module>\u001b[1;34m\u001b[0m\n\u001b[0;32m      1\u001b[0m \u001b[0mWrong_PhoneNumber\u001b[0m \u001b[1;33m=\u001b[0m \u001b[1;34m\"9739708186\"\u001b[0m \u001b[1;31m# Not Correct Input\u001b[0m\u001b[1;33m\u001b[0m\u001b[1;33m\u001b[0m\u001b[0m\n\u001b[1;32m----> 2\u001b[1;33m \u001b[0mWrong_PhoneNumber\u001b[0m \u001b[1;33m=\u001b[0m \u001b[0mphonenumbers\u001b[0m\u001b[1;33m.\u001b[0m\u001b[0mparse\u001b[0m\u001b[1;33m(\u001b[0m\u001b[0mWrong_PhoneNumber\u001b[0m\u001b[1;33m)\u001b[0m\u001b[1;33m\u001b[0m\u001b[1;33m\u001b[0m\u001b[0m\n\u001b[0m",
      "\u001b[1;32mc:\\users\\rahar\\appdata\\local\\programs\\python\\python37-32\\lib\\site-packages\\phonenumbers\\phonenumberutil.py\u001b[0m in \u001b[0;36mparse\u001b[1;34m(number, region, keep_raw_input, numobj, _check_region)\u001b[0m\n\u001b[0;32m   2931\u001b[0m     \u001b[1;32mif\u001b[0m \u001b[0m_check_region\u001b[0m \u001b[1;32mand\u001b[0m \u001b[1;32mnot\u001b[0m \u001b[0m_check_region_for_parsing\u001b[0m\u001b[1;33m(\u001b[0m\u001b[0mnational_number\u001b[0m\u001b[1;33m,\u001b[0m \u001b[0mregion\u001b[0m\u001b[1;33m)\u001b[0m\u001b[1;33m:\u001b[0m\u001b[1;33m\u001b[0m\u001b[1;33m\u001b[0m\u001b[0m\n\u001b[0;32m   2932\u001b[0m         raise NumberParseException(NumberParseException.INVALID_COUNTRY_CODE,\n\u001b[1;32m-> 2933\u001b[1;33m                                    \"Missing or invalid default region.\")\n\u001b[0m\u001b[0;32m   2934\u001b[0m     \u001b[1;32mif\u001b[0m \u001b[0mkeep_raw_input\u001b[0m\u001b[1;33m:\u001b[0m\u001b[1;33m\u001b[0m\u001b[1;33m\u001b[0m\u001b[0m\n\u001b[0;32m   2935\u001b[0m         \u001b[0mnumobj\u001b[0m\u001b[1;33m.\u001b[0m\u001b[0mraw_input\u001b[0m \u001b[1;33m=\u001b[0m \u001b[0mnumber\u001b[0m\u001b[1;33m\u001b[0m\u001b[1;33m\u001b[0m\u001b[0m\n",
      "\u001b[1;31mNumberParseException\u001b[0m: (0) Missing or invalid default region."
     ]
    }
   ],
   "source": [
    "Wrong_PhoneNumber = \"9739708186\" # Not Correct Input\n",
    "Wrong_PhoneNumber = phonenumbers.parse(Wrong_PhoneNumber)"
   ]
  },
  {
   "cell_type": "markdown",
   "id": "332ffd58",
   "metadata": {},
   "source": [
    "#### Check if Phone Number is valid"
   ]
  },
  {
   "cell_type": "code",
   "execution_count": 5,
   "id": "917a44f0",
   "metadata": {},
   "outputs": [
    {
     "data": {
      "text/plain": [
       "PhoneNumber(country_code=91, national_number=9739708186, extension=None, italian_leading_zero=None, number_of_leading_zeros=None, country_code_source=0, preferred_domestic_carrier_code=None)"
      ]
     },
     "execution_count": 5,
     "metadata": {},
     "output_type": "execute_result"
    }
   ],
   "source": [
    "PhoneNumber"
   ]
  },
  {
   "cell_type": "markdown",
   "id": "17811b3f",
   "metadata": {},
   "source": [
    "Phone Number will be displayed as valid if 'national_number' contains 10 digit irrespective of it exist or not"
   ]
  },
  {
   "cell_type": "code",
   "execution_count": 6,
   "id": "24561c41",
   "metadata": {},
   "outputs": [
    {
     "data": {
      "text/plain": [
       "True"
      ]
     },
     "execution_count": 6,
     "metadata": {},
     "output_type": "execute_result"
    }
   ],
   "source": [
    "phonenumbers.is_valid_number(PhoneNumber)"
   ]
  },
  {
   "cell_type": "code",
   "execution_count": 7,
   "id": "9b7ebfca",
   "metadata": {},
   "outputs": [],
   "source": [
    "AnotherPhoneNumber = \"+911234567890\" # Correct Input\n",
    "AnotherPhoneNumber = phonenumbers.parse(AnotherPhoneNumber)"
   ]
  },
  {
   "cell_type": "code",
   "execution_count": 8,
   "id": "e430f733",
   "metadata": {},
   "outputs": [
    {
     "data": {
      "text/plain": [
       "PhoneNumber(country_code=91, national_number=1234567890, extension=None, italian_leading_zero=None, number_of_leading_zeros=None, country_code_source=0, preferred_domestic_carrier_code=None)"
      ]
     },
     "execution_count": 8,
     "metadata": {},
     "output_type": "execute_result"
    }
   ],
   "source": [
    "AnotherPhoneNumber"
   ]
  },
  {
   "cell_type": "code",
   "execution_count": 9,
   "id": "46f1daec",
   "metadata": {},
   "outputs": [
    {
     "data": {
      "text/plain": [
       "True"
      ]
     },
     "execution_count": 9,
     "metadata": {},
     "output_type": "execute_result"
    }
   ],
   "source": [
    "phonenumbers.is_valid_number(AnotherPhoneNumber)"
   ]
  },
  {
   "cell_type": "markdown",
   "id": "adad715f",
   "metadata": {},
   "source": [
    "#### Phone Operator"
   ]
  },
  {
   "cell_type": "code",
   "execution_count": 10,
   "id": "2459b7c7",
   "metadata": {},
   "outputs": [
    {
     "data": {
      "text/plain": [
       "'Vodafone'"
      ]
     },
     "execution_count": 10,
     "metadata": {},
     "output_type": "execute_result"
    }
   ],
   "source": [
    "carrier.name_for_number(PhoneNumber, \"en\")"
   ]
  },
  {
   "cell_type": "code",
   "execution_count": 11,
   "id": "51f69992",
   "metadata": {},
   "outputs": [
    {
     "data": {
      "text/plain": [
       "''"
      ]
     },
     "execution_count": 11,
     "metadata": {},
     "output_type": "execute_result"
    }
   ],
   "source": [
    "carrier.name_for_number(AnotherPhoneNumber, \"en\")"
   ]
  },
  {
   "cell_type": "markdown",
   "id": "2a381dda",
   "metadata": {},
   "source": [
    "#### Phone Region"
   ]
  },
  {
   "cell_type": "code",
   "execution_count": 12,
   "id": "0942a53e",
   "metadata": {},
   "outputs": [
    {
     "data": {
      "text/plain": [
       "'India'"
      ]
     },
     "execution_count": 12,
     "metadata": {},
     "output_type": "execute_result"
    }
   ],
   "source": [
    "geocoder.description_for_number(PhoneNumber, \"en\")"
   ]
  },
  {
   "cell_type": "code",
   "execution_count": 13,
   "id": "c4ebf846",
   "metadata": {},
   "outputs": [
    {
     "data": {
      "text/plain": [
       "'Baghpat/Baraut, Uttar Pradesh'"
      ]
     },
     "execution_count": 13,
     "metadata": {},
     "output_type": "execute_result"
    }
   ],
   "source": [
    "geocoder.description_for_number(AnotherPhoneNumber, \"en\")"
   ]
  },
  {
   "cell_type": "markdown",
   "id": "1c5a9f29",
   "metadata": {},
   "source": [
    "#### Phone Time Zone"
   ]
  },
  {
   "cell_type": "code",
   "execution_count": 14,
   "id": "fc6dbcfc",
   "metadata": {},
   "outputs": [
    {
     "data": {
      "text/plain": [
       "('Asia/Calcutta',)"
      ]
     },
     "execution_count": 14,
     "metadata": {},
     "output_type": "execute_result"
    }
   ],
   "source": [
    "timezone.time_zones_for_number(PhoneNumber)"
   ]
  },
  {
   "cell_type": "code",
   "execution_count": 15,
   "id": "9d3984f5",
   "metadata": {},
   "outputs": [
    {
     "data": {
      "text/plain": [
       "('Asia/Calcutta',)"
      ]
     },
     "execution_count": 15,
     "metadata": {},
     "output_type": "execute_result"
    }
   ],
   "source": [
    "timezone.time_zones_for_number(AnotherPhoneNumber)"
   ]
  }
 ],
 "metadata": {
  "kernelspec": {
   "display_name": "Python 3 (ipykernel)",
   "language": "python",
   "name": "python3"
  },
  "language_info": {
   "codemirror_mode": {
    "name": "ipython",
    "version": 3
   },
   "file_extension": ".py",
   "mimetype": "text/x-python",
   "name": "python",
   "nbconvert_exporter": "python",
   "pygments_lexer": "ipython3",
   "version": "3.7.4"
  }
 },
 "nbformat": 4,
 "nbformat_minor": 5
}
