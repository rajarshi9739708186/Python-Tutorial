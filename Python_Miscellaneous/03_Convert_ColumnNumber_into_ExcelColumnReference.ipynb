{
 "cells": [
  {
   "cell_type": "markdown",
   "id": "8a1bd4f4",
   "metadata": {},
   "source": [
    "#### Convert a Column Number into Column reference as per Excel"
   ]
  },
  {
   "cell_type": "code",
   "execution_count": 1,
   "id": "1ab57805",
   "metadata": {},
   "outputs": [],
   "source": [
    "def convert_into_ExcelColumnReference(column_number):\n",
    "    col_ref = \"\"\n",
    "    \n",
    "    while column_number>0:\n",
    "        column_number, remainder = divmod(column_number-1, 26)\n",
    "        col_ref = chr(65+remainder) + col_ref\n",
    "        \n",
    "    return col_ref"
   ]
  },
  {
   "cell_type": "code",
   "execution_count": 2,
   "id": "1a0dfae9",
   "metadata": {},
   "outputs": [
    {
     "data": {
      "text/plain": [
       "'B'"
      ]
     },
     "execution_count": 2,
     "metadata": {},
     "output_type": "execute_result"
    }
   ],
   "source": [
    "convert_into_ExcelColumnReference(2)"
   ]
  },
  {
   "cell_type": "code",
   "execution_count": 3,
   "id": "e8a095ba",
   "metadata": {},
   "outputs": [
    {
     "data": {
      "text/plain": [
       "'Z'"
      ]
     },
     "execution_count": 3,
     "metadata": {},
     "output_type": "execute_result"
    }
   ],
   "source": [
    "convert_into_ExcelColumnReference(26)"
   ]
  },
  {
   "cell_type": "code",
   "execution_count": 4,
   "id": "f05a27c2",
   "metadata": {},
   "outputs": [
    {
     "data": {
      "text/plain": [
       "'AB'"
      ]
     },
     "execution_count": 4,
     "metadata": {},
     "output_type": "execute_result"
    }
   ],
   "source": [
    "convert_into_ExcelColumnReference(28)"
   ]
  },
  {
   "cell_type": "code",
   "execution_count": 5,
   "id": "c0735be9",
   "metadata": {},
   "outputs": [
    {
     "data": {
      "text/plain": [
       "'AZ'"
      ]
     },
     "execution_count": 5,
     "metadata": {},
     "output_type": "execute_result"
    }
   ],
   "source": [
    "convert_into_ExcelColumnReference(52)"
   ]
  },
  {
   "cell_type": "code",
   "execution_count": 6,
   "id": "b04c98f2",
   "metadata": {},
   "outputs": [
    {
     "data": {
      "text/plain": [
       "'BA'"
      ]
     },
     "execution_count": 6,
     "metadata": {},
     "output_type": "execute_result"
    }
   ],
   "source": [
    "convert_into_ExcelColumnReference(53)"
   ]
  }
 ],
 "metadata": {
  "kernelspec": {
   "display_name": "Python 3 (ipykernel)",
   "language": "python",
   "name": "python3"
  },
  "language_info": {
   "codemirror_mode": {
    "name": "ipython",
    "version": 3
   },
   "file_extension": ".py",
   "mimetype": "text/x-python",
   "name": "python",
   "nbconvert_exporter": "python",
   "pygments_lexer": "ipython3",
   "version": "3.7.4"
  }
 },
 "nbformat": 4,
 "nbformat_minor": 5
}
