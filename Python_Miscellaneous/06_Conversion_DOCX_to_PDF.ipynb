{
 "cells": [
  {
   "cell_type": "markdown",
   "id": "b84d4e95",
   "metadata": {},
   "source": [
    "#### Convert .docx file into .pdf"
   ]
  },
  {
   "cell_type": "markdown",
   "id": "dabcad2c",
   "metadata": {},
   "source": [
    "Package"
   ]
  },
  {
   "cell_type": "code",
   "execution_count": 4,
   "id": "734a5cfc",
   "metadata": {},
   "outputs": [],
   "source": [
    "# pip install comtypes\n",
    "import comtypes.client"
   ]
  },
  {
   "cell_type": "code",
   "execution_count": 16,
   "id": "41cba0c6",
   "metadata": {},
   "outputs": [],
   "source": [
    "DOCX_File = \"D:\\\\Study_Material\\\\Python\\\\Python_Miscellaneous\\\\Sample_For_DOCX_to_PDF_Conversion.docx\"\n",
    "PDF_File = \"D:\\\\Study_Material\\\\Python\\\\Python_Miscellaneous\\\\Sample_For_DOCX_to_PDF_Conversion.pdf\""
   ]
  },
  {
   "cell_type": "code",
   "execution_count": 17,
   "id": "eb5a0126",
   "metadata": {},
   "outputs": [],
   "source": [
    "MSWord_Application_object = comtypes.client.CreateObject('Word.Application') # Create Word Application Object"
   ]
  },
  {
   "cell_type": "code",
   "execution_count": 18,
   "id": "0beb1f8d",
   "metadata": {},
   "outputs": [],
   "source": [
    "DOC_obj = MSWord_Application_object.Documents.Open(DOCX_File) # Open .doc file"
   ]
  },
  {
   "cell_type": "code",
   "execution_count": 19,
   "id": "afb36da5",
   "metadata": {},
   "outputs": [
    {
     "data": {
      "text/plain": [
       "0"
      ]
     },
     "execution_count": 19,
     "metadata": {},
     "output_type": "execute_result"
    }
   ],
   "source": [
    "#Save as .pdf file\n",
    "# Conversion code : 17\n",
    "DOC_obj.SaveAs(PDF_File, FileFormat=17)"
   ]
  },
  {
   "cell_type": "code",
   "execution_count": 20,
   "id": "65126939",
   "metadata": {},
   "outputs": [
    {
     "data": {
      "text/plain": [
       "0"
      ]
     },
     "execution_count": 20,
     "metadata": {},
     "output_type": "execute_result"
    }
   ],
   "source": [
    "# Destroy MS applications\n",
    "DOC_obj.Close()\n",
    "MSWord_Application_object.Quit()"
   ]
  },
  {
   "cell_type": "code",
   "execution_count": 15,
   "id": "6625ab82",
   "metadata": {},
   "outputs": [],
   "source": [
    "import os\n",
    "os.unlink(PDF_File)"
   ]
  }
 ],
 "metadata": {
  "kernelspec": {
   "display_name": "Python 3 (ipykernel)",
   "language": "python",
   "name": "python3"
  },
  "language_info": {
   "codemirror_mode": {
    "name": "ipython",
    "version": 3
   },
   "file_extension": ".py",
   "mimetype": "text/x-python",
   "name": "python",
   "nbconvert_exporter": "python",
   "pygments_lexer": "ipython3",
   "version": "3.7.4"
  }
 },
 "nbformat": 4,
 "nbformat_minor": 5
}
