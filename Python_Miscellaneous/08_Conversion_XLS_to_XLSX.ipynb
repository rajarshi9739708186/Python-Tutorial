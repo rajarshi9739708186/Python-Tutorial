{
 "cells": [
  {
   "cell_type": "markdown",
   "id": "90d494e6",
   "metadata": {},
   "source": [
    "#### Convert .xls file into .xlsx"
   ]
  },
  {
   "cell_type": "markdown",
   "id": "95f19b54",
   "metadata": {},
   "source": [
    "Package"
   ]
  },
  {
   "cell_type": "code",
   "execution_count": 1,
   "id": "87e72596",
   "metadata": {},
   "outputs": [],
   "source": [
    "# pip install pywin32\n",
    "import win32com.client"
   ]
  },
  {
   "cell_type": "code",
   "execution_count": 2,
   "id": "49b12f70",
   "metadata": {},
   "outputs": [],
   "source": [
    "XLS_File = \"D:\\\\Study_Material\\\\Python\\\\Python_Miscellaneous\\\\Sample_For_XLS_to_XLSX_Conversion.xls\"\n",
    "XLSX_File = \"D:\\\\Study_Material\\\\Python\\\\Python_Miscellaneous\\\\Sample_For_XLS_to_XLSX_Conversion.xlsx\""
   ]
  },
  {
   "cell_type": "code",
   "execution_count": 4,
   "id": "554cc9fa",
   "metadata": {},
   "outputs": [],
   "source": [
    "Excel_obj = win32com.client.DispatchEx(\"Excel.Application\") # Create Excel Application Object\n",
    "Excel_obj.visible = 0"
   ]
  },
  {
   "cell_type": "code",
   "execution_count": 5,
   "id": "08e52fc1",
   "metadata": {},
   "outputs": [],
   "source": [
    "XLS_Obj = Excel_obj.Workbooks.Open(XLS_File) # Open .xls file"
   ]
  },
  {
   "cell_type": "code",
   "execution_count": 7,
   "id": "c405b33c",
   "metadata": {},
   "outputs": [],
   "source": [
    "#Save as .xlsx file\n",
    "# Conversion code : 51\n",
    "XLS_Obj.SaveAs(XLSX_File, FileFormat=51)"
   ]
  },
  {
   "cell_type": "code",
   "execution_count": 8,
   "id": "ecee833f",
   "metadata": {},
   "outputs": [],
   "source": [
    "# Destroy Excel applications\n",
    "XLS_Obj.Close()\n",
    "Excel_obj.Application.Quit()"
   ]
  },
  {
   "cell_type": "code",
   "execution_count": 9,
   "id": "3ee654bf",
   "metadata": {},
   "outputs": [],
   "source": [
    "import os\n",
    "os.unlink(XLSX_File)"
   ]
  }
 ],
 "metadata": {
  "kernelspec": {
   "display_name": "Python 3 (ipykernel)",
   "language": "python",
   "name": "python3"
  },
  "language_info": {
   "codemirror_mode": {
    "name": "ipython",
    "version": 3
   },
   "file_extension": ".py",
   "mimetype": "text/x-python",
   "name": "python",
   "nbconvert_exporter": "python",
   "pygments_lexer": "ipython3",
   "version": "3.7.4"
  }
 },
 "nbformat": 4,
 "nbformat_minor": 5
}
