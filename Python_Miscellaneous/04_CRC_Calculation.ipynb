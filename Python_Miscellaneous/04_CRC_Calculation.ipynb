{
 "cells": [
  {
   "cell_type": "markdown",
   "id": "7fdfc0e6",
   "metadata": {},
   "source": [
    "#### Calculate CRC for a file in 32 bit system"
   ]
  },
  {
   "cell_type": "markdown",
   "id": "cbb8b48c",
   "metadata": {},
   "source": [
    "package"
   ]
  },
  {
   "cell_type": "code",
   "execution_count": 1,
   "id": "70f57057",
   "metadata": {},
   "outputs": [],
   "source": [
    "import binascii"
   ]
  },
  {
   "cell_type": "code",
   "execution_count": 2,
   "id": "61e67ebe",
   "metadata": {},
   "outputs": [],
   "source": [
    "def CRC(filename):\n",
    "    buffer = open(filename, 'rb').read()\n",
    "    buffer = (binascii.crc32(buffer) & 0xFFFFFFFF)\n",
    "    \n",
    "    return \"%08X\" % buffer"
   ]
  },
  {
   "cell_type": "code",
   "execution_count": 3,
   "id": "d5d5e562",
   "metadata": {},
   "outputs": [
    {
     "data": {
      "text/plain": [
       "'4F9E0C12'"
      ]
     },
     "execution_count": 3,
     "metadata": {},
     "output_type": "execute_result"
    }
   ],
   "source": [
    "CRC(\"00_PhoneNumberTrace.ipynb\")"
   ]
  }
 ],
 "metadata": {
  "kernelspec": {
   "display_name": "Python 3 (ipykernel)",
   "language": "python",
   "name": "python3"
  },
  "language_info": {
   "codemirror_mode": {
    "name": "ipython",
    "version": 3
   },
   "file_extension": ".py",
   "mimetype": "text/x-python",
   "name": "python",
   "nbconvert_exporter": "python",
   "pygments_lexer": "ipython3",
   "version": "3.7.4"
  }
 },
 "nbformat": 4,
 "nbformat_minor": 5
}
