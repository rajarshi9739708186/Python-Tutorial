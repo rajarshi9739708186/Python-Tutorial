{
 "cells": [
  {
   "cell_type": "markdown",
   "id": "8213e733",
   "metadata": {},
   "source": [
    "#### Convert .pptx into .pdf"
   ]
  },
  {
   "cell_type": "markdown",
   "id": "0ff9b74c",
   "metadata": {},
   "source": [
    "Package"
   ]
  },
  {
   "cell_type": "code",
   "execution_count": 20,
   "id": "6f8e32df",
   "metadata": {},
   "outputs": [],
   "source": [
    "# pip install comtypes\n",
    "import comtypes.client"
   ]
  },
  {
   "cell_type": "code",
   "execution_count": 21,
   "id": "27c3f177",
   "metadata": {},
   "outputs": [],
   "source": [
    "PPTX_File = \"D:\\\\Study_Material\\\\Python\\\\Python_Miscellaneous\\\\Sample_For_PPT_to_DOCX_Conversion.pptx\"\n",
    "PDF_File = \"D:\\\\Study_Material\\\\Python\\\\Python_Miscellaneous\\\\Sample_For_PPT_to_DOCX_Conversion.pdf\""
   ]
  },
  {
   "cell_type": "code",
   "execution_count": 22,
   "id": "138479ed",
   "metadata": {},
   "outputs": [],
   "source": [
    "Powerpoint_Obj = comtypes.client.CreateObject(\"Powerpoint.Application\") # Create PPT Application Object"
   ]
  },
  {
   "cell_type": "code",
   "execution_count": 23,
   "id": "a566538d",
   "metadata": {},
   "outputs": [],
   "source": [
    "PPT_obj = Powerpoint_Obj.Presentations.Open(PPTX_File) # Open .pptx file"
   ]
  },
  {
   "cell_type": "code",
   "execution_count": 24,
   "id": "e94c7886",
   "metadata": {},
   "outputs": [
    {
     "data": {
      "text/plain": [
       "0"
      ]
     },
     "execution_count": 24,
     "metadata": {},
     "output_type": "execute_result"
    }
   ],
   "source": [
    "#Save as .docx file\n",
    "# Conversion code : 32\n",
    "PPT_obj.SaveAs(PDF_File, FileFormat=32)"
   ]
  },
  {
   "cell_type": "code",
   "execution_count": 25,
   "id": "a75bb33d",
   "metadata": {},
   "outputs": [
    {
     "data": {
      "text/plain": [
       "0"
      ]
     },
     "execution_count": 25,
     "metadata": {},
     "output_type": "execute_result"
    }
   ],
   "source": [
    "# Destroy PPT applications\n",
    "PPT_obj.Close()\n",
    "Powerpoint_Obj.Quit()"
   ]
  },
  {
   "cell_type": "code",
   "execution_count": 26,
   "id": "e60122b0",
   "metadata": {},
   "outputs": [],
   "source": [
    "import os\n",
    "os.unlink(PDF_File)"
   ]
  }
 ],
 "metadata": {
  "kernelspec": {
   "display_name": "Python 3 (ipykernel)",
   "language": "python",
   "name": "python3"
  },
  "language_info": {
   "codemirror_mode": {
    "name": "ipython",
    "version": 3
   },
   "file_extension": ".py",
   "mimetype": "text/x-python",
   "name": "python",
   "nbconvert_exporter": "python",
   "pygments_lexer": "ipython3",
   "version": "3.7.4"
  }
 },
 "nbformat": 4,
 "nbformat_minor": 5
}
