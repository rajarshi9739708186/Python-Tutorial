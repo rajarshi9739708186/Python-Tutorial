{
 "cells": [
  {
   "cell_type": "markdown",
   "id": "ce20f228",
   "metadata": {},
   "source": [
    "#### Convert .doc file into .docx"
   ]
  },
  {
   "cell_type": "markdown",
   "id": "99ea0cdf",
   "metadata": {},
   "source": [
    "package"
   ]
  },
  {
   "cell_type": "code",
   "execution_count": 7,
   "id": "0d45ee5a",
   "metadata": {},
   "outputs": [],
   "source": [
    "# pip install pywin32\n",
    "from win32com import client"
   ]
  },
  {
   "cell_type": "code",
   "execution_count": 20,
   "id": "a65f6941",
   "metadata": {},
   "outputs": [],
   "source": [
    "DOC_File = \"D:\\\\Study_Material\\\\Python\\\\Python_Miscellaneous\\\\Sample_For_DOC_to_DOCX_Conversion.doc\"\n",
    "DOCX_File = \"D:\\\\Study_Material\\\\Python\\\\Python_Miscellaneous\\\\Sample_For_DOC_to_DOCX_Conversion.docx\""
   ]
  },
  {
   "cell_type": "code",
   "execution_count": 21,
   "id": "4849be85",
   "metadata": {},
   "outputs": [],
   "source": [
    "MSWord_Application_object = client.Dispatch('Word.Application') # Create Word Application Object"
   ]
  },
  {
   "cell_type": "code",
   "execution_count": 22,
   "id": "8b4caa51",
   "metadata": {},
   "outputs": [],
   "source": [
    "DOC_obj = MSWord_Application_object.Documents.Open(DOC_File) # Open .doc file"
   ]
  },
  {
   "cell_type": "code",
   "execution_count": 23,
   "id": "9178bb47",
   "metadata": {},
   "outputs": [],
   "source": [
    "#Save as .docx file\n",
    "# Conversion code : 16\n",
    "DOC_obj.SaveAs(DOCX_File, FileFormat=16)"
   ]
  },
  {
   "cell_type": "code",
   "execution_count": 24,
   "id": "61984115",
   "metadata": {},
   "outputs": [],
   "source": [
    "MSWord_Application_object.Quit() # Destroy Word Application process"
   ]
  },
  {
   "cell_type": "code",
   "execution_count": 13,
   "id": "15fb7d0b",
   "metadata": {},
   "outputs": [],
   "source": [
    "import os\n",
    "os.unlink(DOCX_File)"
   ]
  }
 ],
 "metadata": {
  "kernelspec": {
   "display_name": "Python 3 (ipykernel)",
   "language": "python",
   "name": "python3"
  },
  "language_info": {
   "codemirror_mode": {
    "name": "ipython",
    "version": 3
   },
   "file_extension": ".py",
   "mimetype": "text/x-python",
   "name": "python",
   "nbconvert_exporter": "python",
   "pygments_lexer": "ipython3",
   "version": "3.7.4"
  }
 },
 "nbformat": 4,
 "nbformat_minor": 5
}
