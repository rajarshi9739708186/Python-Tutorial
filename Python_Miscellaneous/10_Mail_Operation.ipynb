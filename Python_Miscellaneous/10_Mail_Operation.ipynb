{
 "cells": [
  {
   "cell_type": "markdown",
   "id": "acce410e",
   "metadata": {},
   "source": [
    "#### Package"
   ]
  },
  {
   "cell_type": "code",
   "execution_count": 2,
   "id": "fa722ba1",
   "metadata": {},
   "outputs": [],
   "source": [
    "from smtplib import SMTP\n",
    "from email.mime.multipart import MIMEMultipart\n",
    "from email.mime.text import MIMEText"
   ]
  },
  {
   "cell_type": "code",
   "execution_count": 11,
   "id": "e6466e76",
   "metadata": {},
   "outputs": [],
   "source": [
    "def send_mail(FROM, TO, CC, MAIL_SUBJECT_TEXT, MAIL_BODY_HTML):\n",
    "    recipients = TO + \",\" + CC\n",
    "    recipients = recipients.replace(\" \", \"\")\n",
    "    recipients = recipients.split(\",\") # recipients mail id should be in List format\n",
    "    \n",
    "    msg = MIMEMultipart()\n",
    "    msg[\"From\"] = FROM # String Format. Single Mail ID\n",
    "    msg[\"To\"] = TO # String Format. All mail id should be comma separarted\n",
    "    msg[\"Cc\"] = CC # String Format. All mail id should be comma separarted\n",
    "    msg[\"Subject\"] = MAIL_SUBJECT_TEXT # String Format\n",
    "    \n",
    "    # Mail Body\n",
    "    Message = MIMEText(MAIL_BODY_HTML, \"html\") # String Format. HTML Code\n",
    "    msg.attach(Message)\n",
    "    \n",
    "    server = SMTP('smtp.gmail.com', 587) # For GMAIL\n",
    "    # server = SMTP('smtp.honeywell.com', 25) # For Honeywell Outlook\n",
    "    server.starttls()\n",
    "    # Need to enable access for Less secure apps\n",
    "    # https://www.google.com/settings/security/lesssecureapps\n",
    "    # To authenticate Login\n",
    "    # In case of Outlook, No need to Login\n",
    "    server.login(\"raharajarshi1089@gmail.com\", \"RajarshiRaha1987\")\n",
    "    server.sendmail(FROM, recipients, msg.as_string())\n",
    "    server.quit()\n",
    "    "
   ]
  },
  {
   "cell_type": "code",
   "execution_count": 10,
   "id": "46c0308c",
   "metadata": {},
   "outputs": [],
   "source": [
    "send_mail(\"raharajarshi1089@gmail.com\",\n",
    "         \"rajarshidocuments@gmail.com, rajarshi.purva@gmail.com\",\n",
    "         \"raharajarshi1089@gmail.com, rajarshirahajob@gmail.com\",\n",
    "         \"Test Mail\",\n",
    "         \"<h1>Mail Body</h1>\")"
   ]
  }
 ],
 "metadata": {
  "kernelspec": {
   "display_name": "Python 3 (ipykernel)",
   "language": "python",
   "name": "python3"
  },
  "language_info": {
   "codemirror_mode": {
    "name": "ipython",
    "version": 3
   },
   "file_extension": ".py",
   "mimetype": "text/x-python",
   "name": "python",
   "nbconvert_exporter": "python",
   "pygments_lexer": "ipython3",
   "version": "3.7.4"
  }
 },
 "nbformat": 4,
 "nbformat_minor": 5
}
